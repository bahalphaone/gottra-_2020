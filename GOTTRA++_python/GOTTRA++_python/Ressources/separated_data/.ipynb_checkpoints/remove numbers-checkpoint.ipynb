{
 "cells": [
  {
   "cell_type": "markdown",
   "metadata": {},
   "source": [
    "### Objectif: \n",
    "#### Construire des datasets en enlevant les stopwords.\n",
    "#### On se base sur les datasets sans chiffres séparés précédemment construits."
   ]
  },
  {
   "cell_type": "code",
   "execution_count": 19,
   "metadata": {
    "collapsed": true
   },
   "outputs": [
    {
     "name": "stdout",
     "output_type": "stream",
     "text": [
      "(1657,)\n",
      "(1657, 1619)\n"
     ]
    }
   ],
   "source": [
    "from nltk.corpus import stopwords\n",
    "import pandas as pd\n",
    "from sklearn.feature_extraction.text import CountVectorizer\n",
    "import csv \n",
    "\n",
    "train_text = pd.read_csv(\"scenarii_training_text_sans_chiffres.csv\", encoding=\"ISO-8859-1\")\n",
    "train_text = train_text[train_text.columns[0]]\n",
    "print(train_text.shape)\n",
    "cv = CountVectorizer()\n",
    "train_text_cc = cv.fit_transform(train_text)\n",
    "print(train_text_cc.toarray().shape)\n",
    "\n",
    "stopwords_fr = stopwords.words('french')\n",
    "cv_ss = CountVectorizer(stop_words = stopwords_fr)\n",
    "train_text = cv_ss.fit_transform(train_text).toarray()\n",
    "\n",
    "with open(\"scenarii_training_text_sans_chiffres_sans_stopwords.csv\", 'w+', newline='', encoding=\"ISO-8859-1\") as csvfile:\n",
    "    writer = csv.writer(csvfile)\n",
    "    for sentence in train_text:\n",
    "        writer.writerow(sentence)"
   ]
  },
  {
   "cell_type": "code",
   "execution_count": 34,
   "metadata": {},
   "outputs": [],
   "source": [
    "train_text = pd.read_csv(\"scenarii_training_text_sans_chiffres.csv\", encoding=\"ISO-8859-1\", header = None)\n",
    "train_text = train_text[train_text.columns[0]]\n",
    "\n",
    "with open(\"scenarii_training_text_sans_chiffres_sans_stopwords.csv\", 'w+', newline='', encoding=\"ISO-8859-1\") as csvfile:\n",
    "    writer = csv.writer(csvfile)\n",
    "    for sentence in train_text:\n",
    "        split = sentence.split(\" \")\n",
    "        for word in split:\n",
    "            if(word in stopwords.words('french')):\n",
    "                sentence = sentence.replace(\" \" + word + \" \", ' ')\n",
    "        writer.writerow([sentence])"
   ]
  },
  {
   "cell_type": "code",
   "execution_count": 26,
   "metadata": {
    "collapsed": true
   },
   "outputs": [
    {
     "name": "stdout",
     "output_type": "stream",
     "text": [
      "['au', 'aux', 'avec', 'ce', 'ces', 'dans', 'de', 'des', 'du', 'elle', 'en', 'et', 'eux', 'il', 'je', 'la', 'le', 'leur', 'lui', 'ma', 'mais', 'me', 'même', 'mes', 'moi', 'mon', 'ne', 'nos', 'notre', 'nous', 'on', 'ou', 'par', 'pas', 'pour', 'qu', 'que', 'qui', 'sa', 'se', 'ses', 'son', 'sur', 'ta', 'te', 'tes', 'toi', 'ton', 'tu', 'un', 'une', 'vos', 'votre', 'vous', 'c', 'd', 'j', 'l', 'à', 'm', 'n', 's', 't', 'y', 'été', 'étée', 'étées', 'étés', 'étant', 'étante', 'étants', 'étantes', 'suis', 'es', 'est', 'sommes', 'êtes', 'sont', 'serai', 'seras', 'sera', 'serons', 'serez', 'seront', 'serais', 'serait', 'serions', 'seriez', 'seraient', 'étais', 'était', 'étions', 'étiez', 'étaient', 'fus', 'fut', 'fûmes', 'fûtes', 'furent', 'sois', 'soit', 'soyons', 'soyez', 'soient', 'fusse', 'fusses', 'fût', 'fussions', 'fussiez', 'fussent', 'ayant', 'ayante', 'ayantes', 'ayants', 'eu', 'eue', 'eues', 'eus', 'ai', 'as', 'avons', 'avez', 'ont', 'aurai', 'auras', 'aura', 'aurons', 'aurez', 'auront', 'aurais', 'aurait', 'aurions', 'auriez', 'auraient', 'avais', 'avait', 'avions', 'aviez', 'avaient', 'eut', 'eûmes', 'eûtes', 'eurent', 'aie', 'aies', 'ait', 'ayons', 'ayez', 'aient', 'eusse', 'eusses', 'eût', 'eussions', 'eussiez', 'eussent']\n",
      "155\n"
     ]
    }
   ],
   "source": [
    "print(stopwords.words('french'))\n",
    "print(len(stopwords.words('french')))"
   ]
  },
  {
   "cell_type": "code",
   "execution_count": null,
   "metadata": {},
   "outputs": [],
   "source": []
  }
 ],
 "metadata": {
  "kernelspec": {
   "display_name": "Python 3",
   "language": "python",
   "name": "python3"
  },
  "language_info": {
   "codemirror_mode": {
    "name": "ipython",
    "version": 3
   },
   "file_extension": ".py",
   "mimetype": "text/x-python",
   "name": "python",
   "nbconvert_exporter": "python",
   "pygments_lexer": "ipython3",
   "version": "3.6.4"
  }
 },
 "nbformat": 4,
 "nbformat_minor": 2
}
