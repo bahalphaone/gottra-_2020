{
 "cells": [
  {
   "cell_type": "markdown",
   "metadata": {},
   "source": [
    "### Objectif: \n",
    "#### Séparer les données en apprentissage et testing, avec et sans stopwords"
   ]
  },
  {
   "cell_type": "code",
   "execution_count": 27,
   "metadata": {},
   "outputs": [],
   "source": [
    "import pandas as pd\n",
    "import csv \n",
    "from sklearn.feature_extraction.text import CountVectorizer\n",
    "from nltk.corpus import stopwords\n",
    "\n",
    "data = pd.read_csv('../Ressources/scenarii.csv', encoding=\"ISO-8859-1\", sep=\";\", header = 0)\n",
    "\n",
    "#mélanger les données aléatoirement\n",
    "data = data.sample(frac=1) \n",
    "\n",
    "#70% des données seront pour l'apprentissage, 30% pour le testing\n",
    "train_size = int(len(data) * 0.7)\n",
    "train_data = data['texte'][:train_size]\n",
    "test_data = data['texte'][train_size:]\n",
    "train_tags = data['tag'][:train_size]\n",
    "test_tags = data['tag'][train_size:]"
   ]
  },
  {
   "cell_type": "code",
   "execution_count": null,
   "metadata": {},
   "outputs": [],
   "source": [
    "#création des datasets avec stopwords\n",
    "with open('../Ressources/separated_data/scenarii_training_text.csv', 'w', newline='', encoding=\"ISO-8859-1\") as csvfile:\n",
    "    writer = csv.writer(csvfile)\n",
    "    for line in train_data:\n",
    "        writer.writerow([line])\n",
    "with open('../Ressources/separated_data/scenarii_training_tags.csv', 'w', newline='', encoding=\"ISO-8859-1\") as csvfile:\n",
    "    writer = csv.writer(csvfile)\n",
    "    for line in train_tags:\n",
    "        writer.writerow([line])        \n",
    "with open('../Ressources/separated_data/scenarii_testing_text.csv', 'w', newline='', encoding=\"ISO-8859-1\") as csvfile:\n",
    "    writer = csv.writer(csvfile)\n",
    "    for line in test_data:\n",
    "        writer.writerow([line])\n",
    "with open('../Ressources/separated_data/scenarii_testing_tags.csv', 'w', newline='', encoding=\"ISO-8859-1\") as csvfile:\n",
    "    writer = csv.writer(csvfile)\n",
    "    for line in test_tags:\n",
    "        writer.writerow([line]) "
   ]
  },
  {
   "cell_type": "code",
   "execution_count": 28,
   "metadata": {
    "collapsed": true
   },
   "outputs": [
    {
     "name": "stdout",
     "output_type": "stream",
     "text": [
      "1223    Cas dutilisation décrivant la consultation de...\n",
      "953     \\tRègles de gestion :\\nLe document audio par ...\n",
      "1031    Cas dutilisation décrivant la consultation de...\n",
      "1561        4.17\\tRègles daffichage dune notice [LOT 3]\n",
      "2051    \\tRègles de gestion\\nLe bloc saffiche si lé...\n",
      "478     \\tRègles de gestion\\nSi le nombre dentités a...\n",
      "1346                                    Facette Personnes\n",
      "895     \\tRègles de gestion :\\nSi linternaute consul...\n",
      "1449    Règles de gestions\\n\\tIl ny a pas de pagination\n",
      "1970                 5.5.6\\tAfficher un événement [LOT 2]\n",
      "1444    Actions\\n\\tUn click sur le titre ou la vignet...\n",
      "265     \\tActions :\\nAu clic sur licône Plus, le sys...\n",
      "148     4.2.2.d\\tCU002-012 Contribuer une image de rem...\n",
      "1262                                  Acteur : Internaute\n",
      "2043       Position 1\\tPosition 2\\tPosition 3\\tPosition 4\n",
      "558     Le titre\\nLe sous-titre\\nLe pays évoqué\\nUn bo...\n",
      "0       4.\\tVersion Desktop - liste des cas d'utilisat...\n",
      "307                Acteur : Administrateur / Contributeur\n",
      "1415    Le système affiche :\\n\\tLe nombre déléments ...\n",
      "585     4.6.7.d\\tCU006-022 Afficher les éléments dun ...\n",
      "412     Cas dutilisation décrivant la consultation de...\n",
      "2022    Cas dutilisation décrivant la consultation de...\n",
      "1532    Règles de gestions\\n\\tLe second tri appliqué ...\n",
      "2339                  5.10.1.a\\tNaviguer dans un parcours\n",
      "2017                                  Acteur : Internaute\n",
      "910       4.9.4.b\\tCU009-005 Afficher la liste des vidéos\n",
      "1972    5.5.6.a\\tCU105  019 Afficher les éléments du...\n",
      "1581    Notes\\n\\tPour une notice de type « Archives »...\n",
      "1975    Linternaute arrive sur la page du site lorsqu...\n",
      "2150    Linternaute arrive sur la page du site lorsqu...\n",
      "                              ...                        \n",
      "2292    5.8.10\\tAfficher la lettre dinformation (news...\n",
      "1615    \\tRègles de gestion :\\nSi la langue sélection...\n",
      "1276    Les catégories peuvent être traduites en angla...\n",
      "14      Cas dutilisation permettant à un internaute  ...\n",
      "1668    \\tActions :\\nLutilisateur ne peut pas effect...\n",
      "1927    \\tRègles de gestion\\nUn événement saffiche d...\n",
      "1893    \\tNotes :\\nPar défaut, le système affiche la ...\n",
      "1331    Notes\\n\\tLe système affiche un champ de reche...\n",
      "1860    \\tNotes\\nLe système affiche lensemble des en...\n",
      "2253    5.8.7.d\\tCU009-4025 Afficher le document dans ...\n",
      "378     4.4.1\\tCU004-001 Afficher les collections sur ...\n",
      "1550    Pour chaque typologie de résultats, les champs...\n",
      "39                 Acteur : Administrateur / Contributeur\n",
      "1099               4.9.16.a\\tCU009-502 Afficher le filtre\n",
      "185     Cas dutilisation décrivant la consultation d...\n",
      "2182                                  Acteur : Internaute\n",
      "1942                                  Acteur : Internaute\n",
      "634     Voir cas dutilisation Afficher un bloc En sav...\n",
      "879     4.8.1.f\\tCU008-006 Afficher le menu de navigat...\n",
      "1217                  4.13.1.a\\tNaviguer dans un parcours\n",
      "1406    Actions\\n\\tUn click sur le titre ou la vignet...\n",
      "722     Cas dutilisation décrivant la contribution d...\n",
      "2180    \\tRègles de gestion :\\nLe système affiche la/...\n",
      "1635    \\tActions : linternaute est redirigé vers la...\n",
      "69      \\tNotes :\\nLutilisateur peut créer un lien d...\n",
      "775     Lutilisateur peut ajouter un élément texte, u...\n",
      "616     \\tNotes :\\nle système affiche en colonne de d...\n",
      "212                                   Acteur : Internaute\n",
      "1321                             Lien daccès aux favoris\n",
      "1347    Notes\\n\\tLe système affiche un champ de reche...\n",
      "Name: texte, Length: 1667, dtype: object\n"
     ]
    }
   ],
   "source": [
    "#on enlève les stopwords\n",
    "stopwords_fr = stopwords.words('french')\n",
    "train_data = train_data.str.split()\n",
    "train_data = train_data.apply(lambda x:' '.join([item for item in x if item not in stopwords_fr]))\n",
    "test_data = test_data.str.split()\n",
    "test_data = test_data.apply(lambda x:' '.join([item for item in x if item not in stopwords_fr]))"
   ]
  },
  {
   "cell_type": "code",
   "execution_count": null,
   "metadata": {},
   "outputs": [],
   "source": [
    "#création des datasets sans stopwords\n",
    "with open('../Ressources/separated_data_sans_stopwords/scenarii_training_text.csv', 'w', newline='', encoding=\"ISO-8859-1\") as csvfile:\n",
    "    writer = csv.writer(csvfile)\n",
    "    for line in train_data:\n",
    "        writer.writerow([line])\n",
    "with open('../Ressources/separated_data_sans_stopwords/scenarii_training_tags.csv', 'w', newline='', encoding=\"ISO-8859-1\") as csvfile:\n",
    "    writer = csv.writer(csvfile)\n",
    "    for line in train_tags:\n",
    "        writer.writerow([line])        \n",
    "with open('../Ressources/separated_data_sans_stopwords/scenarii_testing_text.csv', 'w', newline='', encoding=\"ISO-8859-1\") as csvfile:\n",
    "    writer = csv.writer(csvfile)\n",
    "    for line in test_data:\n",
    "        writer.writerow([line])\n",
    "with open('../Ressources/separated_data_sans_stopwords/scenarii_testing_tags.csv', 'w', newline='', encoding=\"ISO-8859-1\") as csvfile:\n",
    "    writer = csv.writer(csvfile)\n",
    "    for line in test_tags:\n",
    "        writer.writerow([line]) "
   ]
  }
 ],
 "metadata": {
  "kernelspec": {
   "display_name": "Python 3",
   "language": "python",
   "name": "python3"
  },
  "language_info": {
   "codemirror_mode": {
    "name": "ipython",
    "version": 3
   },
   "file_extension": ".py",
   "mimetype": "text/x-python",
   "name": "python",
   "nbconvert_exporter": "python",
   "pygments_lexer": "ipython3",
   "version": "3.6.4"
  }
 },
 "nbformat": 4,
 "nbformat_minor": 2
}
