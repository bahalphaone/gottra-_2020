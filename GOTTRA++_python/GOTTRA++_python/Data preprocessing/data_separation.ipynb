{
 "cells": [
  {
   "cell_type": "markdown",
   "metadata": {},
   "source": [
    "### Objectif: \n",
    "#### Séparer les données en apprentissage et testing, avec et sans stopwords"
   ]
  },
  {
   "cell_type": "code",
   "execution_count": 1,
   "metadata": {},
   "outputs": [],
   "source": [
    "import pandas as pd\n",
    "import csv \n",
    "from sklearn.feature_extraction.text import CountVectorizer\n",
    "from nltk.corpus import stopwords\n",
    "\n",
    "data = pd.read_csv('../Ressources/scenarii.csv', encoding=\"ISO-8859-1\", sep=\";\", header = 0)\n",
    "\n",
    "#mélanger les données aléatoirement\n",
    "data = data.sample(frac=1) \n",
    "\n",
    "#70% des données seront pour l'apprentissage, 30% pour le testing\n",
    "train_size = int(len(data) * 0.7)\n",
    "train_data = data['texte'][:train_size]\n",
    "test_data = data['texte'][train_size:]\n",
    "train_tags = data['tag'][:train_size]\n",
    "test_tags = data['tag'][train_size:]"
   ]
  },
  {
   "cell_type": "code",
   "execution_count": 2,
   "metadata": {},
   "outputs": [],
   "source": [
    "#création des datasets avec stopwords\n",
    "with open('../Ressources/separated_data/scenarii_training_text.csv', 'w', newline='', encoding=\"ISO-8859-1\") as csvfile:\n",
    "    writer = csv.writer(csvfile)\n",
    "    for line in train_data:\n",
    "        writer.writerow([line])\n",
    "with open('../Ressources/separated_data/scenarii_training_tags.csv', 'w', newline='', encoding=\"ISO-8859-1\") as csvfile:\n",
    "    writer = csv.writer(csvfile)\n",
    "    for line in train_tags:\n",
    "        writer.writerow([line])        \n",
    "with open('../Ressources/separated_data/scenarii_testing_text.csv', 'w', newline='', encoding=\"ISO-8859-1\") as csvfile:\n",
    "    writer = csv.writer(csvfile)\n",
    "    for line in test_data:\n",
    "        writer.writerow([line])\n",
    "with open('../Ressources/separated_data/scenarii_testing_tags.csv', 'w', newline='', encoding=\"ISO-8859-1\") as csvfile:\n",
    "    writer = csv.writer(csvfile)\n",
    "    for line in test_tags:\n",
    "        writer.writerow([line]) "
   ]
  },
  {
   "cell_type": "code",
   "execution_count": 3,
   "metadata": {},
   "outputs": [],
   "source": [
    "#on enlève les stopwords\n",
    "stopwords_fr = stopwords.words('french')\n",
    "train_data = train_data.str.split()\n",
    "train_data = train_data.apply(lambda x:' '.join([item for item in x if item not in stopwords_fr]))\n",
    "test_data = test_data.str.split()\n",
    "test_data = test_data.apply(lambda x:' '.join([item for item in x if item not in stopwords_fr]))"
   ]
  },
  {
   "cell_type": "code",
   "execution_count": 4,
   "metadata": {},
   "outputs": [],
   "source": [
    "#création des datasets sans stopwords\n",
    "with open('../Ressources/separated_data_sans_stopwords/scenarii_training_text.csv', 'w', newline='', encoding=\"ISO-8859-1\") as csvfile:\n",
    "    writer = csv.writer(csvfile)\n",
    "    for line in train_data:\n",
    "        writer.writerow([line])\n",
    "with open('../Ressources/separated_data_sans_stopwords/scenarii_training_tags.csv', 'w', newline='', encoding=\"ISO-8859-1\") as csvfile:\n",
    "    writer = csv.writer(csvfile)\n",
    "    for line in train_tags:\n",
    "        writer.writerow([line])        \n",
    "with open('../Ressources/separated_data_sans_stopwords/scenarii_testing_text.csv', 'w', newline='', encoding=\"ISO-8859-1\") as csvfile:\n",
    "    writer = csv.writer(csvfile)\n",
    "    for line in test_data:\n",
    "        writer.writerow([line])\n",
    "with open('../Ressources/separated_data_sans_stopwords/scenarii_testing_tags.csv', 'w', newline='', encoding=\"ISO-8859-1\") as csvfile:\n",
    "    writer = csv.writer(csvfile)\n",
    "    for line in test_tags:\n",
    "        writer.writerow([line]) "
   ]
  }
 ],
 "metadata": {
  "kernelspec": {
   "display_name": "Python 3",
   "language": "python",
   "name": "python3"
  },
  "language_info": {
   "codemirror_mode": {
    "name": "ipython",
    "version": 3
   },
   "file_extension": ".py",
   "mimetype": "text/x-python",
   "name": "python",
   "nbconvert_exporter": "python",
   "pygments_lexer": "ipython3",
   "version": "3.6.4"
  }
 },
 "nbformat": 4,
 "nbformat_minor": 2
}
