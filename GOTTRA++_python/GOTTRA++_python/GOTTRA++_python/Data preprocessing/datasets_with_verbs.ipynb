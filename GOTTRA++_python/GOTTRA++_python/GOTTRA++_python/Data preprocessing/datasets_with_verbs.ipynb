{
 "cells": [
  {
   "cell_type": "markdown",
   "metadata": {},
   "source": [
    "### Objectif: \n",
    "#### Génération de datasets avec comme feature les verbes du document, en utilisant les datasets précédemment construits et en enlevant tous les autres mots des features"
   ]
  },
  {
   "cell_type": "code",
   "execution_count": 1,
   "metadata": {},
   "outputs": [],
   "source": [
    "import treetaggerwrapper as tt\n",
    "tt_fr = tt.TreeTagger(TAGLANG='fr',TAGDIR='C:/TreeTagger')\n",
    "import pandas as pd \n",
    "import csv\n",
    "import numpy as np\n",
    "import pandas as pd\n",
    "from sklearn.feature_extraction.text import CountVectorizer\n",
    "from sklearn.feature_extraction.text import TfidfTransformer\n",
    "\n",
    "def matrix_with_verbs():\n",
    "    train_data = pd.read_csv('../Ressources/separated_data/scenarii_training_text.csv', encoding=\"ISO-8859-1\")\n",
    "    train_tags = pd.read_csv('../Ressources/separated_data/scenarii_training_tags.csv', encoding=\"ISO-8859-1\")\n",
    "    test_data = pd.read_csv('../Ressources/separated_data/scenarii_testing_text.csv', encoding=\"ISO-8859-1\")\n",
    "    test_tags = pd.read_csv('../Ressources/separated_data/scenarii_testing_tags.csv', encoding=\"ISO-8859-1\")\n",
    "\n",
    "    train_data = train_data[train_data.columns[0]]\n",
    "    train_tags = train_tags[train_tags.columns[0]]\n",
    "    test_data = test_data[test_data.columns[0]]\n",
    "    test_tags = test_tags[test_tags.columns[0]]\n",
    "    \n",
    "    verbes = list()\n",
    "    for sentence in train_data:\n",
    "        tags = tt_fr.TagText(sentence)\n",
    "        for word in tags:\n",
    "            if(len(word.split(\"\\t\")) > 1):\n",
    "                POS = word.split(\"\\t\")[1]\n",
    "                word = word.split(\"\\t\")[0]\n",
    "                if(\"VER\" in POS):\n",
    "                    if(word not in verbes):\n",
    "                        verbes.append(word)\n",
    "    print(len(verbes))\n",
    "    cv = CountVectorizer(vocabulary=verbes)\n",
    "    matrix = cv.fit_transform(train_data).toarray()\n",
    "    test_data = cv.fit_transform(test_data).toarray()\n",
    "    print(matrix.shape)\n",
    "    return (matrix, train_tags, test_data, test_tags, cv.get_feature_names())"
   ]
  },
  {
   "cell_type": "code",
   "execution_count": 2,
   "metadata": {},
   "outputs": [
    {
     "name": "stdout",
     "output_type": "stream",
     "text": [
      "565\n",
      "(1666, 565)\n"
     ]
    }
   ],
   "source": [
    "resultat = matrix_with_verbs()\n",
    "with open('../Ressources/data_verbs_only/training_matrix_with_verbs.csv', 'w', newline='', encoding='ISO-8859-1') as csvfile:\n",
    "    writer = csv.writer(csvfile)\n",
    "    writer.writerow(resultat[4])\n",
    "    for line in resultat[0]:\n",
    "        l = line.tolist()\n",
    "        writer.writerow(l)\n",
    "with open('../Ressources/data_verbs_only/training_tags_with_verbs.csv', 'w', newline='', encoding='ISO-8859-1') as csvfile:\n",
    "    writer = csv.writer(csvfile)\n",
    "    for line in resultat[1]:\n",
    "        writer.writerow([line])\n",
    "with open('../Ressources/data_verbs_only/testing_text_with_verbs.csv', 'w', newline='', encoding='ISO-8859-1') as csvfile:\n",
    "    writer = csv.writer(csvfile)\n",
    "    for line in resultat[2]:\n",
    "        l = line.tolist()\n",
    "        writer.writerow(l)\n",
    "with open('../Ressources/data_verbs_only/testing_tags_with_verbs.csv', 'w', newline='', encoding='ISO-8859-1') as csvfile:\n",
    "    writer = csv.writer(csvfile)\n",
    "    for line in resultat[3]:\n",
    "        writer.writerow([line])"
   ]
  },
  {
   "cell_type": "code",
   "execution_count": null,
   "metadata": {},
   "outputs": [],
   "source": []
  }
 ],
 "metadata": {
  "kernelspec": {
   "display_name": "Python 3",
   "language": "python",
   "name": "python3"
  },
  "language_info": {
   "codemirror_mode": {
    "name": "ipython",
    "version": 3
   },
   "file_extension": ".py",
   "mimetype": "text/x-python",
   "name": "python",
   "nbconvert_exporter": "python",
   "pygments_lexer": "ipython3",
   "version": "3.6.4"
  }
 },
 "nbformat": 4,
 "nbformat_minor": 2
}
