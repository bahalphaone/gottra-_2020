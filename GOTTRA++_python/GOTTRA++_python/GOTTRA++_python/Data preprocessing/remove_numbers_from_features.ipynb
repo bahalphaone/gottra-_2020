{
 "cells": [
  {
   "cell_type": "markdown",
   "metadata": {},
   "source": [
    "### Objectif: \n",
    "#### Construire des datasets en enlevant les mots contenant des chiffres des features, comme ils sont très nombreux et, dans la majorité des cas, ne sont pas significatifs. \n",
    "#### On se base sur les datasets séparés précédemment construits."
   ]
  },
  {
   "cell_type": "code",
   "execution_count": 1,
   "metadata": {},
   "outputs": [],
   "source": [
    "#vérifier si inputString contient des chiffres\n",
    "def hasNumbers(inputString):\n",
    "    return any(char.isdigit() for char in inputString)"
   ]
  },
  {
   "cell_type": "code",
   "execution_count": 2,
   "metadata": {},
   "outputs": [],
   "source": [
    "import pandas as pd \n",
    "import csv \n",
    "\n",
    "df = pd.read_csv('../Ressources/separated_data/scenarii_training_text.csv', 'r', encoding='ISO-8859-1', delimiter=\";\", header = None) \n",
    "df = df[df.columns[0]]\n",
    "i = 0\n",
    "#tableau des indices des lignes à enlever: celles qui deviennent vides après avoir enlevé les mots contenant des chiffres\n",
    "removed = []\n",
    "with open('../Ressources/separated_data/scenarii_training_text_sans_chiffres.csv', 'w+', encoding='ISO-8859-1', newline='') as file:\n",
    "    writer = csv.writer(file)\n",
    "    for sentence in df:\n",
    "        sentence = sentence.rstrip()\n",
    "        for word in sentence.split(\" \"):\n",
    "            if(hasNumbers(word)):\n",
    "                sentence = sentence.replace(word, '')\n",
    "        if((bool(sentence)) & (sentence != '\\n') & (not sentence.isspace())):\n",
    "            writer.writerow([sentence])\n",
    "            i = i + 1\n",
    "        else:\n",
    "            removed.append(i)\n",
    "i = 0\n",
    "#enlever les tags dont les lignes correspondantes on été enlevées dans l'étape précédente\n",
    "with open('../Ressources/separated_data/scenarii_training_tags.csv', 'r', encoding='ISO-8859-1') as csvfile:\n",
    "    with open('../Ressources/separated_data/scenarii_training_tags_sans_chiffres.csv', 'w+', encoding='ISO-8859-1', newline='') as file:\n",
    "        writer = csv.writer(file)\n",
    "        for row in csvfile:\n",
    "            if i not in removed:\n",
    "                writer.writerow([row.rstrip()])\n",
    "            i = i + 1"
   ]
  },
  {
   "cell_type": "code",
   "execution_count": 3,
   "metadata": {},
   "outputs": [],
   "source": [
    "df = pd.read_csv('../Ressources/separated_data/scenarii_testing_text.csv', 'r', encoding='ISO-8859-1', delimiter=\";\", header = None) \n",
    "df = df[df.columns[0]]\n",
    "i = 0\n",
    "#tableau des indices des lignes à enlever: celles qui deviennent vides après avoir enlevé les mots contenant des chiffres\n",
    "removed = []\n",
    "with open('../Ressources/separated_data/scenarii_testing_text_sans_chiffres.csv', 'w+', encoding='ISO-8859-1', newline='') as file:\n",
    "    writer = csv.writer(file)\n",
    "    for sentence in df:\n",
    "        sentence = sentence.rstrip()\n",
    "        for word in sentence.split(\" \"):\n",
    "            if(hasNumbers(word)):\n",
    "                sentence = sentence.replace(word, '')\n",
    "        if((bool(sentence)) & (sentence != '\\n') & (not sentence.isspace())):\n",
    "            writer.writerow([sentence])\n",
    "            i = i + 1\n",
    "        else:\n",
    "            removed.append(i)\n",
    "i = 0\n",
    "#enlever les tags dont les lignes correspondantes on été enlevées dans l'étape précédente\n",
    "with open('../Ressources/separated_data/scenarii_testing_tags.csv', 'r', encoding='ISO-8859-1') as csvfile:\n",
    "    with open('../Ressources/separated_data/scenarii_testing_tags_sans_chiffres.csv', 'w+', encoding='ISO-8859-1', newline='') as file:\n",
    "        writer = csv.writer(file)\n",
    "        for row in csvfile:\n",
    "            if i not in removed:\n",
    "                writer.writerow([row.rstrip()])\n",
    "            i = i + 1"
   ]
  },
  {
   "cell_type": "code",
   "execution_count": null,
   "metadata": {},
   "outputs": [],
   "source": []
  }
 ],
 "metadata": {
  "kernelspec": {
   "display_name": "Python 3",
   "language": "python",
   "name": "python3"
  },
  "language_info": {
   "codemirror_mode": {
    "name": "ipython",
    "version": 3
   },
   "file_extension": ".py",
   "mimetype": "text/x-python",
   "name": "python",
   "nbconvert_exporter": "python",
   "pygments_lexer": "ipython3",
   "version": "3.6.4"
  }
 },
 "nbformat": 4,
 "nbformat_minor": 2
}
