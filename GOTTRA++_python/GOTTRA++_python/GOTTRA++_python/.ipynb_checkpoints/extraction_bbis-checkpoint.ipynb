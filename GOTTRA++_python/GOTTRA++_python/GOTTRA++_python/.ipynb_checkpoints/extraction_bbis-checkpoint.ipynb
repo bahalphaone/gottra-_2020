{
 "cells": [
  {
   "cell_type": "code",
   "execution_count": null,
   "metadata": {},
   "outputs": [],
   "source": [
    "def get_actors():\n",
    "    cnx = mysql.connector.connect(**config)\n",
    "    cursor = cnx.cursor()\n",
    "    query = (\"SELECT nom FROM acteur\")\n",
    "    cursor.execute(query)\n",
    "    acteurs = [act[0] for act in cursor]\n",
    "    cursor.close()\n",
    "    cnx.close()    \n",
    "    return acteurs\n",
    "\n",
    "def get_actions():\n",
    "    cnx = mysql.connector.connect(**config)\n",
    "    cursor = cnx.cursor()\n",
    "    query = (\"SELECT full_text FROM action\")\n",
    "    cursor.execute(query)\n",
    "    actions = [act[0] for act in cursor]\n",
    "    cursor.close()\n",
    "    cnx.close()    \n",
    "    return actions\n",
    "\n",
    "def get_rules():\n",
    "    cnx = mysql.connector.connect(**config)\n",
    "    cursor = cnx.cursor()\n",
    "    query = (\"SELECT texte FROM rgestion\")\n",
    "    cursor.execute(query)\n",
    "    regles = [reg[0] for reg in cursor]\n",
    "    cursor.close()\n",
    "    cnx.close()    \n",
    "    return regles\n",
    "\n",
    "def get_cases():\n",
    "    cnx = mysql.connector.connect(**config)\n",
    "    cursor = cnx.cursor()\n",
    "    query = (\"SELECT titre FROM usecase\")\n",
    "    cursor.execute(query)\n",
    "    cas = [c[0] for c in cursor]\n",
    "    cursor.close()\n",
    "    cnx.close()    \n",
    "    return cas"
   ]
  },
  {
   "cell_type": "code",
   "execution_count": null,
   "metadata": {},
   "outputs": [],
   "source": [
    "rules = get_rules()\n",
    "with open('scenarii.csv', 'w+', newline = '') as f:\n",
    "    spamwriter = csv.writer(f, delimiter = \";\")\n",
    "    spamwriter.writerow([\"texte\", \"tag\"])\n",
    "    for rule in rules:\n",
    "        if(rule):\n",
    "            spamwriter.writerow([str(rule), \"gestion\"])\n",
    "        \n",
    "cases = get_cases()\n",
    "with open('scenarii.csv', 'a', newline = '') as f:\n",
    "    spamwriter = csv.writer(f, delimiter = \";\")\n",
    "    for cas in cases:\n",
    "        if(cas):\n",
    "            spamwriter.writerow([str(cas), \"cas\"])\n",
    "    \n",
    "actions = get_actions()\n",
    "with open('scenarii.csv', 'a', newline = '') as f:\n",
    "    spamwriter = csv.writer(f, delimiter = \";\")\n",
    "    for action in actions:\n",
    "        if(action):\n",
    "            spamwriter.writerow([str(action), \"action\"])"
   ]
  },
  {
   "cell_type": "code",
   "execution_count": null,
   "metadata": {},
   "outputs": [],
   "source": [
    "actors = get_actors()\n",
    "with open('scenarii.csv', 'a', newline = '') as f:\n",
    "    spamwriter = csv.writer(f, delimiter = \";\")\n",
    "    for actor in actors:\n",
    "        if(actor):\n",
    "            spamwriter.writerow([str(cas), \"acteur\"])"
   ]
  }
 ],
 "metadata": {
  "kernelspec": {
   "display_name": "Python 3",
   "language": "python",
   "name": "python3"
  },
  "language_info": {
   "codemirror_mode": {
    "name": "ipython",
    "version": 3
   },
   "file_extension": ".py",
   "mimetype": "text/x-python",
   "name": "python",
   "nbconvert_exporter": "python",
   "pygments_lexer": "ipython3",
   "version": "3.6.4"
  }
 },
 "nbformat": 4,
 "nbformat_minor": 2
}
