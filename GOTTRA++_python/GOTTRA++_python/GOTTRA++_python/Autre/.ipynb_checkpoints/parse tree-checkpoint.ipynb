{
 "cells": [
  {
   "cell_type": "code",
   "execution_count": 1,
   "metadata": {},
   "outputs": [
    {
     "name": "stdout",
     "output_type": "stream",
     "text": [
      "Un det utilisateur NOUN []\n",
      "utilisateur ROOT utilisateur NOUN [Un, clique, bouton, .]\n",
      "clique amod utilisateur NOUN []\n",
      "sur case bouton NOUN []\n",
      "le det bouton NOUN []\n",
      "bouton nmod utilisateur NOUN [sur, le]\n",
      ". punct utilisateur NOUN []\n"
     ]
    }
   ],
   "source": [
    "import spacy\n",
    "\n",
    "nlp = spacy.load('fr_core_news_sm')\n",
    "doc = nlp(u\"Un utilisateur clique sur le bouton.\")\n",
    "\n",
    "for token in doc:\n",
    "    print(token.text, token.dep_, token.head.text, token.head.pos_,\n",
    "          [child for child in token.children])"
   ]
  },
  {
   "cell_type": "code",
   "execution_count": 8,
   "metadata": {},
   "outputs": [
    {
     "name": "stdout",
     "output_type": "stream",
     "text": [
      "Il nsubj clique VERB []\n",
      "clique ROOT clique VERB [Il, bouton, .]\n",
      "sur case bouton NOUN []\n",
      "le det bouton NOUN []\n",
      "bouton obl clique VERB [sur, le]\n",
      ". punct clique VERB []\n"
     ]
    }
   ],
   "source": [
    "nlp = spacy.load('fr_core_news_sm')\n",
    "doc = nlp(u\"Il clique sur le bouton.\")\n",
    "\n",
    "for token in doc:\n",
    "    print(token.text, token.dep_, token.head.text, token.head.pos_,\n",
    "          [child for child in token.children])"
   ]
  },
  {
   "cell_type": "code",
   "execution_count": 22,
   "metadata": {},
   "outputs": [],
   "source": [
    "import treetaggerwrapper as tt\n",
    "\n",
    "phrase = \"Un clic sur un bouton de réseaux sociaux permet à utilisateur d'accéder au réseau social concerné (dans une nouvelle fenêtre)\"\n",
    "tt_fr = tt.TreeTagger(TAGLANG='fr')\n",
    "tags = tt_fr.TagText(phrase)\n",
    "tags\n"
   ]
  },
  {
   "cell_type": "code",
   "execution_count": 23,
   "metadata": {},
   "outputs": [
    {
     "data": {
      "text/plain": [
       "['Un\\tDET:ART\\tun',\n",
       " 'clic\\tNOM\\tclic',\n",
       " 'sur\\tPRP\\tsur',\n",
       " 'un\\tDET:ART\\tun',\n",
       " 'bouton\\tNOM\\tbouton',\n",
       " 'de\\tPRP\\tde',\n",
       " 'réseaux\\tNOM\\tréseau',\n",
       " 'sociaux\\tADJ\\tsocial',\n",
       " 'permet\\tVER:pres\\tpermettre',\n",
       " 'à\\tPRP\\tà',\n",
       " 'utilisateur\\tADJ\\tutilisateur',\n",
       " \"d'\\tPRP\\tde\",\n",
       " 'accéder\\tVER:infi\\taccéder',\n",
       " 'au\\tPRP:det\\tau',\n",
       " 'réseau\\tNOM\\tréseau',\n",
       " 'social\\tADJ\\tsocial',\n",
       " 'concerné\\tVER:pper\\tconcerner',\n",
       " '(\\tPUN\\t(',\n",
       " 'dans\\tPRP\\tdans',\n",
       " 'une\\tDET:ART\\tun',\n",
       " 'nouvelle\\tADJ\\tnouveau',\n",
       " 'fenêtre\\tNOM\\tfenêtre',\n",
       " ')\\tPUN\\t)']"
      ]
     },
     "execution_count": 23,
     "metadata": {},
     "output_type": "execute_result"
    }
   ],
   "source": []
  },
  {
   "cell_type": "code",
   "execution_count": null,
   "metadata": {},
   "outputs": [],
   "source": [
    "for word in tags:\n",
    "        if(len(word.split(\"\\t\")) > 1):\n",
    "            POS = word.split(\"\\t\")[1]\n",
    "            word = word.split(\"\\t\")[2]\n",
    "            if(\"VER\" in POS):\n",
    "                with open('../Ressources/verbes_cs.txt') as actions:\n",
    "                    print(\"verbe: \" + word)\n",
    "                    word_ = word.upper().replace(' ', '')\n",
    "                    sims = [(similar(word_, action), action) for action in actions]\n",
    "                    res = max(sims)\n",
    "                    if(res[0] > 0.8):\n",
    "                        print(word_ + ' est similaire à ' + res[1] + \"Score: \" + str(res[0]) + \"\\n\")\n",
    "                        return word\n",
    "    return ''"
   ]
  }
 ],
 "metadata": {
  "kernelspec": {
   "display_name": "Python 3",
   "language": "python",
   "name": "python3"
  },
  "language_info": {
   "codemirror_mode": {
    "name": "ipython",
    "version": 3
   },
   "file_extension": ".py",
   "mimetype": "text/x-python",
   "name": "python",
   "nbconvert_exporter": "python",
   "pygments_lexer": "ipython3",
   "version": "3.6.4"
  }
 },
 "nbformat": 4,
 "nbformat_minor": 2
}
