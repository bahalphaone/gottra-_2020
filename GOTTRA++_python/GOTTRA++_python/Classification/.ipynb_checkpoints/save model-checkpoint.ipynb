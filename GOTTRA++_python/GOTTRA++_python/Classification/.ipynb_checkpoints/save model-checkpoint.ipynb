{
 "cells": [
  {
   "cell_type": "code",
   "execution_count": null,
   "metadata": {},
   "outputs": [],
   "source": [
    "#enregistrer le modèle\n",
    "from sklearn.externals import joblib\n",
    "filename = 'Models/naive_bayes_trained_with_stopwords.pkl'\n",
    "joblib.dump(text_clf, filename) #text_clf est le classifieur à enregistrer"
   ]
  },
  {
   "cell_type": "code",
   "execution_count": null,
   "metadata": {},
   "outputs": [],
   "source": [
    "#charger le modèle\n",
    "clf = joblib.load('Models/naive_bayes_trained_with_stopwords.pkl') "
   ]
  }
 ],
 "metadata": {
  "kernelspec": {
   "display_name": "Python 3",
   "language": "python",
   "name": "python3"
  },
  "language_info": {
   "codemirror_mode": {
    "name": "ipython",
    "version": 3
   },
   "file_extension": ".py",
   "mimetype": "text/x-python",
   "name": "python",
   "nbconvert_exporter": "python",
   "pygments_lexer": "ipython3",
   "version": "3.6.4"
  }
 },
 "nbformat": 4,
 "nbformat_minor": 2
}
