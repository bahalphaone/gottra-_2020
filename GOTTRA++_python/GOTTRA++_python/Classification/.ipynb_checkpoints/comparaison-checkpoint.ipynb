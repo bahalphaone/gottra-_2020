{
 "cells": [
  {
   "cell_type": "markdown",
   "metadata": {},
   "source": [
    "### Objectif: \n",
    "#### Générer des fichiers de cas de test, afin de comparer avec les fichiers faits manuellement par l'expert."
   ]
  },
  {
   "cell_type": "code",
   "execution_count": 1,
   "metadata": {},
   "outputs": [],
   "source": [
    "import mysql.connector\n",
    "import csv \n",
    "\n",
    "config = {\n",
    "  'user': 'root',\n",
    "  'password': '',\n",
    "  'host': '127.0.0.1',\n",
    "  'database': 'gottra',\n",
    "  'raise_on_warnings': True,\n",
    "}\n"
   ]
  },
  {
   "cell_type": "code",
   "execution_count": 2,
   "metadata": {},
   "outputs": [],
   "source": [
    "def get_case():\n",
    "    cnx = mysql.connector.connect(**config)\n",
    "    cursor = cnx.cursor()\n",
    "    query = (\"SELECT a.ID_cas, action, output, nom, titre FROM action a JOIN usecase u where a.ID_cas = u.ID_cas\")        \n",
    "    cursor.execute(query, ) \n",
    "    result = []\n",
    "    for case in cursor:\n",
    "        result.append(case)\n",
    "    cursor.close()\n",
    "    cnx.close()\n",
    "    return result"
   ]
  },
  {
   "cell_type": "code",
   "execution_count": 3,
   "metadata": {},
   "outputs": [],
   "source": [
    "test_cases = get_case()\n",
    "values = set(map(lambda x:x[0], test_cases))\n",
    "test_cases = [[ [y[1], y[2], y[3], y[4]] for y in test_cases if y[0]==x] for x in values]"
   ]
  },
  {
   "cell_type": "code",
   "execution_count": 4,
   "metadata": {},
   "outputs": [],
   "source": [
    "i = 0\n",
    "for steps in test_cases:\n",
    "    with open('../Ressources/Test cases/TEST ' + str(i+1) + '.csv', 'w', newline = '') as writer:\n",
    "        mywriter = csv.writer(writer, delimiter = \";\")\n",
    "        mywriter.writerow([\"\"])\n",
    "        mywriter.writerow([\"Cas d'usage couvert :\", \"\", steps[0][2]])\n",
    "        mywriter.writerow([\"Libellé du cas d'usage :\", \"\", steps[0][3]])\n",
    "        mywriter.writerow([\"\"])\n",
    "        mywriter.writerow([\"STEP\", \"Action\", \"\", \"\", \"\", \"\", \"Résultat attendu\"])\n",
    "        j = 1\n",
    "        for step in steps:\n",
    "            mywriter.writerow([j, step[0], \"\", \"\", \"\", \"\", step[1]])\n",
    "            j = j+1\n",
    "    i = i + 1"
   ]
  },
  {
   "cell_type": "code",
   "execution_count": 5,
   "metadata": {},
   "outputs": [],
   "source": [
    "import os\n",
    "import glob\n",
    "import csv\n",
    "from xlsxwriter.workbook import Workbook\n",
    "\n",
    "workbook = Workbook('TEST.xlsx')\n",
    "worksheet = workbook.add_worksheet()\n",
    "with open('../Ressources/Test cases/TEST 1.csv', 'rt') as f:\n",
    "    reader = csv.reader(f, delimiter = \";\")\n",
    "    for r, row in enumerate(reader):\n",
    "        for c, col in enumerate(row):\n",
    "            worksheet.write(r, c, col)\n",
    "workbook.close()"
   ]
  }
 ],
 "metadata": {
  "kernelspec": {
   "display_name": "Python 3",
   "language": "python",
   "name": "python3"
  },
  "language_info": {
   "codemirror_mode": {
    "name": "ipython",
    "version": 3
   },
   "file_extension": ".py",
   "mimetype": "text/x-python",
   "name": "python",
   "nbconvert_exporter": "python",
   "pygments_lexer": "ipython3",
   "version": "3.6.4"
  }
 },
 "nbformat": 4,
 "nbformat_minor": 2
}
