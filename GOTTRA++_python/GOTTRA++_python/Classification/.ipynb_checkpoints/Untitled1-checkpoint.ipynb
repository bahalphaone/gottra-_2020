{
 "cells": [
  {
   "cell_type": "code",
   "execution_count": 58,
   "metadata": {},
   "outputs": [],
   "source": [
    "import pandas as pd\n",
    "import numpy as np\n",
    "from sklearn import svm\n",
    "from sklearn.feature_extraction.text import CountVectorizer\n",
    "from sklearn.feature_extraction.text import TfidfTransformer\n",
    "from nltk.corpus import stopwords\n",
    "from sklearn.model_selection import cross_val_score\n",
    "from sklearn.pipeline import Pipeline\n",
    "from sklearn.naive_bayes import MultinomialNB\n",
    "from sklearn.model_selection import GridSearchCV\n",
    "from sklearn.metrics import precision_score\n",
    "from sklearn.metrics import recall_score\n",
    "from sklearn.metrics import f1_score\n",
    "import warnings\n",
    "warnings.filterwarnings('ignore')\n",
    "from sklearn.neural_network import MLPClassifier\n",
    "\n",
    "train_text = pd.read_csv('../Ressources/separated_data/scenarii_training_text_sans_chiffres.csv', encoding=\"ISO-8859-1\", header = None)\n",
    "train_tags = pd.read_csv('../Ressources/separated_data/scenarii_training_tags_sans_chiffres.csv', encoding=\"ISO-8859-1\", header = None)\n",
    "test_text = pd.read_csv('../Ressources/separated_data/scenarii_testing_text_sans_chiffres.csv', encoding=\"ISO-8859-1\", header = None)\n",
    "test_tags = pd.read_csv('../Ressources/separated_data/scenarii_testing_tags_sans_chiffres.csv', encoding=\"ISO-8859-1\", header = None)\n",
    "\n",
    "train_text = train_text[train_text.columns[0]]\n",
    "train_tags = train_tags[train_tags.columns[0]]\n",
    "test_text = test_text[test_text.columns[0]]\n",
    "test_tags = test_tags[test_tags.columns[0]]"
   ]
  },
  {
   "cell_type": "code",
   "execution_count": 68,
   "metadata": {
    "scrolled": true
   },
   "outputs": [
    {
     "name": "stdout",
     "output_type": "stream",
     "text": [
      "0.8838011510569105\n",
      "0.8778288826832916\n",
      "0.9089655993210629\n",
      "(1658,)\n"
     ]
    }
   ],
   "source": [
    "clf = Pipeline([('count_vect', CountVectorizer(stop_words = stopwords_fr)),  ('clf', MLPClassifier(activation='tanh'))])\n",
    "#clf = Pipeline([ ('clf', svm.SVC(kernel='linear', C=1))])\n",
    "#text_clf_svm = svm.SVC(kernel='linear', C=1)\n",
    "#data = TfidfTransformer().fit_transform(train_text).toarray()\n",
    "#clf = svm.SVC(kernel='linear', C=1)\n",
    "#scoring = ['accuracy', 'precision', 'recall', 'f1_macro']\n",
    "scoring = {'accuracy': 'accuracy',\n",
    "           'prec': 'average_precision', \n",
    "           'recall': 'recall',\n",
    "         'f1_macro': 'f1_macro'}\n",
    "data = train_text\n",
    "\n",
    "scores = cross_val_score(clf, data, tags, cv=5, scoring = 'recall_macro')\n",
    "#print(scores)\n",
    "print(np.mean(scores))\n",
    "scores = cross_val_score(clf, data, tags, cv=5, scoring = 'precision_macro')\n",
    "#print(scores)\n",
    "\n",
    "print(np.mean(scores))\n",
    "print(data.shape)"
   ]
  },
  {
   "cell_type": "code",
   "execution_count": null,
   "metadata": {},
   "outputs": [],
   "source": [
    "\n",
    "cv = CountVectorizer()\n",
    "train_text_cc = cv.fit_transform(train_text).toarray()\n",
    "\n",
    "\n",
    "tf = TfidfTransformer()\n",
    "train_text = tf.fit_transform(train_text_cc).toarray()\n",
    "\n",
    "stopwords_fr = stopwords.words('french')\n",
    "cv_ss = CountVectorizer(stop_words = stopwords_fr)\n",
    "train_text = cv_ss.fit_transform(train_text).toarray()\n",
    "print(train_text.shape)\n"
   ]
  },
  {
   "cell_type": "code",
   "execution_count": null,
   "metadata": {},
   "outputs": [],
   "source": [
    "text_clf = Pipeline([('vect', CountVectorizer(stop_words = stopwords_fr)), ('tfidf', TfidfTransformer()), ('clf', (MLPClassifier(activation='tanh')))])\n",
    "text_clf= text_clf.fit(train_text, train_tags)\n",
    "\n",
    "predicted = text_clf.predict(test_text)\n",
    "\n",
    "print(\"Accuracy: \" + str(np.mean(predicted == test_tags)))\n",
    "print(\"Classes: \" + str(text_clf.classes_))\n",
    "print(\"Precision: \" + str(precision_score(test_tags, predicted, average=None)))\n",
    "print(\"Precision: \" + str(precision_score(test_tags, predicted, average='macro')))\n",
    "print(\"Recall: \" + str(recall_score(test_tags, predicted, average=None)))\n",
    "print(\"Recall: \" + str(recall_score(test_tags, predicted, average='macro')))\n",
    "print(\"F measure: \" + str(f1_score(test_tags, predicted, average=None)))\n",
    "print(\"F measure: \" + str(f1_score(test_tags, predicted, average='macro')))"
   ]
  },
  {
   "cell_type": "code",
   "execution_count": null,
   "metadata": {},
   "outputs": [],
   "source": [
    "\n",
    "data = train_text\n",
    "tags = train_tags\n",
    "clf = svm.SVC(kernel='linear', C=1)\n",
    "#scoring = ['accuracy', 'precision', 'recall', 'f1_macro']\n",
    "scoring = {'accuracy': 'accuracy',\n",
    "           'prec': 'average_precision', \n",
    "           'recall': 'recall',\n",
    "           'f1_macro': 'f1_macro'}\n",
    "scores = cross_val_score(clf, data, tags, cv=5, scoring = 'f1_macro')\n",
    "print(scores)\n",
    "print(np.mean(scores))\n",
    "scores = cross_val_score(clf, data, tags, cv=5, scoring = 'recall_macro')\n",
    "print(scores)\n",
    "print(np.mean(scores))\n",
    "scores = cross_val_score(clf, data, tags, cv=5, scoring = 'precision_macro')\n",
    "print(scores)\n",
    "print(np.mean(scores))"
   ]
  }
 ],
 "metadata": {
  "kernelspec": {
   "display_name": "Python 3",
   "language": "python",
   "name": "python3"
  },
  "language_info": {
   "codemirror_mode": {
    "name": "ipython",
    "version": 3
   },
   "file_extension": ".py",
   "mimetype": "text/x-python",
   "name": "python",
   "nbconvert_exporter": "python",
   "pygments_lexer": "ipython3",
   "version": "3.6.4"
  }
 },
 "nbformat": 4,
 "nbformat_minor": 2
}
