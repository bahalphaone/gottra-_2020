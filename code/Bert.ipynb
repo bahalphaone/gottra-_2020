{
 "cells": [
  {
   "cell_type": "code",
   "execution_count": 1,
   "metadata": {},
   "outputs": [],
   "source": [
    "# Load Huggingface transformers\n",
    "from transformers import TFBertModel,  BertConfig, BertTokenizerFast\n",
    "\n",
    "# Then what you need from tensorflow.keras\n",
    "from tensorflow.keras.layers import Input, Dropout, Dense\n",
    "from tensorflow.keras.models import Model\n",
    "from tensorflow.keras.optimizers import Adam\n",
    "from tensorflow.keras.callbacks import EarlyStopping\n",
    "from tensorflow.keras.initializers import TruncatedNormal\n",
    "from tensorflow.keras.losses import CategoricalCrossentropy\n",
    "from tensorflow.keras.metrics import CategoricalAccuracy\n",
    "from tensorflow.keras.utils import to_categorical\n",
    "\n",
    "# And pandas for data import + sklearn because you allways need sklearn\n",
    "import pandas as pd\n",
    "from sklearn.model_selection import train_test_split"
   ]
  },
  {
   "cell_type": "markdown",
   "metadata": {},
   "source": [
    "!pip install transformers"
   ]
  },
  {
   "cell_type": "markdown",
   "metadata": {},
   "source": [
    "pip install --user tensorflow-gpu==2.2.0"
   ]
  },
  {
   "cell_type": "code",
   "execution_count": 2,
   "metadata": {
    "scrolled": true
   },
   "outputs": [
    {
     "data": {
      "text/html": [
       "<div>\n",
       "<style scoped>\n",
       "    .dataframe tbody tr th:only-of-type {\n",
       "        vertical-align: middle;\n",
       "    }\n",
       "\n",
       "    .dataframe tbody tr th {\n",
       "        vertical-align: top;\n",
       "    }\n",
       "\n",
       "    .dataframe thead th {\n",
       "        text-align: right;\n",
       "    }\n",
       "</style>\n",
       "<table border=\"1\" class=\"dataframe\">\n",
       "  <thead>\n",
       "    <tr style=\"text-align: right;\">\n",
       "      <th></th>\n",
       "      <th>texte</th>\n",
       "      <th>Evolution</th>\n",
       "    </tr>\n",
       "  </thead>\n",
       "  <tbody>\n",
       "    <tr>\n",
       "      <th>1</th>\n",
       "      <td>le système affiche les boutons des réseaux soc...</td>\n",
       "      <td>0</td>\n",
       "    </tr>\n",
       "    <tr>\n",
       "      <th>2</th>\n",
       "      <td>sur le logo depuis une page intérieure, le sys...</td>\n",
       "      <td>0</td>\n",
       "    </tr>\n",
       "    <tr>\n",
       "      <th>3</th>\n",
       "      <td>Sur le logo depuis la page daccueil, le systè...</td>\n",
       "      <td>2</td>\n",
       "    </tr>\n",
       "    <tr>\n",
       "      <th>4</th>\n",
       "      <td>Si lutilisateur clique sur le bouton daccess...</td>\n",
       "      <td>0</td>\n",
       "    </tr>\n",
       "    <tr>\n",
       "      <th>5</th>\n",
       "      <td>Un clic sur un bouton de réseaux sociaux perme...</td>\n",
       "      <td>0</td>\n",
       "    </tr>\n",
       "    <tr>\n",
       "      <th>6</th>\n",
       "      <td>Le système affiche :</td>\n",
       "      <td>3</td>\n",
       "    </tr>\n",
       "    <tr>\n",
       "      <th>7</th>\n",
       "      <td>Au clic sur la langue sélectionnée, le système...</td>\n",
       "      <td>0</td>\n",
       "    </tr>\n",
       "    <tr>\n",
       "      <th>8</th>\n",
       "      <td>Si la langue sélectionnée est français, le sys...</td>\n",
       "      <td>0</td>\n",
       "    </tr>\n",
       "    <tr>\n",
       "      <th>9</th>\n",
       "      <td>Si la langue sélectionnée est anglais, le syst...</td>\n",
       "      <td>0</td>\n",
       "    </tr>\n",
       "    <tr>\n",
       "      <th>10</th>\n",
       "      <td>Si la langue sélectionnée est espagnol, le sys...</td>\n",
       "      <td>0</td>\n",
       "    </tr>\n",
       "    <tr>\n",
       "      <th>11</th>\n",
       "      <td>Au clic sur la deuxième ou troisième langue, l...</td>\n",
       "      <td>0</td>\n",
       "    </tr>\n",
       "    <tr>\n",
       "      <th>12</th>\n",
       "      <td>Si la page est traduite, celle-ci est affichée.</td>\n",
       "      <td>0</td>\n",
       "    </tr>\n",
       "    <tr>\n",
       "      <th>13</th>\n",
       "      <td>\\tle système redirige vers la page parente tr...</td>\n",
       "      <td>1</td>\n",
       "    </tr>\n",
       "    <tr>\n",
       "      <th>14</th>\n",
       "      <td>\\tSi la page parente de niveau N-1 nest pas ...</td>\n",
       "      <td>1</td>\n",
       "    </tr>\n",
       "    <tr>\n",
       "      <th>15</th>\n",
       "      <td>\\tSi la page parente de niveau N-2 nest pas ...</td>\n",
       "      <td>2</td>\n",
       "    </tr>\n",
       "    <tr>\n",
       "      <th>16</th>\n",
       "      <td>Le système affiche pour chaque langue ci-desso...</td>\n",
       "      <td>0</td>\n",
       "    </tr>\n",
       "    <tr>\n",
       "      <th>17</th>\n",
       "      <td>Le contributeur se place en mode liste sur le ...</td>\n",
       "      <td>0</td>\n",
       "    </tr>\n",
       "    <tr>\n",
       "      <th>18</th>\n",
       "      <td>Nom du champ\\t\\tType de champ\\tobligatoire\\tCo...</td>\n",
       "      <td>2</td>\n",
       "    </tr>\n",
       "    <tr>\n",
       "      <th>19</th>\n",
       "      <td>Un fil dAriane est présent sur toutes les pag...</td>\n",
       "      <td>0</td>\n",
       "    </tr>\n",
       "    <tr>\n",
       "      <th>20</th>\n",
       "      <td>Le fil dariane est composé dun lien vers la ...</td>\n",
       "      <td>0</td>\n",
       "    </tr>\n",
       "    <tr>\n",
       "      <th>21</th>\n",
       "      <td>Au clic sur le bouton de partage, un menu supp...</td>\n",
       "      <td>0</td>\n",
       "    </tr>\n",
       "    <tr>\n",
       "      <th>22</th>\n",
       "      <td>Au clic sur le bouton Facebook, lévénement es...</td>\n",
       "      <td>0</td>\n",
       "    </tr>\n",
       "    <tr>\n",
       "      <th>23</th>\n",
       "      <td>Au clic sur le bouton Twitter, lévénement est...</td>\n",
       "      <td>0</td>\n",
       "    </tr>\n",
       "    <tr>\n",
       "      <th>24</th>\n",
       "      <td>Date / Horaires</td>\n",
       "      <td>1</td>\n",
       "    </tr>\n",
       "    <tr>\n",
       "      <th>25</th>\n",
       "      <td>Infos pratiques</td>\n",
       "      <td>1</td>\n",
       "    </tr>\n",
       "    <tr>\n",
       "      <th>26</th>\n",
       "      <td>Soutenir</td>\n",
       "      <td>0</td>\n",
       "    </tr>\n",
       "    <tr>\n",
       "      <th>27</th>\n",
       "      <td>le menu est affiché en haut de la fenêtre navi...</td>\n",
       "      <td>0</td>\n",
       "    </tr>\n",
       "    <tr>\n",
       "      <th>28</th>\n",
       "      <td>Au clic sur lune des entrées de niveau 1</td>\n",
       "      <td>1</td>\n",
       "    </tr>\n",
       "    <tr>\n",
       "      <th>29</th>\n",
       "      <td>Au clic sur licône Etoile, lutilisateur est ...</td>\n",
       "      <td>1</td>\n",
       "    </tr>\n",
       "    <tr>\n",
       "      <th>30</th>\n",
       "      <td>Les rubriques de niveau 2 saffichent mais ne ...</td>\n",
       "      <td>0</td>\n",
       "    </tr>\n",
       "    <tr>\n",
       "      <th>...</th>\n",
       "      <td>...</td>\n",
       "      <td>...</td>\n",
       "    </tr>\n",
       "    <tr>\n",
       "      <th>1128</th>\n",
       "      <td>Au clic sur le point daccès du musée M*, le p...</td>\n",
       "      <td>1</td>\n",
       "    </tr>\n",
       "    <tr>\n",
       "      <th>1129</th>\n",
       "      <td>Le bouton itinéraire</td>\n",
       "      <td>0</td>\n",
       "    </tr>\n",
       "    <tr>\n",
       "      <th>1130</th>\n",
       "      <td>Le bouton itinéraire.</td>\n",
       "      <td>0</td>\n",
       "    </tr>\n",
       "    <tr>\n",
       "      <th>1131</th>\n",
       "      <td>Au clic sur le bouton Itinéraire dun point d...</td>\n",
       "      <td>0</td>\n",
       "    </tr>\n",
       "    <tr>\n",
       "      <th>1132</th>\n",
       "      <td>Au clic sur le bouton Itinéraire du musée M*, ...</td>\n",
       "      <td>1</td>\n",
       "    </tr>\n",
       "    <tr>\n",
       "      <th>1133</th>\n",
       "      <td>Au scroll de la page, Le système affiche un me...</td>\n",
       "      <td>0</td>\n",
       "    </tr>\n",
       "    <tr>\n",
       "      <th>1134</th>\n",
       "      <td>Au clic sur le bouton Retour, le système affic...</td>\n",
       "      <td>2</td>\n",
       "    </tr>\n",
       "    <tr>\n",
       "      <th>1135</th>\n",
       "      <td>Au scroll de la page, le système affiche un me...</td>\n",
       "      <td>1</td>\n",
       "    </tr>\n",
       "    <tr>\n",
       "      <th>1136</th>\n",
       "      <td>Libellé de partage de la rubrique applications...</td>\n",
       "      <td>0</td>\n",
       "    </tr>\n",
       "    <tr>\n",
       "      <th>1137</th>\n",
       "      <td>Par défaut, le système affiche les photos 3D d...</td>\n",
       "      <td>2</td>\n",
       "    </tr>\n",
       "    <tr>\n",
       "      <th>1138</th>\n",
       "      <td>Les entités catégories de la rubrique Photos p...</td>\n",
       "      <td>1</td>\n",
       "    </tr>\n",
       "    <tr>\n",
       "      <th>1139</th>\n",
       "      <td>Le système affiche lentité média mise en avan...</td>\n",
       "      <td>0</td>\n",
       "    </tr>\n",
       "    <tr>\n",
       "      <th>1140</th>\n",
       "      <td>Le système affiche la liste les informations d...</td>\n",
       "      <td>1</td>\n",
       "    </tr>\n",
       "    <tr>\n",
       "      <th>1141</th>\n",
       "      <td>Au clic sur le bouton « accès rapide », le sys...</td>\n",
       "      <td>1</td>\n",
       "    </tr>\n",
       "    <tr>\n",
       "      <th>1142</th>\n",
       "      <td>Au clic sur le titre dun élément, lélément P...</td>\n",
       "      <td>2</td>\n",
       "    </tr>\n",
       "    <tr>\n",
       "      <th>1143</th>\n",
       "      <td>Par défaut, le système affiche laccès rapide</td>\n",
       "      <td>1</td>\n",
       "    </tr>\n",
       "    <tr>\n",
       "      <th>1144</th>\n",
       "      <td>Au clic sur le titre dun élément, celui-ci s...</td>\n",
       "      <td>1</td>\n",
       "    </tr>\n",
       "    <tr>\n",
       "      <th>1145</th>\n",
       "      <td>Lutilisateur visualise ce bloc après avoir cl...</td>\n",
       "      <td>1</td>\n",
       "    </tr>\n",
       "    <tr>\n",
       "      <th>1146</th>\n",
       "      <td>La liste des billets. Pour chaque billet dévé...</td>\n",
       "      <td>1</td>\n",
       "    </tr>\n",
       "    <tr>\n",
       "      <th>1147</th>\n",
       "      <td>Au clic sur le numéro de téléphone, le numéro ...</td>\n",
       "      <td>0</td>\n",
       "    </tr>\n",
       "    <tr>\n",
       "      <th>1148</th>\n",
       "      <td>Déplacement du doigt de gauche à droite : le s...</td>\n",
       "      <td>0</td>\n",
       "    </tr>\n",
       "    <tr>\n",
       "      <th>1149</th>\n",
       "      <td>Déplacement du doigt de droite à gauche : le s...</td>\n",
       "      <td>0</td>\n",
       "    </tr>\n",
       "    <tr>\n",
       "      <th>1150</th>\n",
       "      <td>Au clic sur un élément du parcours</td>\n",
       "      <td>2</td>\n",
       "    </tr>\n",
       "    <tr>\n",
       "      <th>1151</th>\n",
       "      <td>Le libellé Aller à luvre suivante</td>\n",
       "      <td>1</td>\n",
       "    </tr>\n",
       "    <tr>\n",
       "      <th>1152</th>\n",
       "      <td>Au clic sur la croix, on réinitialise laffich...</td>\n",
       "      <td>0</td>\n",
       "    </tr>\n",
       "    <tr>\n",
       "      <th>1153</th>\n",
       "      <td>Au clic sur le libellé Aller à luvre suivant...</td>\n",
       "      <td>1</td>\n",
       "    </tr>\n",
       "    <tr>\n",
       "      <th>1154</th>\n",
       "      <td>Les blocs de texte sont affichés à la suite, s...</td>\n",
       "      <td>0</td>\n",
       "    </tr>\n",
       "    <tr>\n",
       "      <th>1155</th>\n",
       "      <td>Les ronds ne sont pas cliquables</td>\n",
       "      <td>0</td>\n",
       "    </tr>\n",
       "    <tr>\n",
       "      <th>1156</th>\n",
       "      <td>Au clic sur le visuel du parcours, le système ...</td>\n",
       "      <td>1</td>\n",
       "    </tr>\n",
       "    <tr>\n",
       "      <th>1157</th>\n",
       "      <td>Libellé Champ de partage twitter    + Titre + ...</td>\n",
       "      <td>0</td>\n",
       "    </tr>\n",
       "  </tbody>\n",
       "</table>\n",
       "<p>1157 rows × 2 columns</p>\n",
       "</div>"
      ],
      "text/plain": [
       "                                                  texte Evolution\n",
       "1     le système affiche les boutons des réseaux soc...         0\n",
       "2     sur le logo depuis une page intérieure, le sys...         0\n",
       "3     Sur le logo depuis la page daccueil, le systè...         2\n",
       "4     Si lutilisateur clique sur le bouton daccess...         0\n",
       "5     Un clic sur un bouton de réseaux sociaux perme...         0\n",
       "6                                  Le système affiche :         3\n",
       "7     Au clic sur la langue sélectionnée, le système...         0\n",
       "8     Si la langue sélectionnée est français, le sys...         0\n",
       "9     Si la langue sélectionnée est anglais, le syst...         0\n",
       "10    Si la langue sélectionnée est espagnol, le sys...         0\n",
       "11    Au clic sur la deuxième ou troisième langue, l...         0\n",
       "12      Si la page est traduite, celle-ci est affichée.         0\n",
       "13    \\tle système redirige vers la page parente tr...         1\n",
       "14    \\tSi la page parente de niveau N-1 nest pas ...         1\n",
       "15    \\tSi la page parente de niveau N-2 nest pas ...         2\n",
       "16    Le système affiche pour chaque langue ci-desso...         0\n",
       "17    Le contributeur se place en mode liste sur le ...         0\n",
       "18    Nom du champ\\t\\tType de champ\\tobligatoire\\tCo...         2\n",
       "19    Un fil dAriane est présent sur toutes les pag...         0\n",
       "20    Le fil dariane est composé dun lien vers la ...         0\n",
       "21    Au clic sur le bouton de partage, un menu supp...         0\n",
       "22    Au clic sur le bouton Facebook, lévénement es...         0\n",
       "23    Au clic sur le bouton Twitter, lévénement est...         0\n",
       "24                                      Date / Horaires         1\n",
       "25                                      Infos pratiques         1\n",
       "26                                             Soutenir         0\n",
       "27    le menu est affiché en haut de la fenêtre navi...         0\n",
       "28            Au clic sur lune des entrées de niveau 1         1\n",
       "29    Au clic sur licône Etoile, lutilisateur est ...         1\n",
       "30    Les rubriques de niveau 2 saffichent mais ne ...         0\n",
       "...                                                 ...       ...\n",
       "1128  Au clic sur le point daccès du musée M*, le p...         1\n",
       "1129                               Le bouton itinéraire         0\n",
       "1130                              Le bouton itinéraire.         0\n",
       "1131  Au clic sur le bouton Itinéraire dun point d...         0\n",
       "1132  Au clic sur le bouton Itinéraire du musée M*, ...         1\n",
       "1133  Au scroll de la page, Le système affiche un me...         0\n",
       "1134  Au clic sur le bouton Retour, le système affic...         2\n",
       "1135  Au scroll de la page, le système affiche un me...         1\n",
       "1136  Libellé de partage de la rubrique applications...         0\n",
       "1137  Par défaut, le système affiche les photos 3D d...         2\n",
       "1138  Les entités catégories de la rubrique Photos p...         1\n",
       "1139  Le système affiche lentité média mise en avan...         0\n",
       "1140  Le système affiche la liste les informations d...         1\n",
       "1141  Au clic sur le bouton « accès rapide », le sys...         1\n",
       "1142  Au clic sur le titre dun élément, lélément P...         2\n",
       "1143      Par défaut, le système affiche laccès rapide         1\n",
       "1144  Au clic sur le titre dun élément, celui-ci s...         1\n",
       "1145  Lutilisateur visualise ce bloc après avoir cl...         1\n",
       "1146  La liste des billets. Pour chaque billet dévé...         1\n",
       "1147  Au clic sur le numéro de téléphone, le numéro ...         0\n",
       "1148  Déplacement du doigt de gauche à droite : le s...         0\n",
       "1149  Déplacement du doigt de droite à gauche : le s...         0\n",
       "1150                 Au clic sur un élément du parcours         2\n",
       "1151                Le libellé Aller à luvre suivante         1\n",
       "1152  Au clic sur la croix, on réinitialise laffich...         0\n",
       "1153  Au clic sur le libellé Aller à luvre suivant...         1\n",
       "1154  Les blocs de texte sont affichés à la suite, s...         0\n",
       "1155                   Les ronds ne sont pas cliquables         0\n",
       "1156  Au clic sur le visuel du parcours, le système ...         1\n",
       "1157  Libellé Champ de partage twitter    + Titre + ...         0\n",
       "\n",
       "[1157 rows x 2 columns]"
      ]
     },
     "execution_count": 2,
     "metadata": {},
     "output_type": "execute_result"
    }
   ],
   "source": [
    "data1 = pd.read_excel (r'./Matric_Couverture3_evolution.xlsx', index_col=None, header=None)\n",
    "data = pd.DataFrame(data1)\n",
    "data = data.iloc[0:2]\n",
    "data=data.transpose()\n",
    "data = data[[1, 0]]\n",
    "data.columns = [\"texte\", \"Evolution\"]\n",
    "data=data.drop(index=0)\n",
    "data"
   ]
  },
  {
   "cell_type": "code",
   "execution_count": 3,
   "metadata": {},
   "outputs": [],
   "source": [
    "X_train, X_test, y_train, y_test = train_test_split(data[\"texte\"], data[\"Evolution\"].astype('category'), test_size=0.3, random_state=0)"
   ]
  },
  {
   "cell_type": "code",
   "execution_count": null,
   "metadata": {},
   "outputs": [],
   "source": []
  },
  {
   "cell_type": "code",
   "execution_count": 4,
   "metadata": {},
   "outputs": [],
   "source": [
    "# Name of the BERT model to use\n",
    "model_name = 'bert-base-uncased'\n",
    "\n",
    "# Max length of tokens\n",
    "max_length = 100"
   ]
  },
  {
   "cell_type": "code",
   "execution_count": 5,
   "metadata": {},
   "outputs": [],
   "source": [
    "# Load transformers config and set output_hidden_states to False\n",
    "config = BertConfig.from_pretrained(model_name)\n",
    "config.output_hidden_states = False"
   ]
  },
  {
   "cell_type": "code",
   "execution_count": 6,
   "metadata": {},
   "outputs": [],
   "source": [
    "# Load BERT tokenizer\n",
    "tokenizer = BertTokenizerFast.from_pretrained(pretrained_model_name_or_path = model_name, config = config)\n"
   ]
  },
  {
   "cell_type": "code",
   "execution_count": 7,
   "metadata": {},
   "outputs": [
    {
     "name": "stderr",
     "output_type": "stream",
     "text": [
      "Some weights of the model checkpoint at bert-base-uncased were not used when initializing TFBertModel: ['nsp___cls', 'mlm___cls']\n",
      "- This IS expected if you are initializing TFBertModel from the checkpoint of a model trained on another task or with another architecture (e.g. initializing a BertForSequenceClassification model from a BertForPretraining model).\n",
      "- This IS NOT expected if you are initializing TFBertModel from the checkpoint of a model that you expect to be exactly identical (initializing a BertForSequenceClassification model from a BertForSequenceClassification model).\n",
      "All the weights of TFBertModel were initialized from the model checkpoint at bert-base-uncased.\n",
      "If your task is similar to the task the model of the checkpoint was trained on, you can already use TFBertModel for predictions without further training.\n"
     ]
    }
   ],
   "source": [
    "# Load the Transformers BERT model\n",
    "transformer_model = TFBertModel.from_pretrained(model_name, config = config)"
   ]
  },
  {
   "cell_type": "code",
   "execution_count": 8,
   "metadata": {},
   "outputs": [],
   "source": [
    "# Load the MainLayer\n",
    "bert = transformer_model.layers[0]"
   ]
  },
  {
   "cell_type": "code",
   "execution_count": 9,
   "metadata": {},
   "outputs": [],
   "source": [
    "# Build your model input\n",
    "input_ids = Input(shape=(max_length,), name='input_ids', dtype='int32')\n",
    "# attention_mask = Input(shape=(max_length,), name='attention_mask', dtype='int32') \n",
    "# inputs = {'input_ids': input_ids, 'attention_mask': attention_mask}\n",
    "inputs = {'input_ids': input_ids}"
   ]
  },
  {
   "cell_type": "code",
   "execution_count": 10,
   "metadata": {},
   "outputs": [
    {
     "data": {
      "text/plain": [
       "{'input_ids': <tf.Tensor 'input_ids:0' shape=(None, 100) dtype=int32>}"
      ]
     },
     "execution_count": 10,
     "metadata": {},
     "output_type": "execute_result"
    }
   ],
   "source": [
    "inputs"
   ]
  },
  {
   "cell_type": "code",
   "execution_count": 11,
   "metadata": {},
   "outputs": [],
   "source": [
    "# Load the Transformers BERT model as a layer in a Keras model\n",
    "bert_model = bert(inputs)[1]\n",
    "dropout = Dropout(config.hidden_dropout_prob, name='pooled_output')\n",
    "pooled_output = dropout(bert_model, training=False)"
   ]
  },
  {
   "cell_type": "code",
   "execution_count": 12,
   "metadata": {},
   "outputs": [],
   "source": [
    "# Then build your model output\n",
    "Evolution = Dense(units=len(y_train.value_counts()), kernel_initializer=TruncatedNormal(stddev=config.initializer_range), name='Evolution')(pooled_output)\n",
    "#product = Dense(units=len(data.Product_label.value_counts()), kernel_initializer=TruncatedNormal(stddev=config.initializer_range), name='product')(pooled_output)\n",
    "outputs = {'Evolution': Evolution}"
   ]
  },
  {
   "cell_type": "code",
   "execution_count": 13,
   "metadata": {},
   "outputs": [],
   "source": [
    "# And combine it all in a model object\n",
    "model = Model(inputs=inputs, outputs=outputs, name='BERT_MultiLabel_MultiClass')"
   ]
  },
  {
   "cell_type": "code",
   "execution_count": 14,
   "metadata": {},
   "outputs": [
    {
     "name": "stdout",
     "output_type": "stream",
     "text": [
      "Model: \"BERT_MultiLabel_MultiClass\"\n",
      "_________________________________________________________________\n",
      "Layer (type)                 Output Shape              Param #   \n",
      "=================================================================\n",
      "input_ids (InputLayer)       [(None, 100)]             0         \n",
      "_________________________________________________________________\n",
      "bert (TFBertMainLayer)       ((None, 100, 768), (None, 109482240 \n",
      "_________________________________________________________________\n",
      "pooled_output (Dropout)      (None, 768)               0         \n",
      "_________________________________________________________________\n",
      "Evolution (Dense)            (None, 4)                 3076      \n",
      "=================================================================\n",
      "Total params: 109,485,316\n",
      "Trainable params: 109,485,316\n",
      "Non-trainable params: 0\n",
      "_________________________________________________________________\n"
     ]
    }
   ],
   "source": [
    "# Take a look at the model\n",
    "model.summary()"
   ]
  },
  {
   "cell_type": "code",
   "execution_count": 15,
   "metadata": {},
   "outputs": [],
   "source": [
    "# Set an optimizer\n",
    "optimizer = Adam(\n",
    "    learning_rate=1e-03,\n",
    "    epsilon=1e-04,\n",
    "    decay=0.01,\n",
    "    clipnorm=1.0)"
   ]
  },
  {
   "cell_type": "code",
   "execution_count": 16,
   "metadata": {},
   "outputs": [],
   "source": [
    "# Set loss and metrics\n",
    "loss = {'Evolution': CategoricalCrossentropy(from_logits = True)}\n",
    "metric = {'Evolution': CategoricalAccuracy('accuracy')}\n"
   ]
  },
  {
   "cell_type": "code",
   "execution_count": 17,
   "metadata": {},
   "outputs": [],
   "source": [
    "# Compile the model\n",
    "model.compile(\n",
    "    optimizer = optimizer,\n",
    "    loss = loss, \n",
    "    metrics = metric)"
   ]
  },
  {
   "cell_type": "code",
   "execution_count": 18,
   "metadata": {},
   "outputs": [],
   "source": [
    "# Tokenize the input (takes some time)\n",
    "x = tokenizer(\n",
    "    text=X_train.to_list(),\n",
    "    add_special_tokens=True,\n",
    "    max_length=max_length,\n",
    "    truncation=True,\n",
    "    padding=True, \n",
    "    return_tensors='tf',\n",
    "    return_token_type_ids = False,\n",
    "    return_attention_mask = True,\n",
    "    verbose = True)"
   ]
  },
  {
   "cell_type": "code",
   "execution_count": 19,
   "metadata": {},
   "outputs": [
    {
     "data": {
      "text/plain": [
       "{'input_ids': <tf.Tensor: shape=(809, 96), dtype=int32, numpy=\n",
       "array([[  101,  4649,  2531, ...,     0,     0,     0],\n",
       "       [  101, 29536,  2271, ...,     0,     0,     0],\n",
       "       [  101,  3393,  2291, ...,     0,     0,     0],\n",
       "       ...,\n",
       "       [  101, 25222,  4241, ...,     0,     0,     0],\n",
       "       [  101, 11968, 13366, ...,     0,     0,     0],\n",
       "       [  101,  6335, 21877, ...,     0,     0,     0]])>, 'attention_mask': <tf.Tensor: shape=(809, 96), dtype=int32, numpy=\n",
       "array([[1, 1, 1, ..., 0, 0, 0],\n",
       "       [1, 1, 1, ..., 0, 0, 0],\n",
       "       [1, 1, 1, ..., 0, 0, 0],\n",
       "       ...,\n",
       "       [1, 1, 1, ..., 0, 0, 0],\n",
       "       [1, 1, 1, ..., 0, 0, 0],\n",
       "       [1, 1, 1, ..., 0, 0, 0]])>}"
      ]
     },
     "execution_count": 19,
     "metadata": {},
     "output_type": "execute_result"
    }
   ],
   "source": [
    "x"
   ]
  },
  {
   "cell_type": "code",
   "execution_count": 20,
   "metadata": {},
   "outputs": [],
   "source": [
    "# Tokenize the input (takes some time)\n",
    "x_test = tokenizer(\n",
    "    text=X_test.to_list(),\n",
    "    add_special_tokens=True,\n",
    "    max_length=max_length,\n",
    "    truncation=True,\n",
    "    padding=True, \n",
    "    return_tensors='tf',\n",
    "    return_token_type_ids = False,\n",
    "    return_attention_mask = True,\n",
    "    verbose = True)"
   ]
  },
  {
   "cell_type": "code",
   "execution_count": 21,
   "metadata": {},
   "outputs": [],
   "source": [
    "y_train = to_categorical(y_train, 4)\n",
    "y_test = to_categorical(y_test, 4)"
   ]
  },
  {
   "cell_type": "code",
   "execution_count": 22,
   "metadata": {
    "scrolled": false
   },
   "outputs": [
    {
     "name": "stdout",
     "output_type": "stream",
     "text": [
      "Epoch 1/10\n",
      "WARNING:tensorflow:Model was constructed with shape (None, 100) for input Tensor(\"input_ids:0\", shape=(None, 100), dtype=int32), but it was called on an input with incompatible shape (None, 96).\n",
      "WARNING:tensorflow:Model was constructed with shape (None, 100) for input Tensor(\"input_ids:0\", shape=(None, 100), dtype=int32), but it was called on an input with incompatible shape (None, 96).\n",
      "9/9 [==============================] - ETA: 0s - loss: 1.3519 - accuracy: 0.3322 WARNING:tensorflow:Model was constructed with shape (None, 100) for input Tensor(\"input_ids:0\", shape=(None, 100), dtype=int32), but it was called on an input with incompatible shape (None, 96).\n",
      "9/9 [==============================] - 335s 37s/step - loss: 1.3519 - accuracy: 0.3322 - val_loss: 1.2061 - val_accuracy: 0.5021\n",
      "Epoch 2/10\n",
      "9/9 [==============================] - 324s 36s/step - loss: 1.1247 - accuracy: 0.3905 - val_loss: 1.1142 - val_accuracy: 0.3457\n",
      "Epoch 3/10\n",
      "9/9 [==============================] - 332s 37s/step - loss: 1.1369 - accuracy: 0.4152 - val_loss: 1.1490 - val_accuracy: 0.3457\n",
      "Epoch 4/10\n",
      "9/9 [==============================] - 332s 37s/step - loss: 1.1012 - accuracy: 0.4293 - val_loss: 1.1122 - val_accuracy: 0.3457\n",
      "Epoch 5/10\n",
      "9/9 [==============================] - 319s 35s/step - loss: 1.0929 - accuracy: 0.4329 - val_loss: 1.0917 - val_accuracy: 0.5021\n",
      "Epoch 6/10\n",
      "9/9 [==============================] - 307s 34s/step - loss: 1.1263 - accuracy: 0.4064 - val_loss: 1.1035 - val_accuracy: 0.3457\n",
      "Epoch 7/10\n",
      "9/9 [==============================] - 322s 36s/step - loss: 1.0928 - accuracy: 0.4170 - val_loss: 1.1399 - val_accuracy: 0.3457\n",
      "Epoch 8/10\n",
      "9/9 [==============================] - 321s 36s/step - loss: 1.0997 - accuracy: 0.4399 - val_loss: 1.0884 - val_accuracy: 0.5021\n",
      "Epoch 9/10\n",
      "9/9 [==============================] - 336s 37s/step - loss: 1.0919 - accuracy: 0.4576 - val_loss: 1.1073 - val_accuracy: 0.3457\n",
      "Epoch 10/10\n",
      "9/9 [==============================] - 310s 34s/step - loss: 1.0921 - accuracy: 0.4170 - val_loss: 1.0865 - val_accuracy: 0.5021\n"
     ]
    }
   ],
   "source": [
    "# Fit the model\n",
    "history = model.fit(\n",
    "    # x={'input_ids': x['input_ids'], 'attention_mask': x['attention_mask']},\n",
    "    x={'input_ids': x['input_ids']},\n",
    "    y={'Evolution': y_train},\n",
    "#    validation_data=(x_test, y_test),\n",
    "    validation_split=0.3,\n",
    "    batch_size=64,\n",
    "    epochs=10)"
   ]
  },
  {
   "cell_type": "code",
   "execution_count": 23,
   "metadata": {},
   "outputs": [],
   "source": [
    "import matplotlib.pyplot as plt\n",
    "plt.style.use('ggplot')\n",
    "\n",
    "def plot_history(history):\n",
    "    acc = history.history['accuracy']\n",
    "    val_acc = history.history['val_accuracy']\n",
    "    loss = history.history['loss']\n",
    "    val_loss = history.history['val_loss']\n",
    "    x = range(1, len(acc) + 1)\n",
    "\n",
    "    plt.figure(figsize=(12, 5))\n",
    "    plt.subplot(1, 2, 1)\n",
    "    plt.plot(x, acc, 'b', label='Training acc')\n",
    "    plt.plot(x, val_acc, 'r', label='Validation acc')\n",
    "    plt.title('Training and validation accuracy')\n",
    "    plt.legend()\n",
    "    plt.subplot(1, 2, 2)\n",
    "    plt.plot(x, loss, 'b', label='Training loss')\n",
    "    plt.plot(x, val_loss, 'r', label='Validation loss')\n",
    "    plt.title('Training and validation loss')\n",
    "    plt.legend()"
   ]
  },
  {
   "cell_type": "code",
   "execution_count": 24,
   "metadata": {},
   "outputs": [
    {
     "data": {
      "image/png": "[encoded data removed]",
      "text/plain": [
       "<Figure size 864x360 with 2 Axes>"
      ]
     },
     "metadata": {
      "needs_background": "light"
     },
     "output_type": "display_data"
    }
   ],
   "source": [
    "plot_history(history)"
   ]
  },
  {
   "cell_type": "code",
   "execution_count": null,
   "metadata": {},
   "outputs": [],
   "source": [
    "y_pred = model.predict(X_test_vec)\n",
    "print(confusion_matrix(y_test,y_pred))\n",
    "print(classification_report(y_test,y_pred))\n",
    "print(accuracy_score(y_test, y_pred))"
   ]
  }
 ],
 "metadata": {
  "kernelspec": {
   "display_name": "Python 3",
   "language": "python",
   "name": "python3"
  },
  "language_info": {
   "codemirror_mode": {
    "name": "ipython",
    "version": 3
   },
   "file_extension": ".py",
   "mimetype": "text/x-python",
   "name": "python",
   "nbconvert_exporter": "python",
   "pygments_lexer": "ipython3",
   "version": "3.7.3"
  }
 },
 "nbformat": 4,
 "nbformat_minor": 2
}
