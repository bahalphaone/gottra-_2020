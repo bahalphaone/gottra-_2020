{
 "cells": [
  {
   "cell_type": "code",
   "execution_count": 1,
   "metadata": {},
   "outputs": [],
   "source": [
    "import pandas as pd\n",
    "import numpy as np\n",
    "from nltk.corpus import stopwords\n",
    "from sklearn.feature_extraction.text import TfidfVectorizer\n",
    "from sklearn.neighbors import NearestNeighbors"
   ]
  },
  {
   "cell_type": "code",
   "execution_count": 2,
   "metadata": {},
   "outputs": [
    {
     "data": {
      "text/html": [
       "<div>\n",
       "<style scoped>\n",
       "    .dataframe tbody tr th:only-of-type {\n",
       "        vertical-align: middle;\n",
       "    }\n",
       "\n",
       "    .dataframe tbody tr th {\n",
       "        vertical-align: top;\n",
       "    }\n",
       "\n",
       "    .dataframe thead th {\n",
       "        text-align: right;\n",
       "    }\n",
       "</style>\n",
       "<table border=\"1\" class=\"dataframe\">\n",
       "  <thead>\n",
       "    <tr style=\"text-align: right;\">\n",
       "      <th></th>\n",
       "      <th>texte</th>\n",
       "      <th>tag</th>\n",
       "    </tr>\n",
       "  </thead>\n",
       "  <tbody>\n",
       "    <tr>\n",
       "      <th>0</th>\n",
       "      <td>4.\\tVersion Desktop - liste des cas d'utilisat...</td>\n",
       "      <td>texte</td>\n",
       "    </tr>\n",
       "    <tr>\n",
       "      <th>1</th>\n",
       "      <td>4.1.1\\tCU001-001 Afficher le header</td>\n",
       "      <td>usecase</td>\n",
       "    </tr>\n",
       "    <tr>\n",
       "      <th>2</th>\n",
       "      <td>Acteur : Internaute</td>\n",
       "      <td>acteur</td>\n",
       "    </tr>\n",
       "    <tr>\n",
       "      <th>3</th>\n",
       "      <td>Cas dutilisation permettant à un internaute  ...</td>\n",
       "      <td>texte</td>\n",
       "    </tr>\n",
       "    <tr>\n",
       "      <th>4</th>\n",
       "      <td>\\tNotes :\\nLe système affiche les éléments su...</td>\n",
       "      <td>texte</td>\n",
       "    </tr>\n",
       "  </tbody>\n",
       "</table>\n",
       "</div>"
      ],
      "text/plain": [
       "                                               texte      tag\n",
       "0  4.\\tVersion Desktop - liste des cas d'utilisat...    texte\n",
       "1                4.1.1\\tCU001-001 Afficher le header  usecase\n",
       "2                                Acteur : Internaute   acteur\n",
       "3  Cas dutilisation permettant à un internaute  ...    texte\n",
       "4  \\tNotes :\\nLe système affiche les éléments su...    texte"
      ]
     },
     "execution_count": 2,
     "metadata": {},
     "output_type": "execute_result"
    }
   ],
   "source": [
    "random_state = 0 \n",
    "data = pd.read_csv('./scenarii.csv', encoding=\"ISO-8859-1\", sep=\";\", header = 0)\n",
    "data.head()"
   ]
  },
  {
   "cell_type": "markdown",
   "metadata": {},
   "source": [
    "## extraction des caractéristiques "
   ]
  },
  {
   "cell_type": "code",
   "execution_count": 3,
   "metadata": {},
   "outputs": [],
   "source": [
    "vec = TfidfVectorizer(max_features=1000, stop_words=stopwords.words('french'))\n",
    "vec.fit(data['texte'].values)\n",
    "features = vec.transform(data['texte'].values)"
   ]
  },
  {
   "cell_type": "code",
   "execution_count": 4,
   "metadata": {},
   "outputs": [
    {
     "data": {
      "text/plain": [
       "<2382x1000 sparse matrix of type '<class 'numpy.float64'>'\n",
       "\twith 29551 stored elements in Compressed Sparse Row format>"
      ]
     },
     "execution_count": 4,
     "metadata": {},
     "output_type": "execute_result"
    }
   ],
   "source": [
    "#Nous obtenons une matrice carractérisée par 1000 mots\n",
    "features"
   ]
  },
  {
   "cell_type": "code",
   "execution_count": 5,
   "metadata": {},
   "outputs": [
    {
     "data": {
      "text/plain": [
       "array([[0.        , 0.        , 0.        , ..., 0.        , 0.        ,\n",
       "        0.        ],\n",
       "       [0.        , 0.        , 0.53024634, ..., 0.        , 0.        ,\n",
       "        0.        ],\n",
       "       [0.        , 0.        , 0.        , ..., 0.        , 0.        ,\n",
       "        0.        ],\n",
       "       ...,\n",
       "       [0.        , 0.        , 0.        , ..., 0.        , 0.        ,\n",
       "        0.        ],\n",
       "       [0.        , 0.        , 0.        , ..., 0.        , 0.        ,\n",
       "        0.        ],\n",
       "       [0.        , 0.        , 0.        , ..., 0.        , 0.        ,\n",
       "        0.        ]])"
      ]
     },
     "execution_count": 5,
     "metadata": {},
     "output_type": "execute_result"
    }
   ],
   "source": [
    "features.toarray()"
   ]
  },
  {
   "cell_type": "markdown",
   "metadata": {},
   "source": [
    "## Construction du Modèle KNN"
   ]
  },
  {
   "cell_type": "code",
   "execution_count": 6,
   "metadata": {},
   "outputs": [
    {
     "data": {
      "text/plain": [
       "NearestNeighbors(algorithm='auto', leaf_size=30, metric='cosine',\n",
       "                 metric_params=None, n_jobs=None, n_neighbors=10, p=2,\n",
       "                 radius=1.0)"
      ]
     },
     "execution_count": 6,
     "metadata": {},
     "output_type": "execute_result"
    }
   ],
   "source": [
    "#La Métrique cosine est généralement utilisé pour la similitude de texte\n",
    "knn = NearestNeighbors(n_neighbors=10, metric='cosine')\n",
    "knn.fit(features)"
   ]
  },
  {
   "cell_type": "code",
   "execution_count": 7,
   "metadata": {},
   "outputs": [
    {
     "data": {
      "text/plain": [
       "(array([[0.        , 0.25255254, 0.46387054, 0.52207988, 0.62989629,\n",
       "         0.6873987 , 0.71118778, 0.71118778, 0.71655571, 0.72768479]]),\n",
       " array([[   0, 1706, 1598, 1597,  454,  174,  379, 1791,   59, 1626]],\n",
       "       dtype=int64))"
      ]
     },
     "execution_count": 7,
     "metadata": {},
     "output_type": "execute_result"
    }
   ],
   "source": [
    "#Observation des 10 voisins les plus proches au 1er texte ainsi que les distances qui les séparent\n",
    "knn.kneighbors(features[0:1], return_distance=True)"
   ]
  },
  {
   "cell_type": "markdown",
   "metadata": {},
   "source": [
    "## A partir d'un user story pris dans une matrice de couverture, récupérons ses 10 voisins les plus proches et comparons"
   ]
  },
  {
   "cell_type": "code",
   "execution_count": 8,
   "metadata": {},
   "outputs": [
    {
     "name": "stdout",
     "output_type": "stream",
     "text": [
      "Input text =  L’utilisateur peut créer un lien de niveau 1 \n",
      "\n",
      "Distance =  0.15245928033846678 Neighbor idx =  69\n",
      "\tNotes :\n",
      "Lutilisateur peut créer un lien de niveau 1\n",
      "Lutilisateur peut créer un lien de niveau 2\n",
      "Le contributeur peut ajouter toute page dans le footer front-office\n",
      "--------------------------------------------------------------------------------------------------------------------------------------------------------------------------------------------------------\n",
      "Distance =  0.2814280431405116 Neighbor idx =  40\n",
      "\tNotes :\n",
      "Lutilisateur peut créer un lien de niveau 1\n",
      "Lutilisateur peut créer un lien de niveau 2\n",
      "Une page nouvellement créée en back-office est visible automatiquement dans le menu front-office\n",
      "2 b\n",
      "--------------------------------------------------------------------------------------------------------------------------------------------------------------------------------------------------------\n",
      "========================================================================================================================================================================================================\n",
      "\n"
     ]
    }
   ],
   "source": [
    "input_texts = [\"L’utilisateur peut créer un lien de niveau 1\"]\n",
    "input_features = vec.transform(input_texts)\n",
    "\n",
    "D, N = knn.kneighbors(input_features, n_neighbors=10, return_distance=True)\n",
    "\n",
    "for input_text, distances, neighbors in zip(input_texts, D, N):\n",
    "    print(\"Input text = \", input_text[:200], \"\\n\")\n",
    "    for dist, neighbor_idx in zip(distances, neighbors):\n",
    "        if dist < 0.5 :\n",
    "            print(\"Distance = \", dist, \"Neighbor idx = \", neighbor_idx)\n",
    "            print(data['texte'].values[neighbor_idx][:200])\n",
    "            print(\"-\"*200)\n",
    "    print(\"=\"*200)\n",
    "    print()"
   ]
  },
  {
   "cell_type": "code",
   "execution_count": 11,
   "metadata": {},
   "outputs": [
    {
     "name": "stdout",
     "output_type": "stream",
     "text": [
      "Input text =  Le contributeur se place dans une page éditoriale et ajoute un plugin bloc Image. Il peut :Sélectionner une image existante [...] \n",
      "\n",
      "Distance =  0.26729559364136923 Neighbor idx =  303\n",
      "Cas dutilisation décrivant la contribution dun contenu éditorial Image.\n",
      "Le contributeur se place dans une page éditoriale et ajoute un plugin bloc Image. Il peut :\n",
      "\tSélectionner une image existante\n",
      "--------------------------------------------------------------------------------------------------------------------------------------------------------------------------------------------------------\n",
      "Distance =  0.42651248223543203 Neighbor idx =  298\n",
      "Cas dutilisation décrivant la contribution dun bloc éditorial dans une page éditoriale.\n",
      "Le contributeur se place dans une page éditoriale et ajoute un bloc Texte et image.\n",
      "--------------------------------------------------------------------------------------------------------------------------------------------------------------------------------------------------------\n",
      "Distance =  0.4700718167417679 Neighbor idx =  365\n",
      "Cas dutilisation décrivant la contribution dun bloc Evénements liés.\n",
      "Le contributeur se place dans une page éditoriale et ajoute un plugin Evénements liés. Il peut sélectionner un lieu en lien à sa \n",
      "--------------------------------------------------------------------------------------------------------------------------------------------------------------------------------------------------------\n",
      "========================================================================================================================================================================================================\n",
      "\n"
     ]
    }
   ],
   "source": [
    "input_texts = [\"Le contributeur se place dans une page éditoriale et ajoute un plugin bloc Image. Il peut :Sélectionner une image existante [...]\"]\n",
    "input_features = vec.transform(input_texts)\n",
    "\n",
    "D, N = knn.kneighbors(input_features, n_neighbors=10, return_distance=True)\n",
    "\n",
    "for input_text, distances, neighbors in zip(input_texts, D, N):\n",
    "    print(\"Input text = \", input_text[:200], \"\\n\")\n",
    "    for dist, neighbor_idx in zip(distances, neighbors):\n",
    "        if dist < 0.5 :\n",
    "            print(\"Distance = \", dist, \"Neighbor idx = \", neighbor_idx)\n",
    "            print(data['texte'].values[neighbor_idx][:200])\n",
    "            print(\"-\"*200)\n",
    "    print(\"=\"*200)\n",
    "    print()"
   ]
  },
  {
   "cell_type": "markdown",
   "metadata": {},
   "source": [
    "### Nous remarquons plus ou moins une similarité entre le user story et ses 10 voisins autour du mot 'utilisateur' et les verbes d'actions utilisés"
   ]
  },
  {
   "cell_type": "code",
   "execution_count": null,
   "metadata": {},
   "outputs": [],
   "source": []
  }
 ],
 "metadata": {
  "kernelspec": {
   "display_name": "Python 3",
   "language": "python",
   "name": "python3"
  },
  "language_info": {
   "codemirror_mode": {
    "name": "ipython",
    "version": 3
   },
   "file_extension": ".py",
   "mimetype": "text/x-python",
   "name": "python",
   "nbconvert_exporter": "python",
   "pygments_lexer": "ipython3",
   "version": "3.7.3"
  }
 },
 "nbformat": 4,
 "nbformat_minor": 2
}
