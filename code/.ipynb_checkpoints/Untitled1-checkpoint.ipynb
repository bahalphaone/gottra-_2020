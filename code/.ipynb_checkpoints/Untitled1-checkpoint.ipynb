{
 "cells": [
  {
   "cell_type": "code",
   "execution_count": 1,
   "metadata": {},
   "outputs": [],
   "source": [
    "# Import all required tools\n",
    "import re\n",
    "import os\n",
    "import sys\n",
    "import string\n",
    "import codecs\n",
    "import numpy as np\n",
    "import matplotlib.pyplot as plt\n",
    "\n",
    "from sklearn.cluster import DBSCAN\n",
    "from sklearn.metrics import pairwise\n",
    "from sklearn.preprocessing import StandardScaler\n",
    "from sklearn.feature_extraction.text import CountVectorizer\n",
    "from sklearn.feature_extraction.text import TfidfVectorizer\n",
    "from sklearn.metrics.pairwise import euclidean_distances\n",
    "from sklearn.metrics.pairwise import cosine_similarity\n",
    "from scipy.cluster.hierarchy import ward, dendrogram\n",
    "from scipy.spatial.distance import cosine\n",
    "from scipy.stats.stats import pearsonr\n",
    "\n",
    "import nltk\n",
    "from nltk.corpus import stopwords\n",
    "from nltk.stem import WordNetLemmatizer\n",
    "wl = WordNetLemmatizer()"
   ]
  },
  {
   "cell_type": "code",
   "execution_count": 2,
   "metadata": {},
   "outputs": [],
   "source": [
    "from nltk.corpus import stopwords\n",
    "stop = stopwords.words('french')"
   ]
  },
  {
   "cell_type": "code",
   "execution_count": 3,
   "metadata": {},
   "outputs": [
    {
     "data": {
      "text/html": [
       "<div>\n",
       "<style scoped>\n",
       "    .dataframe tbody tr th:only-of-type {\n",
       "        vertical-align: middle;\n",
       "    }\n",
       "\n",
       "    .dataframe tbody tr th {\n",
       "        vertical-align: top;\n",
       "    }\n",
       "\n",
       "    .dataframe thead th {\n",
       "        text-align: right;\n",
       "    }\n",
       "</style>\n",
       "<table border=\"1\" class=\"dataframe\">\n",
       "  <thead>\n",
       "    <tr style=\"text-align: right;\">\n",
       "      <th></th>\n",
       "      <th>texte</th>\n",
       "      <th>tag</th>\n",
       "    </tr>\n",
       "  </thead>\n",
       "  <tbody>\n",
       "    <tr>\n",
       "      <th>0</th>\n",
       "      <td>4.\\tVersion Desktop - liste des cas d'utilisat...</td>\n",
       "      <td>texte</td>\n",
       "    </tr>\n",
       "    <tr>\n",
       "      <th>1</th>\n",
       "      <td>4.1.1\\tCU001-001 Afficher le header</td>\n",
       "      <td>usecase</td>\n",
       "    </tr>\n",
       "    <tr>\n",
       "      <th>2</th>\n",
       "      <td>Acteur : Internaute</td>\n",
       "      <td>acteur</td>\n",
       "    </tr>\n",
       "    <tr>\n",
       "      <th>3</th>\n",
       "      <td>Cas dutilisation permettant à un internaute  ...</td>\n",
       "      <td>texte</td>\n",
       "    </tr>\n",
       "    <tr>\n",
       "      <th>4</th>\n",
       "      <td>\\tNotes :\\nLe système affiche les éléments su...</td>\n",
       "      <td>texte</td>\n",
       "    </tr>\n",
       "  </tbody>\n",
       "</table>\n",
       "</div>"
      ],
      "text/plain": [
       "                                               texte      tag\n",
       "0  4.\\tVersion Desktop - liste des cas d'utilisat...    texte\n",
       "1                4.1.1\\tCU001-001 Afficher le header  usecase\n",
       "2                                Acteur : Internaute   acteur\n",
       "3  Cas dutilisation permettant à un internaute  ...    texte\n",
       "4  \\tNotes :\\nLe système affiche les éléments su...    texte"
      ]
     },
     "execution_count": 3,
     "metadata": {},
     "output_type": "execute_result"
    }
   ],
   "source": [
    "import pandas as pd\n",
    "import numpy as np\n",
    "data = pd.read_csv('./scenarii.csv', encoding=\"ISO-8859-1\", sep=\";\", header = 0)\n",
    "data.head()"
   ]
  },
  {
   "cell_type": "code",
   "execution_count": 4,
   "metadata": {},
   "outputs": [
    {
     "data": {
      "text/plain": [
       "0    4. version desktop - liste des cas d'utilisati...\n",
       "1                   4.1.1 cu001-001 afficher le header\n",
       "2                                  acteur : internaute\n",
       "3    cas dutilisation permettant à un internaute d...\n",
       "4     notes : le système affiche les éléments suiv...\n",
       "Name: texte, dtype: object"
      ]
     },
     "execution_count": 4,
     "metadata": {},
     "output_type": "execute_result"
    }
   ],
   "source": [
    "#Mettre le texte en Minuscule\n",
    "data['texte'] = data['texte'].apply(lambda x: \" \".join(x.lower() for x in x.split()))\n",
    "data['texte'].head()"
   ]
  },
  {
   "cell_type": "code",
   "execution_count": 5,
   "metadata": {},
   "outputs": [
    {
     "data": {
      "text/html": [
       "<div>\n",
       "<style scoped>\n",
       "    .dataframe tbody tr th:only-of-type {\n",
       "        vertical-align: middle;\n",
       "    }\n",
       "\n",
       "    .dataframe tbody tr th {\n",
       "        vertical-align: top;\n",
       "    }\n",
       "\n",
       "    .dataframe thead th {\n",
       "        text-align: right;\n",
       "    }\n",
       "</style>\n",
       "<table border=\"1\" class=\"dataframe\">\n",
       "  <thead>\n",
       "    <tr style=\"text-align: right;\">\n",
       "      <th></th>\n",
       "      <th>texte</th>\n",
       "      <th>word_count</th>\n",
       "    </tr>\n",
       "  </thead>\n",
       "  <tbody>\n",
       "    <tr>\n",
       "      <th>0</th>\n",
       "      <td>4. version desktop - liste des cas d'utilisati...</td>\n",
       "      <td>15</td>\n",
       "    </tr>\n",
       "    <tr>\n",
       "      <th>1</th>\n",
       "      <td>4.1.1 cu001-001 afficher le header</td>\n",
       "      <td>5</td>\n",
       "    </tr>\n",
       "    <tr>\n",
       "      <th>2</th>\n",
       "      <td>acteur : internaute</td>\n",
       "      <td>3</td>\n",
       "    </tr>\n",
       "    <tr>\n",
       "      <th>3</th>\n",
       "      <td>cas dutilisation permettant à un internaute d...</td>\n",
       "      <td>39</td>\n",
       "    </tr>\n",
       "    <tr>\n",
       "      <th>4</th>\n",
       "      <td> notes : le système affiche les éléments suiv...</td>\n",
       "      <td>45</td>\n",
       "    </tr>\n",
       "    <tr>\n",
       "      <th>5</th>\n",
       "      <td> actions : si lutilisateur clique sur le log...</td>\n",
       "      <td>115</td>\n",
       "    </tr>\n",
       "    <tr>\n",
       "      <th>6</th>\n",
       "      <td>4.1.2 cu001-002 afficher le bouton de langue</td>\n",
       "      <td>7</td>\n",
       "    </tr>\n",
       "    <tr>\n",
       "      <th>7</th>\n",
       "      <td>acteur : internaute</td>\n",
       "      <td>3</td>\n",
       "    </tr>\n",
       "    <tr>\n",
       "      <th>8</th>\n",
       "      <td>cas dutilisation permettant à un internaute d...</td>\n",
       "      <td>12</td>\n",
       "    </tr>\n",
       "    <tr>\n",
       "      <th>9</th>\n",
       "      <td> notes : le système affiche : la langue sélec...</td>\n",
       "      <td>20</td>\n",
       "    </tr>\n",
       "    <tr>\n",
       "      <th>10</th>\n",
       "      <td> actions : au clic sur la langue sélectionnée...</td>\n",
       "      <td>189</td>\n",
       "    </tr>\n",
       "    <tr>\n",
       "      <th>11</th>\n",
       "      <td> règles de gestion : si lutilisateur clique ...</td>\n",
       "      <td>83</td>\n",
       "    </tr>\n",
       "    <tr>\n",
       "      <th>12</th>\n",
       "      <td>4.1.3 cu001-0021 afficher la page langue</td>\n",
       "      <td>6</td>\n",
       "    </tr>\n",
       "    <tr>\n",
       "      <th>13</th>\n",
       "      <td>acteur : internaute</td>\n",
       "      <td>3</td>\n",
       "    </tr>\n",
       "    <tr>\n",
       "      <th>14</th>\n",
       "      <td>cas dutilisation permettant à un internaute d...</td>\n",
       "      <td>11</td>\n",
       "    </tr>\n",
       "    <tr>\n",
       "      <th>15</th>\n",
       "      <td> notes : le système affiche pour chaque langu...</td>\n",
       "      <td>33</td>\n",
       "    </tr>\n",
       "    <tr>\n",
       "      <th>16</th>\n",
       "      <td>4.1.4 cu001-0022 contribuer la page langue</td>\n",
       "      <td>6</td>\n",
       "    </tr>\n",
       "    <tr>\n",
       "      <th>17</th>\n",
       "      <td>acteur : administrateur / contributeur</td>\n",
       "      <td>5</td>\n",
       "    </tr>\n",
       "    <tr>\n",
       "      <th>18</th>\n",
       "      <td>cas dutilisation décrivant la contribution de...</td>\n",
       "      <td>25</td>\n",
       "    </tr>\n",
       "    <tr>\n",
       "      <th>19</th>\n",
       "      <td>nom du champ type de champ obligatoire comment...</td>\n",
       "      <td>23</td>\n",
       "    </tr>\n",
       "    <tr>\n",
       "      <th>20</th>\n",
       "      <td>4.1.5 cu001-003 afficher le fil dariane</td>\n",
       "      <td>6</td>\n",
       "    </tr>\n",
       "    <tr>\n",
       "      <th>21</th>\n",
       "      <td>acteur : internaute</td>\n",
       "      <td>3</td>\n",
       "    </tr>\n",
       "    <tr>\n",
       "      <th>22</th>\n",
       "      <td>cas dutilisation permettant à un internaute d...</td>\n",
       "      <td>13</td>\n",
       "    </tr>\n",
       "    <tr>\n",
       "      <th>23</th>\n",
       "      <td>un fil dariane est présent sur toutes les pag...</td>\n",
       "      <td>22</td>\n",
       "    </tr>\n",
       "    <tr>\n",
       "      <th>24</th>\n",
       "      <td>le fil dariane est composé dun lien vers la ...</td>\n",
       "      <td>33</td>\n",
       "    </tr>\n",
       "    <tr>\n",
       "      <th>25</th>\n",
       "      <td> règles de gestion le fil dariane ne saffic...</td>\n",
       "      <td>160</td>\n",
       "    </tr>\n",
       "    <tr>\n",
       "      <th>26</th>\n",
       "      <td>4.1.6 cu001-004 afficher le bouton de partage</td>\n",
       "      <td>7</td>\n",
       "    </tr>\n",
       "    <tr>\n",
       "      <th>27</th>\n",
       "      <td>acteur : internaute</td>\n",
       "      <td>3</td>\n",
       "    </tr>\n",
       "    <tr>\n",
       "      <th>28</th>\n",
       "      <td>cas dutilisation permettant à un internaute d...</td>\n",
       "      <td>31</td>\n",
       "    </tr>\n",
       "    <tr>\n",
       "      <th>29</th>\n",
       "      <td> notes : la page en cours de consultation est...</td>\n",
       "      <td>16</td>\n",
       "    </tr>\n",
       "    <tr>\n",
       "      <th>30</th>\n",
       "      <td> actions : au clic sur le bouton de partage, ...</td>\n",
       "      <td>48</td>\n",
       "    </tr>\n",
       "    <tr>\n",
       "      <th>31</th>\n",
       "      <td> règles de gestion depuis une page éditorial ...</td>\n",
       "      <td>62</td>\n",
       "    </tr>\n",
       "    <tr>\n",
       "      <th>32</th>\n",
       "      <td>4.1.7 cu001-005 afficher le menu de navigation</td>\n",
       "      <td>7</td>\n",
       "    </tr>\n",
       "    <tr>\n",
       "      <th>33</th>\n",
       "      <td>acteur : internaute</td>\n",
       "      <td>3</td>\n",
       "    </tr>\n",
       "    <tr>\n",
       "      <th>34</th>\n",
       "      <td>cas dutilisation permettant à un internaute d...</td>\n",
       "      <td>24</td>\n",
       "    </tr>\n",
       "    <tr>\n",
       "      <th>35</th>\n",
       "      <td> notes : le menu est constitué des entrées de...</td>\n",
       "      <td>60</td>\n",
       "    </tr>\n",
       "    <tr>\n",
       "      <th>36</th>\n",
       "      <td> actions : au clic sur lune des entrées de n...</td>\n",
       "      <td>38</td>\n",
       "    </tr>\n",
       "    <tr>\n",
       "      <th>37</th>\n",
       "      <td> règles de gestion : si lutilisateur navigue...</td>\n",
       "      <td>42</td>\n",
       "    </tr>\n",
       "    <tr>\n",
       "      <th>38</th>\n",
       "      <td>4.1.8 cu001-006 modifier le menu de navigation</td>\n",
       "      <td>7</td>\n",
       "    </tr>\n",
       "    <tr>\n",
       "      <th>39</th>\n",
       "      <td>acteur : administrateur / contributeur</td>\n",
       "      <td>5</td>\n",
       "    </tr>\n",
       "  </tbody>\n",
       "</table>\n",
       "</div>"
      ],
      "text/plain": [
       "                                                texte  word_count\n",
       "0   4. version desktop - liste des cas d'utilisati...          15\n",
       "1                  4.1.1 cu001-001 afficher le header           5\n",
       "2                                 acteur : internaute           3\n",
       "3   cas dutilisation permettant à un internaute d...          39\n",
       "4    notes : le système affiche les éléments suiv...          45\n",
       "5    actions : si lutilisateur clique sur le log...         115\n",
       "6        4.1.2 cu001-002 afficher le bouton de langue           7\n",
       "7                                 acteur : internaute           3\n",
       "8   cas dutilisation permettant à un internaute d...          12\n",
       "9    notes : le système affiche : la langue sélec...          20\n",
       "10   actions : au clic sur la langue sélectionnée...         189\n",
       "11   règles de gestion : si lutilisateur clique ...          83\n",
       "12           4.1.3 cu001-0021 afficher la page langue           6\n",
       "13                                acteur : internaute           3\n",
       "14  cas dutilisation permettant à un internaute d...          11\n",
       "15   notes : le système affiche pour chaque langu...          33\n",
       "16         4.1.4 cu001-0022 contribuer la page langue           6\n",
       "17             acteur : administrateur / contributeur           5\n",
       "18  cas dutilisation décrivant la contribution de...          25\n",
       "19  nom du champ type de champ obligatoire comment...          23\n",
       "20           4.1.5 cu001-003 afficher le fil dariane           6\n",
       "21                                acteur : internaute           3\n",
       "22  cas dutilisation permettant à un internaute d...          13\n",
       "23  un fil dariane est présent sur toutes les pag...          22\n",
       "24  le fil dariane est composé dun lien vers la ...          33\n",
       "25   règles de gestion le fil dariane ne saffic...         160\n",
       "26      4.1.6 cu001-004 afficher le bouton de partage           7\n",
       "27                                acteur : internaute           3\n",
       "28  cas dutilisation permettant à un internaute d...          31\n",
       "29   notes : la page en cours de consultation est...          16\n",
       "30   actions : au clic sur le bouton de partage, ...          48\n",
       "31   règles de gestion depuis une page éditorial ...          62\n",
       "32     4.1.7 cu001-005 afficher le menu de navigation           7\n",
       "33                                acteur : internaute           3\n",
       "34  cas dutilisation permettant à un internaute d...          24\n",
       "35   notes : le menu est constitué des entrées de...          60\n",
       "36   actions : au clic sur lune des entrées de n...          38\n",
       "37   règles de gestion : si lutilisateur navigue...          42\n",
       "38     4.1.8 cu001-006 modifier le menu de navigation           7\n",
       "39             acteur : administrateur / contributeur           5"
      ]
     },
     "execution_count": 5,
     "metadata": {},
     "output_type": "execute_result"
    }
   ],
   "source": [
    "data['word_count'] = data['texte'].apply(lambda x: len(str(x).split(\" \")))\n",
    "data[['texte','word_count']].head(40)"
   ]
  },
  {
   "cell_type": "code",
   "execution_count": 6,
   "metadata": {},
   "outputs": [
    {
     "data": {
      "text/html": [
       "<div>\n",
       "<style scoped>\n",
       "    .dataframe tbody tr th:only-of-type {\n",
       "        vertical-align: middle;\n",
       "    }\n",
       "\n",
       "    .dataframe tbody tr th {\n",
       "        vertical-align: top;\n",
       "    }\n",
       "\n",
       "    .dataframe thead th {\n",
       "        text-align: right;\n",
       "    }\n",
       "</style>\n",
       "<table border=\"1\" class=\"dataframe\">\n",
       "  <thead>\n",
       "    <tr style=\"text-align: right;\">\n",
       "      <th></th>\n",
       "      <th>texte</th>\n",
       "      <th>stopwords</th>\n",
       "    </tr>\n",
       "  </thead>\n",
       "  <tbody>\n",
       "    <tr>\n",
       "      <th>0</th>\n",
       "      <td>4. version desktop - liste des cas d'utilisati...</td>\n",
       "      <td>2</td>\n",
       "    </tr>\n",
       "    <tr>\n",
       "      <th>1</th>\n",
       "      <td>4.1.1 cu001-001 afficher le header</td>\n",
       "      <td>1</td>\n",
       "    </tr>\n",
       "    <tr>\n",
       "      <th>2</th>\n",
       "      <td>acteur : internaute</td>\n",
       "      <td>0</td>\n",
       "    </tr>\n",
       "    <tr>\n",
       "      <th>3</th>\n",
       "      <td>cas dutilisation permettant à un internaute d...</td>\n",
       "      <td>14</td>\n",
       "    </tr>\n",
       "    <tr>\n",
       "      <th>4</th>\n",
       "      <td> notes : le système affiche les éléments suiv...</td>\n",
       "      <td>12</td>\n",
       "    </tr>\n",
       "    <tr>\n",
       "      <th>5</th>\n",
       "      <td> actions : si lutilisateur clique sur le log...</td>\n",
       "      <td>36</td>\n",
       "    </tr>\n",
       "    <tr>\n",
       "      <th>6</th>\n",
       "      <td>4.1.2 cu001-002 afficher le bouton de langue</td>\n",
       "      <td>2</td>\n",
       "    </tr>\n",
       "    <tr>\n",
       "      <th>7</th>\n",
       "      <td>acteur : internaute</td>\n",
       "      <td>0</td>\n",
       "    </tr>\n",
       "    <tr>\n",
       "      <th>8</th>\n",
       "      <td>cas dutilisation permettant à un internaute d...</td>\n",
       "      <td>5</td>\n",
       "    </tr>\n",
       "    <tr>\n",
       "      <th>9</th>\n",
       "      <td> notes : le système affiche : la langue sélec...</td>\n",
       "      <td>6</td>\n",
       "    </tr>\n",
       "    <tr>\n",
       "      <th>10</th>\n",
       "      <td> actions : au clic sur la langue sélectionnée...</td>\n",
       "      <td>56</td>\n",
       "    </tr>\n",
       "    <tr>\n",
       "      <th>11</th>\n",
       "      <td> règles de gestion : si lutilisateur clique ...</td>\n",
       "      <td>22</td>\n",
       "    </tr>\n",
       "    <tr>\n",
       "      <th>12</th>\n",
       "      <td>4.1.3 cu001-0021 afficher la page langue</td>\n",
       "      <td>1</td>\n",
       "    </tr>\n",
       "    <tr>\n",
       "      <th>13</th>\n",
       "      <td>acteur : internaute</td>\n",
       "      <td>0</td>\n",
       "    </tr>\n",
       "    <tr>\n",
       "      <th>14</th>\n",
       "      <td>cas dutilisation permettant à un internaute d...</td>\n",
       "      <td>4</td>\n",
       "    </tr>\n",
       "    <tr>\n",
       "      <th>15</th>\n",
       "      <td> notes : le système affiche pour chaque langu...</td>\n",
       "      <td>9</td>\n",
       "    </tr>\n",
       "    <tr>\n",
       "      <th>16</th>\n",
       "      <td>4.1.4 cu001-0022 contribuer la page langue</td>\n",
       "      <td>1</td>\n",
       "    </tr>\n",
       "    <tr>\n",
       "      <th>17</th>\n",
       "      <td>acteur : administrateur / contributeur</td>\n",
       "      <td>0</td>\n",
       "    </tr>\n",
       "    <tr>\n",
       "      <th>18</th>\n",
       "      <td>cas dutilisation décrivant la contribution de...</td>\n",
       "      <td>9</td>\n",
       "    </tr>\n",
       "    <tr>\n",
       "      <th>19</th>\n",
       "      <td>nom du champ type de champ obligatoire comment...</td>\n",
       "      <td>4</td>\n",
       "    </tr>\n",
       "  </tbody>\n",
       "</table>\n",
       "</div>"
      ],
      "text/plain": [
       "                                                texte  stopwords\n",
       "0   4. version desktop - liste des cas d'utilisati...          2\n",
       "1                  4.1.1 cu001-001 afficher le header          1\n",
       "2                                 acteur : internaute          0\n",
       "3   cas dutilisation permettant à un internaute d...         14\n",
       "4    notes : le système affiche les éléments suiv...         12\n",
       "5    actions : si lutilisateur clique sur le log...         36\n",
       "6        4.1.2 cu001-002 afficher le bouton de langue          2\n",
       "7                                 acteur : internaute          0\n",
       "8   cas dutilisation permettant à un internaute d...          5\n",
       "9    notes : le système affiche : la langue sélec...          6\n",
       "10   actions : au clic sur la langue sélectionnée...         56\n",
       "11   règles de gestion : si lutilisateur clique ...         22\n",
       "12           4.1.3 cu001-0021 afficher la page langue          1\n",
       "13                                acteur : internaute          0\n",
       "14  cas dutilisation permettant à un internaute d...          4\n",
       "15   notes : le système affiche pour chaque langu...          9\n",
       "16         4.1.4 cu001-0022 contribuer la page langue          1\n",
       "17             acteur : administrateur / contributeur          0\n",
       "18  cas dutilisation décrivant la contribution de...          9\n",
       "19  nom du champ type de champ obligatoire comment...          4"
      ]
     },
     "execution_count": 6,
     "metadata": {},
     "output_type": "execute_result"
    }
   ],
   "source": [
    "data['stopwords'] = data['texte'].apply(lambda x: len([x for x in x.split() if x in stop]))\n",
    "data[['texte','stopwords']].head(20)"
   ]
  },
  {
   "cell_type": "code",
   "execution_count": 7,
   "metadata": {},
   "outputs": [
    {
     "data": {
      "text/plain": [
       "0    4. version desktop - liste cas d'utilisations ...\n",
       "1                      4.1.1 cu001-001 afficher header\n",
       "2                                  acteur : internaute\n",
       "3    cas dutilisation permettant internaute consul...\n",
       "4     notes : système affiche éléments suivants : ...\n",
       "Name: texte, dtype: object"
      ]
     },
     "execution_count": 7,
     "metadata": {},
     "output_type": "execute_result"
    }
   ],
   "source": [
    "data['texte'] = data['texte'].apply(lambda x: \" \".join(x for x in x.split() if x not in stop))\n",
    "data['texte'].head()"
   ]
  },
  {
   "cell_type": "code",
   "execution_count": null,
   "metadata": {},
   "outputs": [],
   "source": []
  },
  {
   "cell_type": "code",
   "execution_count": 8,
   "metadata": {},
   "outputs": [
    {
     "data": {
      "text/plain": [
       ":                1641\n",
       "                1634\n",
       "champ             846\n",
       "système           802\n",
       "affiche           735\n",
       "si                664\n",
       "liste             633\n",
       "afficher          613\n",
       "cas               603\n",
       "bloc              585\n",
       "dutilisation     573\n",
       "page              518\n",
       "texte             449\n",
       "titre             446\n",
       "bouton            437\n",
       "date              421\n",
       "clic              378\n",
       "règles            353\n",
       "décrivant         329\n",
       "a                 328\n",
       "dtype: int64"
      ]
     },
     "execution_count": 8,
     "metadata": {},
     "output_type": "execute_result"
    }
   ],
   "source": [
    "freq = pd.Series(' '.join(data['texte']).split()).value_counts()[:20]\n",
    "freq"
   ]
  },
  {
   "cell_type": "code",
   "execution_count": 9,
   "metadata": {},
   "outputs": [
    {
     "data": {
      "text/plain": [
       "4.17.5            1\n",
       "4.9.10.a          1\n",
       "textes            1\n",
       "(plan             1\n",
       "4.2.1.g           1\n",
       "dappel           1\n",
       "4.17.4            1\n",
       "4.9.14.a          1\n",
       "4.6.8.l4.6.8.j    1\n",
       "022               1\n",
       "4.15.2.d          1\n",
       "assister          1\n",
       "5.6.1.f           1\n",
       "sappliquer       1\n",
       "cu012-001         1\n",
       "4.10              1\n",
       "4.6               1\n",
       "4.7.3             1\n",
       "cu009-405         1\n",
       "supprimés         1\n",
       "dtype: int64"
      ]
     },
     "execution_count": 9,
     "metadata": {},
     "output_type": "execute_result"
    }
   ],
   "source": [
    "mfreq = pd.Series(' '.join(data['texte']).split()).value_counts()[-20:]\n",
    "mfreq"
   ]
  },
  {
   "cell_type": "code",
   "execution_count": 10,
   "metadata": {},
   "outputs": [
    {
     "name": "stdout",
     "output_type": "stream",
     "text": [
      "Requirement already satisfied: textblob in c:\\users\\bigdata\\anaconda3\\lib\\site-packages (0.15.3)\n",
      "Requirement already satisfied: nltk>=3.1 in c:\\users\\bigdata\\anaconda3\\lib\\site-packages (from textblob) (3.4.5)\n",
      "Requirement already satisfied: six in c:\\users\\bigdata\\anaconda3\\lib\\site-packages (from nltk>=3.1->textblob) (1.12.0)\n",
      "Note: you may need to restart the kernel to use updated packages.\n"
     ]
    }
   ],
   "source": [
    "pip install textblob"
   ]
  },
  {
   "cell_type": "code",
   "execution_count": 10,
   "metadata": {},
   "outputs": [
    {
     "data": {
      "text/plain": [
       "[WordList(['4', 'version']),\n",
       " WordList(['version', 'desktop']),\n",
       " WordList(['desktop', 'liste']),\n",
       " WordList(['liste', 'cas']),\n",
       " WordList(['cas', \"d'utilisations\"]),\n",
       " WordList([\"d'utilisations\", '4.1']),\n",
       " WordList(['4.1', 'eléments']),\n",
       " WordList(['eléments', 'transverses']),\n",
       " WordList(['transverses', 'site']),\n",
       " WordList(['site', 'lot']),\n",
       " WordList(['lot', '1'])]"
      ]
     },
     "execution_count": 10,
     "metadata": {},
     "output_type": "execute_result"
    }
   ],
   "source": [
    "from textblob import TextBlob\n",
    "TextBlob(data['texte'][0]).ngrams(2)"
   ]
  },
  {
   "cell_type": "code",
   "execution_count": 12,
   "metadata": {},
   "outputs": [
    {
     "data": {
      "text/plain": [
       "<2382x1000 sparse matrix of type '<class 'numpy.float64'>'\n",
       "\twith 44208 stored elements in Compressed Sparse Row format>"
      ]
     },
     "execution_count": 12,
     "metadata": {},
     "output_type": "execute_result"
    }
   ],
   "source": [
    "from sklearn.feature_extraction.text import TfidfVectorizer\n",
    "tfidf = TfidfVectorizer(max_features=1000, lowercase=True, analyzer='word', stop_words= 'english',ngram_range=(1,3))\n",
    "data_vect = tfidf.fit_transform(data['texte'])\n",
    "\n",
    "data_vect"
   ]
  },
  {
   "cell_type": "code",
   "execution_count": null,
   "metadata": {},
   "outputs": [],
   "source": []
  },
  {
   "cell_type": "code",
   "execution_count": 13,
   "metadata": {},
   "outputs": [
    {
     "data": {
      "text/plain": [
       "array([[0.        , 0.        , 0.        , ..., 0.        , 0.        ,\n",
       "        0.        ],\n",
       "       [0.54960288, 0.55846686, 0.        , ..., 0.        , 0.        ,\n",
       "        0.        ],\n",
       "       [0.        , 0.        , 0.        , ..., 0.        , 0.        ,\n",
       "        0.        ],\n",
       "       ...,\n",
       "       [0.        , 0.        , 0.        , ..., 0.        , 0.        ,\n",
       "        0.        ],\n",
       "       [0.        , 0.        , 0.        , ..., 0.        , 0.        ,\n",
       "        0.        ],\n",
       "       [0.        , 0.        , 0.        , ..., 0.        , 0.        ,\n",
       "        0.        ]])"
      ]
     },
     "execution_count": 13,
     "metadata": {},
     "output_type": "execute_result"
    }
   ],
   "source": [
    "data_vect.toarray()"
   ]
  },
  {
   "cell_type": "code",
   "execution_count": null,
   "metadata": {},
   "outputs": [],
   "source": []
  },
  {
   "cell_type": "code",
   "execution_count": 14,
   "metadata": {},
   "outputs": [],
   "source": [
    "from sklearn.cluster import DBSCAN\n",
    "from sklearn.preprocessing import StandardScaler\n",
    "scaler = StandardScaler()\n",
    "data_scaled = scaler.fit_transform(data_vect.toarray())"
   ]
  },
  {
   "cell_type": "code",
   "execution_count": 15,
   "metadata": {},
   "outputs": [],
   "source": [
    "dbscan = DBSCAN(eps=0.003, min_samples = 2)\n",
    "clusters = dbscan.fit_predict(data_scaled)"
   ]
  },
  {
   "cell_type": "code",
   "execution_count": 16,
   "metadata": {},
   "outputs": [
    {
     "data": {
      "text/plain": [
       "Text(0, 0.5, 'Feature 1')"
      ]
     },
     "execution_count": 16,
     "metadata": {},
     "output_type": "execute_result"
    },
    {
     "data": {
      "image/png": "[encoded data removed]",
      "text/plain": [
       "<Figure size 432x288 with 1 Axes>"
      ]
     },
     "metadata": {
      "needs_background": "light"
     },
     "output_type": "display_data"
    }
   ],
   "source": [
    "# plot the cluster assignments\n",
    "plt.scatter(data_vect.toarray()[:, 0], data_vect.toarray()[:, 1], c=clusters, cmap=\"plasma\")\n",
    "plt.xlabel(\"Feature 0\")\n",
    "plt.ylabel(\"Feature 1\")"
   ]
  },
  {
   "cell_type": "code",
   "execution_count": null,
   "metadata": {},
   "outputs": [],
   "source": []
  },
  {
   "cell_type": "code",
   "execution_count": 17,
   "metadata": {},
   "outputs": [
    {
     "data": {
      "text/plain": [
       "MiniBatchKMeans(batch_size=100, compute_labels=True, init='k-means++',\n",
       "                init_size=None, max_iter=100, max_no_improvement=10,\n",
       "                n_clusters=5, n_init=3, random_state=0, reassignment_ratio=0.01,\n",
       "                tol=0.0, verbose=0)"
      ]
     },
     "execution_count": 17,
     "metadata": {},
     "output_type": "execute_result"
    }
   ],
   "source": [
    "#Construction d'un clustering de 5 clusters\n",
    "from sklearn.cluster import MiniBatchKMeans\n",
    "nbc=5\n",
    "model = MiniBatchKMeans(n_clusters=nbc, random_state=0)\n",
    "model.fit(data_vect)"
   ]
  },
  {
   "cell_type": "code",
   "execution_count": 18,
   "metadata": {
    "scrolled": true
   },
   "outputs": [
    {
     "name": "stdout",
     "output_type": "stream",
     "text": [
      "Top terms per cluster:\n",
      "Cluster 0:\n",
      " afficher\n",
      " clic\n",
      " actions\n",
      " page\n",
      " lot\n",
      " liste\n",
      " bouton\n",
      " bloc\n",
      " voir\n",
      " actions clic\n",
      "Cluster 1:\n",
      " champ\n",
      " affiche\n",
      " système affiche\n",
      " système\n",
      " date\n",
      " notes\n",
      " texte\n",
      " titre\n",
      " oui\n",
      " affichage\n",
      "Cluster 2:\n",
      " règles\n",
      " contribuer\n",
      " si\n",
      " élément\n",
      " règles gestion\n",
      " gestion\n",
      " bloc\n",
      " 15\n",
      " affiche\n",
      " langue\n",
      "Cluster 3:\n",
      " acteur\n",
      " acteur internaute\n",
      " internaute\n",
      " administrateur\n",
      " acteur administrateur\n",
      " administrateur contributeur\n",
      " contributeur\n",
      " favoris\n",
      " notice\n",
      " titre\n",
      "Cluster 4:\n",
      " décrivant\n",
      " utilisation décrivant\n",
      " cas utilisation\n",
      " utilisation\n",
      " décrivant consultation\n",
      " cas\n",
      " consultation\n",
      " page\n",
      " consultation bloc\n",
      " décrivant contribution\n"
     ]
    }
   ],
   "source": [
    "# Affichons les termes communs à chaque cluster\n",
    "nbc = 5\n",
    "print(\"Top terms per cluster:\")\n",
    "order_centroids = model.cluster_centers_.argsort()[:, ::-1]\n",
    "terms = tfidf.get_feature_names()\n",
    "for i in range(nbc):\n",
    "    print(\"Cluster %d:\" % i),\n",
    "    for ind in order_centroids[i, :10]:\n",
    "        print(' %s' % terms[ind]),\n",
    "    print"
   ]
  },
  {
   "cell_type": "code",
   "execution_count": 19,
   "metadata": {},
   "outputs": [
    {
     "name": "stdout",
     "output_type": "stream",
     "text": [
      "[3]\n"
     ]
    }
   ],
   "source": [
    "Y = tfidf.transform([\"Acteur : Internaute\"])\n",
    "prediction = model.predict(Y)\n",
    "print(prediction)"
   ]
  },
  {
   "cell_type": "code",
   "execution_count": 20,
   "metadata": {},
   "outputs": [
    {
     "name": "stdout",
     "output_type": "stream",
     "text": [
      "[0]\n"
     ]
    }
   ],
   "source": [
    "Y = tfidf.transform([\"4.1.2 CU001-002 Afficher le bouton de langu\"])\n",
    "prediction = model.predict(Y)\n",
    "print(prediction)"
   ]
  },
  {
   "cell_type": "code",
   "execution_count": 21,
   "metadata": {},
   "outputs": [
    {
     "name": "stdout",
     "output_type": "stream",
     "text": [
      "[0]\n"
     ]
    }
   ],
   "source": [
    "Y = tfidf.transform([\"Cas d’utilisation permettant à un internaute  de consulter le fil d’ariane du site.\"])\n",
    "prediction = model.predict(Y)\n",
    "print(prediction)"
   ]
  },
  {
   "cell_type": "code",
   "execution_count": 22,
   "metadata": {},
   "outputs": [
    {
     "name": "stdout",
     "output_type": "stream",
     "text": [
      "[1]\n"
     ]
    }
   ],
   "source": [
    "Y = tfidf.transform([\"Si il y a plus de 3 jours successifs ayant les mêmes horaires, le système affiche Du [1er jour] au [dernier jour] Si il a 3 jours successifs ayant les mêmes horaires, le système affiche [1er jour], [2eme jour] et [3eme jour] Si il ya 2 jours successifs, le système affiche [1er jour], [2eme jour]\"])\n",
    "prediction = model.predict(Y)\n",
    "print(prediction)"
   ]
  },
  {
   "cell_type": "code",
   "execution_count": 23,
   "metadata": {},
   "outputs": [
    {
     "name": "stdout",
     "output_type": "stream",
     "text": [
      "[1]\n"
     ]
    }
   ],
   "source": [
    "Y = tfidf.transform([\"Nom du champ Type de champ obligatoire Commentaires\"])\n",
    "prediction = model.predict(Y)\n",
    "print(prediction)"
   ]
  },
  {
   "cell_type": "code",
   "execution_count": 24,
   "metadata": {},
   "outputs": [
    {
     "name": "stdout",
     "output_type": "stream",
     "text": [
      "[1]\n"
     ]
    }
   ],
   "source": [
    "Y = tfidf.transform([\"Nom de la langue Champ texte OUI Ge\"])\n",
    "prediction = model.predict(Y)\n",
    "print(prediction)"
   ]
  },
  {
   "cell_type": "code",
   "execution_count": 25,
   "metadata": {},
   "outputs": [
    {
     "name": "stdout",
     "output_type": "stream",
     "text": [
      "[2]\n"
     ]
    }
   ],
   "source": [
    "Y = tfidf.transform([\"L’utilisateur peut créer un lien de niveau 1\"])\n",
    "prediction = model.predict(Y)\n",
    "print(prediction)"
   ]
  },
  {
   "cell_type": "code",
   "execution_count": 26,
   "metadata": {},
   "outputs": [
    {
     "name": "stdout",
     "output_type": "stream",
     "text": [
      "[0]\n"
     ]
    }
   ],
   "source": [
    "Y = tfidf.transform([\"Pour ajouter une notice dans un panier, l’utilisateur sélectionne dispose de 2 filtres de recherche :\"])\n",
    "prediction = model.predict(Y)\n",
    "print(prediction)"
   ]
  },
  {
   "cell_type": "code",
   "execution_count": 27,
   "metadata": {},
   "outputs": [
    {
     "name": "stdout",
     "output_type": "stream",
     "text": [
      "[2]\n"
     ]
    }
   ],
   "source": [
    "Y = tfidf.transform([\"La langue sélectinnée\"])\n",
    "prediction = model.predict(Y)\n",
    "print(prediction)"
   ]
  },
  {
   "cell_type": "code",
   "execution_count": 28,
   "metadata": {},
   "outputs": [
    {
     "name": "stdout",
     "output_type": "stream",
     "text": [
      "[2]\n"
     ]
    }
   ],
   "source": [
    "Y = tfidf.transform([\"Ce bloc est visible sur toutes les pages éditoriales et tous les événements\"])\n",
    "prediction = model.predict(Y)\n",
    "print(prediction)"
   ]
  },
  {
   "cell_type": "code",
   "execution_count": 29,
   "metadata": {},
   "outputs": [
    {
     "name": "stdout",
     "output_type": "stream",
     "text": [
      "[2]\n"
     ]
    }
   ],
   "source": [
    "Y = tfidf.transform([\"Le système affiche les éléments suivants de la page éditoriale: un élément image, texte vidéo, twitter, son, 3D\"])\n",
    "prediction = model.predict(Y)\n",
    "print(prediction)"
   ]
  },
  {
   "cell_type": "code",
   "execution_count": 30,
   "metadata": {},
   "outputs": [
    {
     "name": "stdout",
     "output_type": "stream",
     "text": [
      "[2]\n"
     ]
    }
   ],
   "source": [
    "Y = tfidf.transform([\"l’utilisateur sélectionne dispose de 2 filtres de recherche :\"])\n",
    "prediction = model.predict(Y)\n",
    "print(prediction)"
   ]
  },
  {
   "cell_type": "code",
   "execution_count": 31,
   "metadata": {},
   "outputs": [
    {
     "name": "stdout",
     "output_type": "stream",
     "text": [
      "[1]\n"
     ]
    }
   ],
   "source": [
    "Y = tfidf.transform([\"Le système affiche le buton accès rapide avec titre, sous-titre, …\"])\n",
    "prediction = model.predict(Y)\n",
    "print(prediction)"
   ]
  },
  {
   "cell_type": "code",
   "execution_count": 32,
   "metadata": {},
   "outputs": [
    {
     "name": "stdout",
     "output_type": "stream",
     "text": [
      "[2]\n"
     ]
    }
   ],
   "source": [
    "Y = tfidf.transform([\"Le contributeur peut sélectionner des pages éditoriales, des événementd…\"])\n",
    "prediction = model.predict(Y)\n",
    "print(prediction)"
   ]
  },
  {
   "cell_type": "code",
   "execution_count": 33,
   "metadata": {},
   "outputs": [
    {
     "name": "stdout",
     "output_type": "stream",
     "text": [
      "[0]\n"
     ]
    }
   ],
   "source": [
    "Y = tfidf.transform([\"saisi l’url directe dans son navigateur\"])\n",
    "prediction = model.predict(Y)\n",
    "print(prediction)"
   ]
  },
  {
   "cell_type": "code",
   "execution_count": 34,
   "metadata": {},
   "outputs": [
    {
     "name": "stdout",
     "output_type": "stream",
     "text": [
      "[2]\n"
     ]
    }
   ],
   "source": [
    "Y = tfidf.transform([\"Nom du public\"])\n",
    "prediction = model.predict(Y)\n",
    "print(prediction)"
   ]
  },
  {
   "cell_type": "code",
   "execution_count": 35,
   "metadata": {},
   "outputs": [
    {
     "name": "stdout",
     "output_type": "stream",
     "text": [
      "[0]\n"
     ]
    }
   ],
   "source": [
    "Y = tfidf.transform([\"Visualisation du liste du footer\"])\n",
    "prediction = model.predict(Y)\n",
    "print(prediction)"
   ]
  },
  {
   "cell_type": "code",
   "execution_count": 36,
   "metadata": {},
   "outputs": [
    {
     "name": "stdout",
     "output_type": "stream",
     "text": [
      "[1]\n"
     ]
    }
   ],
   "source": [
    "Y = tfidf.transform([\"Type de champ obligatoire\"])\n",
    "prediction = model.predict(Y)\n",
    "print(prediction)"
   ]
  },
  {
   "cell_type": "code",
   "execution_count": 37,
   "metadata": {},
   "outputs": [
    {
     "name": "stdout",
     "output_type": "stream",
     "text": [
      "[2]\n"
     ]
    }
   ],
   "source": [
    "Y = tfidf.transform([\"Le menu est constitué des entrées de niveau 1\"])\n",
    "prediction = model.predict(Y)\n",
    "print(prediction)"
   ]
  },
  {
   "cell_type": "code",
   "execution_count": 38,
   "metadata": {},
   "outputs": [
    {
     "name": "stdout",
     "output_type": "stream",
     "text": [
      "[0]\n"
     ]
    }
   ],
   "source": [
    "Y = tfidf.transform([\"Afficher la télécommande\"])\n",
    "prediction = model.predict(Y)\n",
    "print(prediction)"
   ]
  },
  {
   "cell_type": "code",
   "execution_count": 39,
   "metadata": {},
   "outputs": [
    {
     "name": "stdout",
     "output_type": "stream",
     "text": [
      "[2]\n"
     ]
    }
   ],
   "source": [
    "Y = tfidf.transform([\"Modifier le footer\"])\n",
    "prediction = model.predict(Y)\n",
    "print(prediction)"
   ]
  },
  {
   "cell_type": "code",
   "execution_count": 40,
   "metadata": {},
   "outputs": [
    {
     "name": "stdout",
     "output_type": "stream",
     "text": [
      "[0]\n"
     ]
    }
   ],
   "source": [
    "Y = tfidf.transform([\"Afficher le footer\"])\n",
    "prediction = model.predict(Y)\n",
    "print(prediction)"
   ]
  },
  {
   "cell_type": "code",
   "execution_count": 41,
   "metadata": {},
   "outputs": [
    {
     "name": "stdout",
     "output_type": "stream",
     "text": [
      "[2]\n"
     ]
    }
   ],
   "source": [
    "Y = tfidf.transform([\"Le contributeur se place en mode liste sur le dossier Page d’accueil - bloc Identitaire.  Il peut :Contribuer une vidéo [...]\"])\n",
    "prediction = model.predict(Y)\n",
    "print(prediction)"
   ]
  },
  {
   "cell_type": "code",
   "execution_count": 42,
   "metadata": {},
   "outputs": [
    {
     "data": {
      "text/plain": [
       "0.11607768957426064"
      ]
     },
     "execution_count": 42,
     "metadata": {},
     "output_type": "execute_result"
    }
   ],
   "source": [
    "from sklearn.metrics import silhouette_score\n",
    "silhouette_score(data_vect, labels=model.predict(data_vect))"
   ]
  },
  {
   "cell_type": "code",
   "execution_count": 43,
   "metadata": {},
   "outputs": [],
   "source": [
    "# reduce the features to 2D\n",
    "from sklearn.decomposition import PCA\n",
    "pca = PCA(n_components=2, random_state=0)\n",
    "reduced_features = pca.fit_transform(data_vect.toarray())\n",
    "\n",
    "# reduce the cluster centers to 2D\n",
    "reduced_cluster_centers = pca.transform(model.cluster_centers_)"
   ]
  },
  {
   "cell_type": "code",
   "execution_count": 44,
   "metadata": {},
   "outputs": [
    {
     "data": {
      "text/plain": [
       "<matplotlib.collections.PathCollection at 0x1ea47de76d8>"
      ]
     },
     "execution_count": 44,
     "metadata": {},
     "output_type": "execute_result"
    },
    {
     "data": {
      "image/png": "[encoded data removed]",
      "text/plain": [
       "<Figure size 432x288 with 1 Axes>"
      ]
     },
     "metadata": {
      "needs_background": "light"
     },
     "output_type": "display_data"
    }
   ],
   "source": [
    "plt.scatter(reduced_features[:,0], reduced_features[:,1], c=model.predict(data_vect))\n",
    "plt.scatter(reduced_cluster_centers[:, 0], reduced_cluster_centers[:,1], marker='x', s=150, c='b')"
   ]
  },
  {
   "cell_type": "code",
   "execution_count": 45,
   "metadata": {},
   "outputs": [
    {
     "data": {
      "image/png": "[encoded data removed]",
      "text/plain": [
       "<Figure size 432x288 with 1 Axes>"
      ]
     },
     "metadata": {
      "needs_background": "light"
     },
     "output_type": "display_data"
    }
   ],
   "source": [
    "#ACP\n",
    "from sklearn.decomposition import PCA\n",
    "acp = PCA(n_components=2).fit_transform(data_vect.toarray())\n",
    "\n",
    "plt.scatter(acp[:,0], acp[:,1], c=model.predict(data_vect))\n",
    "acp_cluster_centers = pca.transform(model.cluster_centers_)\n",
    "for couleur,k in zip(['purple','turquoise','green','pink','yellow'],[0,1,2,3,4]):\n",
    "    plt.scatter(acp[model.labels_==k,0],acp[model.labels_==k,1],s=150,c=couleur)\n",
    "    plt.scatter(acp_cluster_centers[:, 0], acp_cluster_centers[:,1], marker='x', s=150, c='red')\n",
    "plt.show()"
   ]
  },
  {
   "cell_type": "code",
   "execution_count": 47,
   "metadata": {},
   "outputs": [],
   "source": [
    "def ClusterIndicesNumpy(clustNum, labels_array): #numpy \n",
    "    return np.where(labels_array == clustNum)[0] "
   ]
  },
  {
   "cell_type": "code",
   "execution_count": 48,
   "metadata": {
    "scrolled": true
   },
   "outputs": [
    {
     "data": {
      "text/plain": [
       "array([   9,   11,   16,   23,   35,   37,   38,   40,   44,   45,   47,\n",
       "         55,   56,   59,   65,   66,   69,   76,   80,   84,   85,   89,\n",
       "        109,  113,  116,  119,  136,  140,  141,  144,  145,  147,  148,\n",
       "        149,  151,  152,  155,  158,  159,  161,  165,  167,  169,  170,\n",
       "        172,  173,  180,  188,  201,  205,  206,  207,  208,  215,  220,\n",
       "        221,  225,  226,  231,  234,  240,  241,  243,  248,  249,  251,\n",
       "        258,  263,  264,  265,  266,  271,  277,  279,  287,  288,  291,\n",
       "        292,  293,  296,  299,  300,  301,  303,  305,  306,  310,  311,\n",
       "        313,  315,  316,  320,  321,  325,  326,  329,  331,  332,  334,\n",
       "        335,  336,  338,  339,  341,  342,  344,  345,  349,  350,  352,\n",
       "        353,  354,  357,  358,  360,  363,  367,  370,  371,  373,  392,\n",
       "        396,  397,  408,  414,  419,  425,  431,  437,  443,  449,  463,\n",
       "        478,  493,  508,  514,  530,  545,  547,  560,  581,  584,  589,\n",
       "        590,  591,  592,  593,  594,  595,  596,  603,  608,  612,  618,\n",
       "        621,  627,  632,  641,  642,  644,  651,  656,  660,  662,  666,\n",
       "        670,  674,  675,  679,  680,  686,  687,  690,  691,  693,  695,\n",
       "        696,  698,  701,  702,  703,  704,  708,  709,  711,  713,  715,\n",
       "        716,  717,  719,  720,  722,  723,  725,  726,  730,  731,  733,\n",
       "        734,  735,  737,  739,  740,  743,  745,  747,  751,  752,  755,\n",
       "        756,  758,  762,  766,  783,  788,  792,  798,  803,  804,  808,\n",
       "        809,  810,  812,  827,  830,  836,  838,  860,  866,  877,  888,\n",
       "        895,  899,  901,  903,  909,  914,  920,  921,  923,  925,  926,\n",
       "        927,  929,  931,  933,  934,  942,  947,  953,  954,  956,  959,\n",
       "        960,  962,  964,  965,  973,  978,  984,  985,  987,  990,  992,\n",
       "        999, 1003, 1007, 1009, 1011, 1014, 1015, 1017, 1019, 1020, 1022,\n",
       "       1029, 1034, 1040, 1041, 1043, 1045, 1046, 1047, 1049, 1051, 1052,\n",
       "       1064, 1070, 1074, 1076, 1077, 1079, 1082, 1083, 1085, 1086, 1088,\n",
       "       1090, 1092, 1096, 1097, 1103, 1109, 1113, 1115, 1117, 1120, 1122,\n",
       "       1123, 1130, 1136, 1140, 1143, 1146, 1147, 1149, 1150, 1152, 1153,\n",
       "       1154, 1160, 1162, 1163, 1164, 1165, 1167, 1172, 1174, 1179, 1180,\n",
       "       1183, 1184, 1185, 1186, 1187, 1194, 1195, 1196, 1198, 1200, 1208,\n",
       "       1210, 1211, 1213, 1217, 1220, 1226, 1232, 1238, 1242, 1244, 1249,\n",
       "       1253, 1260, 1266, 1272, 1273, 1276, 1277, 1280, 1281, 1283, 1284,\n",
       "       1288, 1289, 1292, 1293, 1295, 1297, 1298, 1301, 1303, 1316, 1323,\n",
       "       1325, 1330, 1333, 1334, 1337, 1340, 1345, 1346, 1349, 1350, 1351,\n",
       "       1353, 1354, 1355, 1357, 1360, 1373, 1378, 1379, 1382, 1383, 1386,\n",
       "       1387, 1395, 1399, 1403, 1407, 1411, 1419, 1423, 1427, 1431, 1436,\n",
       "       1437, 1441, 1445, 1449, 1450, 1454, 1458, 1462, 1463, 1467, 1471,\n",
       "       1475, 1476, 1480, 1484, 1488, 1489, 1493, 1497, 1501, 1502, 1503,\n",
       "       1505, 1506, 1507, 1508, 1509, 1510, 1511, 1512, 1513, 1514, 1515,\n",
       "       1516, 1517, 1518, 1520, 1521, 1523, 1524, 1526, 1528, 1530, 1532,\n",
       "       1533, 1534, 1535, 1537, 1539, 1540, 1542, 1543, 1545, 1546, 1548,\n",
       "       1549, 1550, 1551, 1552, 1553, 1554, 1555, 1556, 1557, 1558, 1559,\n",
       "       1560, 1561, 1562, 1567, 1571, 1572, 1575, 1579, 1580, 1583, 1584,\n",
       "       1587, 1591, 1595, 1603, 1608, 1615, 1619, 1625, 1656, 1660, 1663,\n",
       "       1679, 1689, 1697, 1710, 1711, 1712, 1713, 1720, 1725, 1730, 1731,\n",
       "       1736, 1739, 1744, 1745, 1746, 1748, 1753, 1754, 1756, 1763, 1768,\n",
       "       1769, 1770, 1771, 1776, 1782, 1784, 1804, 1808, 1809, 1820, 1826,\n",
       "       1832, 1838, 1844, 1850, 1856, 1861, 1874, 1886, 1895, 1907, 1911,\n",
       "       1927, 1956, 1958, 1969, 1988, 1992, 1993, 2006, 2010, 2019, 2024,\n",
       "       2029, 2034, 2035, 2036, 2038, 2043, 2044, 2045, 2046, 2051, 2057,\n",
       "       2062, 2063, 2065, 2072, 2087, 2100, 2104, 2108, 2113, 2128, 2145,\n",
       "       2152, 2158, 2163, 2169, 2175, 2180, 2186, 2192, 2197, 2203, 2209,\n",
       "       2213, 2219, 2225, 2230, 2236, 2246, 2252, 2256, 2258, 2264, 2270,\n",
       "       2274, 2280, 2286, 2290, 2292, 2298, 2300, 2301, 2303, 2308, 2310,\n",
       "       2315, 2318, 2319, 2320, 2321, 2328, 2339, 2348, 2354, 2359, 2364,\n",
       "       2365, 2371, 2377], dtype=int64)"
      ]
     },
     "execution_count": 48,
     "metadata": {},
     "output_type": "execute_result"
    }
   ],
   "source": [
    "ClusterIndicesNumpy(2, model.labels_) "
   ]
  },
  {
   "cell_type": "code",
   "execution_count": 52,
   "metadata": {
    "scrolled": true
   },
   "outputs": [
    {
     "data": {
      "text/plain": [
       "9        notes : système affiche : langue sélectionné...\n",
       "11       règles gestion : si lutilisateur clique ang...\n",
       "16                4.1.4 cu001-0022 contribuer page langue\n",
       "23      fil dariane présent toutes pages permet luti...\n",
       "35       notes : menu constitué entrées niveau 1 : in...\n",
       "37       règles gestion : si lutilisateur navigue la...\n",
       "38               4.1.8 cu001-006 modifier menu navigation\n",
       "40       notes : lutilisateur peut créer lien niveau...\n",
       "44       règles gestion : si lutilisateur a sélectio...\n",
       "45       4.1.10 cu001-008 contribuer contenu autre langue\n",
       "47      cas dutilisation permettant internaute contri...\n",
       "55       règles gestion : si lutilisateur ouvre nouv...\n",
       "56                 4.1.12 cu001-010 modifier télécommande\n",
       "59      lutilisateur peut modifier lordre daffichag...\n",
       "65       règles gestion : footer saffiche pages suiv...\n",
       "66                       4.1.14 cu001-012 modifier footer\n",
       "69       notes : lutilisateur peut créer lien niveau...\n",
       "76          4.1.16 cu001-014 modifier bloc contenu moment\n",
       "80                4.1.17 cu001-015 contribuer type public\n",
       "84       règles gestion : nest possible supprimer ty...\n",
       "85        4.1.18 cu001-016 contribuer type billet / tarif\n",
       "89       règles gestion : nom billet nest visible qu...\n",
       "109      règles gestion : si champ n'est renseigné, n...\n",
       "113     carrousel outil permet dafficher plusieurs co...\n",
       "116      règles gestion : si champ n'est renseigné, n...\n",
       "119     si lévénement a plusieurs créneaux, créneau p...\n",
       "136     4.2.2.a cu002-008 contribuer barre dinformati...\n",
       "140      règles gestion : contributeur peut saisir 5 ...\n",
       "141         4.2.2.b cu002-009 contribuer bloc identitaire\n",
       "144     4.2.2.c cu002-010 contribuer vidéo bloc identi...\n",
       "                              ...                        \n",
       "2252     règles gestion si champ n'est renseigné, n'e...\n",
       "2256     notes : chaque élément presse, système affic...\n",
       "2258     règles gestion : si sous-élément type lien v...\n",
       "2264     règles gestion langue autre langue française...\n",
       "2270     règles gestion si champ n'est renseigné, n'e...\n",
       "2274     notes : chaque document accessibilité, systè...\n",
       "2280     règles gestion langue autre langue française...\n",
       "2286     règles gestion si champ n'est renseigné, n'e...\n",
       "2290     notes : chaque document apprendre, système a...\n",
       "2292    5.8.10 afficher lettre dinformation (newslett...\n",
       "2298    5.8.11 afficher formulaire désinscription lett...\n",
       "2300     règles gestion : champ courriel doit conteni...\n",
       "2301    5.8.12 afficher formulaire emallette 3. formul...\n",
       "2303    cas dutilisation décrivant consultation formu...\n",
       "2308                             4. formulaire emalette 2\n",
       "2310    cas dutilisation décrivant consultation formu...\n",
       "2315    5.8.13 afficher formulaire vernissage acteur :...\n",
       "2318     règles gestion : champ courriel doit conteni...\n",
       "2319    texte juridique présent dessous formulaire con...\n",
       "2320    5.8.14 afficher formulaire demande pass étudia...\n",
       "2321                              5. affichage formulaire\n",
       "2328    5.8.15 afficher formulaire contact acteur : in...\n",
       "2339                           5.10.1.a naviguer parcours\n",
       "2348     règles gestion : barre progression remplit f...\n",
       "2354     règles gestion : si valeur lentité nest re...\n",
       "2359     règles gestion : lélément cours visualisati...\n",
       "2364     actions : touch doigt (double contact) visue...\n",
       "2365     règles gestion défaut, visuel saffiche tota...\n",
       "2371     règles gestion si aucune valeur nest saisie...\n",
       "2377     règles gestion : a sélection dune valeur fi...\n",
       "Name: texte, Length: 619, dtype: object"
      ]
     },
     "execution_count": 52,
     "metadata": {},
     "output_type": "execute_result"
    }
   ],
   "source": [
    "data.texte[ClusterIndicesNumpy(2, model.labels_) ]"
   ]
  },
  {
   "cell_type": "code",
   "execution_count": 53,
   "metadata": {
    "scrolled": true
   },
   "outputs": [
    {
     "data": {
      "text/plain": [
       "0       4. version desktop - liste cas d'utilisations ...\n",
       "1                         4.1.1 cu001-001 afficher header\n",
       "3       cas dutilisation permettant internaute consul...\n",
       "4        notes : système affiche éléments suivants : ...\n",
       "5        actions : si lutilisateur clique logo depui...\n",
       "6                  4.1.2 cu001-002 afficher bouton langue\n",
       "8       cas dutilisation permettant internaute consul...\n",
       "10       actions : clic langue sélectionnée, système ...\n",
       "12                  4.1.3 cu001-0021 afficher page langue\n",
       "14      cas dutilisation permettant internaute consul...\n",
       "20                  4.1.5 cu001-003 afficher fil dariane\n",
       "22      cas dutilisation permettant internaute consul...\n",
       "24      fil dariane composé dun lien vers page dacc...\n",
       "25       règles gestion fil dariane saffiche : page...\n",
       "26                4.1.6 cu001-004 afficher bouton partage\n",
       "28      cas dutilisation permettant internaute consul...\n",
       "29       notes : page cours consultation partagée com...\n",
       "30       actions : clic bouton partage, menu suppléme...\n",
       "31       règles gestion depuis page éditorial titre p...\n",
       "32               4.1.7 cu001-005 afficher menu navigation\n",
       "34      cas dutilisation permettant internaute consul...\n",
       "36       actions : clic lune entrées niveau 1 rubriq...\n",
       "41          4.1.9 cu001-007 afficher contenu autre langue\n",
       "43      cas dutilisation permettant internaute consul...\n",
       "48       notes : lutilisateur peut traduire toutes p...\n",
       "49       notes : lutilisateur peut traduire page exi...\n",
       "50                 4.1.11 cu001-009 afficher télécommande\n",
       "54       actions : clic chaque élément, pop-in souvr...\n",
       "60                       4.1.13 cu001-011 afficher footer\n",
       "62      cas dutilisation permettant internaute consul...\n",
       "                              ...                        \n",
       "2260                    5.8.8.a cu009-502 afficher filtre\n",
       "2263     actions : a sélection dune valeur filtre, l...\n",
       "2265    5.8.8.b cu009-503 afficher liste documents acc...\n",
       "2269     actions : clic titre dun élément, celui-ci ...\n",
       "2271    5.8.8.c cu009-504 afficher document accessibil...\n",
       "2275     actions : clic bouton retour, système affich...\n",
       "2276    5.8.9 afficher documents apprendre 5.8.9.a cu0...\n",
       "2279     actions : a sélection dune valeur filtre, l...\n",
       "2281    5.8.9.b cu009-603 afficher liste documents app...\n",
       "2285     actions : clic titre dun élément, celui-ci ...\n",
       "2287    5.8.9.c cu009-604 afficher document apprendre ...\n",
       "2291     actions : clic document télécharger, celui-c...\n",
       "2327     actions : clic bouton retour, système rediri...\n",
       "2330                              5.9 billetterie [lot 1]\n",
       "2331    5.9.1 cu108  001 afficher informations billet...\n",
       "2334    lutilisateur visualise bloc après avoir cliqu...\n",
       "2336     actions : clic billets, lutilisateur rediri...\n",
       "2337                                5.10 parcours [lot 6]\n",
       "2338    5.10.1 afficher parcours parcours constitué él...\n",
       "2343                     5.10.1.b afficher barre doutils\n",
       "2347     actions : clic bouton etoile, système rediri...\n",
       "2349                     5.10.1.c afficher page démarrage\n",
       "2353     actions : clic bouton commencer, système red...\n",
       "2358     actions : clic élément parcours système redi...\n",
       "2360             5.10.1.e afficher éléments dun parcours\n",
       "2366                           5.10.1.f afficher page fin\n",
       "2370     actions : clic bouton recommencer, système r...\n",
       "2372    5.10.2 afficher tous parcours 5.10.2.a affiche...\n",
       "2376     actions : a sélection dune valeur filtres, ...\n",
       "2378                     5.10.2.b afficher liste parcours\n",
       "Name: texte, Length: 742, dtype: object"
      ]
     },
     "execution_count": 53,
     "metadata": {},
     "output_type": "execute_result"
    }
   ],
   "source": [
    "data.texte[ClusterIndicesNumpy(0, model.labels_) ]"
   ]
  },
  {
   "cell_type": "code",
   "execution_count": 54,
   "metadata": {
    "scrolled": true
   },
   "outputs": [
    {
     "data": {
      "text/plain": [
       "15       notes : système affiche chaque langue ci-des...\n",
       "19      nom champ type champ obligatoire commentaires ...\n",
       "53       notes : système affiche 5 accès rapides suiv...\n",
       "73       notes : bloc visible toutes pages éditoriale...\n",
       "75       règles gestion événement saffiche bloc mome...\n",
       "79      nom champ type champ obligatoire commentaires ...\n",
       "83      nom champ type champ obligatoire commentaires ...\n",
       "88      nom champ type champ obligatoire commentaires ...\n",
       "101      notes : cette barre visible seulement page d...\n",
       "103      règles gestion : sil ny a dentité informa...\n",
       "107      notes : système affiche lordre suivant élém...\n",
       "114      notes : système affiche entités carrousel tr...\n",
       "117     champ sélectionné back-office règles dafficha...\n",
       "118     date début date fin [date début] [date fin] 15...\n",
       "127      notes : système affiche entités parcours déf...\n",
       "132      notes : système affiche : onglets lordre cr...\n",
       "134      règles gestion : onglet sil nexiste dongl...\n",
       "139     nom champ type champ obligatoire commentaires ...\n",
       "146     nom champ type champ obligatoire commentaires ...\n",
       "150     nom champ type champ obligatoire commentaires ...\n",
       "156                             champ suivant saffiche :\n",
       "157     nom champ type champ obligatoire commentaires ...\n",
       "160     nom champ type champ obligatoire commentaires ...\n",
       "168     nom champ type champ obligatoire commentaires ...\n",
       "171     nom champ type champ obligatoire commentaires ...\n",
       "178      notes : système affiche méta-titre page lim...\n",
       "186      notes : système affiche méta-titre page lim...\n",
       "199      notes : système affiche éléments suivants pa...\n",
       "211      notes : système affiche légende limage 4.3....\n",
       "214      notes : bloc texte saffiche voir détails st...\n",
       "                              ...                        \n",
       "2294    oui, souhaite recevoir informations voie posta...\n",
       "2295                                             notes :\n",
       "2296    système affiche contenu champ contenu juridiqu...\n",
       "2297     règles gestion : liste souhaite recevoir inf...\n",
       "2299    libellé regroupement sous libellé nom champ ty...\n",
       "2304    libellé regroupement sous libellé nom champ ty...\n",
       "2305    civilité liste déroulante oui sélectionner val...\n",
       "2306    adresse professionnelle etablissement champ te...\n",
       "2307     règles gestion : champ courriel doit conteni...\n",
       "2311    libellé regroupement sous libellé nom champ ty...\n",
       "2312    civilité liste déroulante oui sélectionner val...\n",
       "2313    adresse professionnelle etablissement champ te...\n",
       "2314     règles gestion : champ courriel doit conteni...\n",
       "2316    libellé regroupement sous libellé nom champ ty...\n",
       "2317    civilité liste déroulante oui sélectionner val...\n",
       "2322    libellé regroupement sous libellé nom champ ty...\n",
       "2323     notes : système affiche contenu champ introd...\n",
       "2324    système affiche contenu champ contenu juridiqu...\n",
       "2325     règles gestion : champ date naissance doit ê...\n",
       "2326     notes : système liste affiche texte dintrod...\n",
       "2329    nom champ type champ obligatoire liste valeurs...\n",
       "2335     notes : système affiche numéro téléphone hor...\n",
       "2342     actions : déplacement doigt gauche droite : ...\n",
       "2346     notes : système affiche : barre progression ...\n",
       "2352     notes : système affiche : titre parcours dat...\n",
       "2357     notes : barre déléments saffiche si lutil...\n",
       "2363     notes : système affiche informations suivant...\n",
       "2369     notes : système affiche éléments suivants vi...\n",
       "2375     notes : système affiche 2 menus déroulants f...\n",
       "2381     notes : système affiche liste parcours défau...\n",
       "Name: texte, Length: 433, dtype: object"
      ]
     },
     "execution_count": 54,
     "metadata": {},
     "output_type": "execute_result"
    }
   ],
   "source": [
    "data.texte[ClusterIndicesNumpy(1, model.labels_) ]"
   ]
  },
  {
   "cell_type": "code",
   "execution_count": 55,
   "metadata": {
    "scrolled": true
   },
   "outputs": [
    {
     "data": {
      "text/plain": [
       "2                          acteur : internaute\n",
       "7                          acteur : internaute\n",
       "13                         acteur : internaute\n",
       "17      acteur : administrateur / contributeur\n",
       "21                         acteur : internaute\n",
       "27                         acteur : internaute\n",
       "33                         acteur : internaute\n",
       "39      acteur : administrateur / contributeur\n",
       "42                         acteur : internaute\n",
       "46                         acteur : internaute\n",
       "51                         acteur : internaute\n",
       "57      acteur : contributeur / administrateur\n",
       "61                         acteur : internaute\n",
       "67      acteur : administrateur / contributeur\n",
       "71                         acteur : internaute\n",
       "77      acteur : contributeur / administrateur\n",
       "81      acteur : administrateur / contributeur\n",
       "86      acteur : administrateur / contributeur\n",
       "94                         acteur : internaute\n",
       "99                         acteur : internaute\n",
       "105                        acteur : internaute\n",
       "111                        acteur : internaute\n",
       "121                        acteur : internaute\n",
       "125                        acteur : internaute\n",
       "130                        acteur : internaute\n",
       "137     acteur : administrateur / contributeur\n",
       "142     acteur : administrateur / contributeur\n",
       "153     acteur : administrateur / contributeur\n",
       "163     acteur : contributeur / administrateur\n",
       "166     acteur : administrateur / contributeur\n",
       "                         ...                  \n",
       "2094                       acteur : internaute\n",
       "2122                       acteur : internaute\n",
       "2126                       acteur : internaute\n",
       "2131                       acteur : internaute\n",
       "2136                       acteur : internaute\n",
       "2142                       acteur : internaute\n",
       "2148                       acteur : internaute\n",
       "2165                       acteur : internaute\n",
       "2182                       acteur : internaute\n",
       "2199                       acteur : internaute\n",
       "2215                       acteur : internaute\n",
       "2232                       acteur : internaute\n",
       "2239                       acteur : internaute\n",
       "2248                       acteur : internaute\n",
       "2254                       acteur : internaute\n",
       "2266                       acteur : internaute\n",
       "2272                       acteur : internaute\n",
       "2282                       acteur : internaute\n",
       "2288                       acteur : internaute\n",
       "2302                       acteur : internaute\n",
       "2309                       acteur : internaute\n",
       "2332                       acteur : internaute\n",
       "2340                       acteur : internaute\n",
       "2344                       acteur : internaute\n",
       "2350                       acteur : internaute\n",
       "2355                       acteur : internaute\n",
       "2361                       acteur : internaute\n",
       "2367                       acteur : internaute\n",
       "2373                       acteur : internaute\n",
       "2379                       acteur : internaute\n",
       "Name: texte, Length: 299, dtype: object"
      ]
     },
     "execution_count": 55,
     "metadata": {},
     "output_type": "execute_result"
    }
   ],
   "source": [
    "data.texte[ClusterIndicesNumpy(3, model.labels_) ]"
   ]
  },
  {
   "cell_type": "code",
   "execution_count": 56,
   "metadata": {
    "scrolled": true
   },
   "outputs": [
    {
     "data": {
      "text/plain": [
       "18      cas dutilisation décrivant contribution page ...\n",
       "52      cas dutilisation décrivant consultation téléc...\n",
       "58      cas dutilisation décrivant contribution téléc...\n",
       "68        cas dutilisation décrivant contribution footer\n",
       "72      cas dutilisation décrivant consultation bloc ...\n",
       "78      cas dutilisation décrivant contribution bloc ...\n",
       "82      cas dutilisation décrivant contribution liste...\n",
       "87      cas dutilisation décrivant contribution liste...\n",
       "95      cas dutilisation décrivant fonctionnement pag...\n",
       "100     cas dutilisation décrivant consultation dune...\n",
       "126     cas dutilisation décrivant consultation parco...\n",
       "138     cas dutilisation décrivant lajout dune info...\n",
       "143     cas dutilisation décrivant contribution bloc ...\n",
       "154     cas dutilisation décrivant contribution carro...\n",
       "164     cas dutilisation décrivant contribution parco...\n",
       "177     cas dutilisation décrivant consultation dune...\n",
       "185     cas dutilisation décrivant consultation dune...\n",
       "193     cas dutilisation décrivant consultation dune...\n",
       "198     cas dutilisation décrivant consultation bloc ...\n",
       "204     cas dutilisation décrivant consultation dun ...\n",
       "210     cas dutilisation décrivant consultation dun ...\n",
       "213     cas dutilisation décrivant consultation dun ...\n",
       "217     cas dutilisation décrivant consultation dun ...\n",
       "223     cas dutilisation décrivant consultation dun ...\n",
       "228     cas dutilisation décrivant consultation dun ...\n",
       "233     cas dutilisation décrivant consultation dun ...\n",
       "238     cas dutilisation décrivant consultation bloc ...\n",
       "246     cas dutilisation décrivant consultation panie...\n",
       "254     cas dutilisation décrivant consultation dun ...\n",
       "261     cas dutilisation décrivant consultation bloc ...\n",
       "                              ...                        \n",
       "2177    cas dutilisation décrivant consultation liste...\n",
       "2183    cas dutilisation décrivant consultation docum...\n",
       "2189    cas dutilisation décrivant consultation filtr...\n",
       "2194    cas dutilisation décrivant consultation liste...\n",
       "2200    cas dutilisation décrivant consultation lapp...\n",
       "2206    cas dutilisation décrivant consultation filtr...\n",
       "2211    cas dutilisation décrivant consultation liste...\n",
       "2216    cas dutilisation décrivant consultation photo...\n",
       "2222    cas dutilisation décrivant consultation filtr...\n",
       "2227    cas dutilisation décrivant consultation liste...\n",
       "2233    cas dutilisation décrivant consultation docum...\n",
       "2240    cas dutilisation décrivant consultation accès...\n",
       "2243    cas dutilisation décrivant consultation filtr...\n",
       "2249    cas dutilisation décrivant consultation liste...\n",
       "2255    cas dutilisation décrivant consultation dun ...\n",
       "2261    cas dutilisation décrivant consultation filtr...\n",
       "2267    cas dutilisation décrivant consultation liste...\n",
       "2273    cas dutilisation décrivant consultation dun ...\n",
       "2277    cas dutilisation décrivant consultation filtr...\n",
       "2283    cas dutilisation décrivant consultation liste...\n",
       "2289    cas dutilisation décrivant consultation dun ...\n",
       "2333    cas dutilisation décrivant consultation infor...\n",
       "2341      cas dutilisation décrivant navigation parcours\n",
       "2345    cas dutilisation décrivant consultation éléme...\n",
       "2351    cas dutilisation décrivant consultation page ...\n",
       "2356    cas dutilisation décrivant consultation barre...\n",
       "2362    cas dutilisation décrivant consultation dun ...\n",
       "2368    cas dutilisation décrivant consultation page ...\n",
       "2374    cas dutilisation décrivant consultation filtr...\n",
       "2380    cas dutilisation décrivant consultation liste...\n",
       "Name: texte, Length: 289, dtype: object"
      ]
     },
     "execution_count": 56,
     "metadata": {},
     "output_type": "execute_result"
    }
   ],
   "source": [
    "data.texte[ClusterIndicesNumpy(4, model.labels_) ]"
   ]
  },
  {
   "cell_type": "code",
   "execution_count": 64,
   "metadata": {},
   "outputs": [],
   "source": [
    "data2 = pd.DataFrame(columns=['texte'])\n",
    "data2['texte'] = data.texte[ClusterIndicesNumpy(2, model.labels_) ]"
   ]
  },
  {
   "cell_type": "code",
   "execution_count": 65,
   "metadata": {
    "scrolled": true
   },
   "outputs": [
    {
     "data": {
      "text/html": [
       "<div>\n",
       "<style scoped>\n",
       "    .dataframe tbody tr th:only-of-type {\n",
       "        vertical-align: middle;\n",
       "    }\n",
       "\n",
       "    .dataframe tbody tr th {\n",
       "        vertical-align: top;\n",
       "    }\n",
       "\n",
       "    .dataframe thead th {\n",
       "        text-align: right;\n",
       "    }\n",
       "</style>\n",
       "<table border=\"1\" class=\"dataframe\">\n",
       "  <thead>\n",
       "    <tr style=\"text-align: right;\">\n",
       "      <th></th>\n",
       "      <th>texte</th>\n",
       "    </tr>\n",
       "  </thead>\n",
       "  <tbody>\n",
       "    <tr>\n",
       "      <th>9</th>\n",
       "      <td> notes : système affiche : langue sélectionné...</td>\n",
       "    </tr>\n",
       "    <tr>\n",
       "      <th>11</th>\n",
       "      <td> règles gestion : si lutilisateur clique ang...</td>\n",
       "    </tr>\n",
       "    <tr>\n",
       "      <th>16</th>\n",
       "      <td>4.1.4 cu001-0022 contribuer page langue</td>\n",
       "    </tr>\n",
       "    <tr>\n",
       "      <th>23</th>\n",
       "      <td>fil dariane présent toutes pages permet luti...</td>\n",
       "    </tr>\n",
       "    <tr>\n",
       "      <th>35</th>\n",
       "      <td> notes : menu constitué entrées niveau 1 : in...</td>\n",
       "    </tr>\n",
       "    <tr>\n",
       "      <th>37</th>\n",
       "      <td> règles gestion : si lutilisateur navigue la...</td>\n",
       "    </tr>\n",
       "    <tr>\n",
       "      <th>38</th>\n",
       "      <td>4.1.8 cu001-006 modifier menu navigation</td>\n",
       "    </tr>\n",
       "    <tr>\n",
       "      <th>40</th>\n",
       "      <td> notes : lutilisateur peut créer lien niveau...</td>\n",
       "    </tr>\n",
       "    <tr>\n",
       "      <th>44</th>\n",
       "      <td> règles gestion : si lutilisateur a sélectio...</td>\n",
       "    </tr>\n",
       "    <tr>\n",
       "      <th>45</th>\n",
       "      <td>4.1.10 cu001-008 contribuer contenu autre langue</td>\n",
       "    </tr>\n",
       "    <tr>\n",
       "      <th>47</th>\n",
       "      <td>cas dutilisation permettant internaute contri...</td>\n",
       "    </tr>\n",
       "    <tr>\n",
       "      <th>55</th>\n",
       "      <td> règles gestion : si lutilisateur ouvre nouv...</td>\n",
       "    </tr>\n",
       "    <tr>\n",
       "      <th>56</th>\n",
       "      <td>4.1.12 cu001-010 modifier télécommande</td>\n",
       "    </tr>\n",
       "    <tr>\n",
       "      <th>59</th>\n",
       "      <td>lutilisateur peut modifier lordre daffichag...</td>\n",
       "    </tr>\n",
       "    <tr>\n",
       "      <th>65</th>\n",
       "      <td> règles gestion : footer saffiche pages suiv...</td>\n",
       "    </tr>\n",
       "    <tr>\n",
       "      <th>66</th>\n",
       "      <td>4.1.14 cu001-012 modifier footer</td>\n",
       "    </tr>\n",
       "    <tr>\n",
       "      <th>69</th>\n",
       "      <td> notes : lutilisateur peut créer lien niveau...</td>\n",
       "    </tr>\n",
       "    <tr>\n",
       "      <th>76</th>\n",
       "      <td>4.1.16 cu001-014 modifier bloc contenu moment</td>\n",
       "    </tr>\n",
       "    <tr>\n",
       "      <th>80</th>\n",
       "      <td>4.1.17 cu001-015 contribuer type public</td>\n",
       "    </tr>\n",
       "    <tr>\n",
       "      <th>84</th>\n",
       "      <td> règles gestion : nest possible supprimer ty...</td>\n",
       "    </tr>\n",
       "    <tr>\n",
       "      <th>85</th>\n",
       "      <td>4.1.18 cu001-016 contribuer type billet / tarif</td>\n",
       "    </tr>\n",
       "    <tr>\n",
       "      <th>89</th>\n",
       "      <td> règles gestion : nom billet nest visible qu...</td>\n",
       "    </tr>\n",
       "    <tr>\n",
       "      <th>109</th>\n",
       "      <td> règles gestion : si champ n'est renseigné, n...</td>\n",
       "    </tr>\n",
       "    <tr>\n",
       "      <th>113</th>\n",
       "      <td>carrousel outil permet dafficher plusieurs co...</td>\n",
       "    </tr>\n",
       "    <tr>\n",
       "      <th>116</th>\n",
       "      <td> règles gestion : si champ n'est renseigné, n...</td>\n",
       "    </tr>\n",
       "    <tr>\n",
       "      <th>119</th>\n",
       "      <td>si lévénement a plusieurs créneaux, créneau p...</td>\n",
       "    </tr>\n",
       "    <tr>\n",
       "      <th>136</th>\n",
       "      <td>4.2.2.a cu002-008 contribuer barre dinformati...</td>\n",
       "    </tr>\n",
       "    <tr>\n",
       "      <th>140</th>\n",
       "      <td> règles gestion : contributeur peut saisir 5 ...</td>\n",
       "    </tr>\n",
       "    <tr>\n",
       "      <th>141</th>\n",
       "      <td>4.2.2.b cu002-009 contribuer bloc identitaire</td>\n",
       "    </tr>\n",
       "    <tr>\n",
       "      <th>144</th>\n",
       "      <td>4.2.2.c cu002-010 contribuer vidéo bloc identi...</td>\n",
       "    </tr>\n",
       "    <tr>\n",
       "      <th>...</th>\n",
       "      <td>...</td>\n",
       "    </tr>\n",
       "    <tr>\n",
       "      <th>2252</th>\n",
       "      <td> règles gestion si champ n'est renseigné, n'e...</td>\n",
       "    </tr>\n",
       "    <tr>\n",
       "      <th>2256</th>\n",
       "      <td> notes : chaque élément presse, système affic...</td>\n",
       "    </tr>\n",
       "    <tr>\n",
       "      <th>2258</th>\n",
       "      <td> règles gestion : si sous-élément type lien v...</td>\n",
       "    </tr>\n",
       "    <tr>\n",
       "      <th>2264</th>\n",
       "      <td> règles gestion langue autre langue française...</td>\n",
       "    </tr>\n",
       "    <tr>\n",
       "      <th>2270</th>\n",
       "      <td> règles gestion si champ n'est renseigné, n'e...</td>\n",
       "    </tr>\n",
       "    <tr>\n",
       "      <th>2274</th>\n",
       "      <td> notes : chaque document accessibilité, systè...</td>\n",
       "    </tr>\n",
       "    <tr>\n",
       "      <th>2280</th>\n",
       "      <td> règles gestion langue autre langue française...</td>\n",
       "    </tr>\n",
       "    <tr>\n",
       "      <th>2286</th>\n",
       "      <td> règles gestion si champ n'est renseigné, n'e...</td>\n",
       "    </tr>\n",
       "    <tr>\n",
       "      <th>2290</th>\n",
       "      <td> notes : chaque document apprendre, système a...</td>\n",
       "    </tr>\n",
       "    <tr>\n",
       "      <th>2292</th>\n",
       "      <td>5.8.10 afficher lettre dinformation (newslett...</td>\n",
       "    </tr>\n",
       "    <tr>\n",
       "      <th>2298</th>\n",
       "      <td>5.8.11 afficher formulaire désinscription lett...</td>\n",
       "    </tr>\n",
       "    <tr>\n",
       "      <th>2300</th>\n",
       "      <td> règles gestion : champ courriel doit conteni...</td>\n",
       "    </tr>\n",
       "    <tr>\n",
       "      <th>2301</th>\n",
       "      <td>5.8.12 afficher formulaire emallette 3. formul...</td>\n",
       "    </tr>\n",
       "    <tr>\n",
       "      <th>2303</th>\n",
       "      <td>cas dutilisation décrivant consultation formu...</td>\n",
       "    </tr>\n",
       "    <tr>\n",
       "      <th>2308</th>\n",
       "      <td>4. formulaire emalette 2</td>\n",
       "    </tr>\n",
       "    <tr>\n",
       "      <th>2310</th>\n",
       "      <td>cas dutilisation décrivant consultation formu...</td>\n",
       "    </tr>\n",
       "    <tr>\n",
       "      <th>2315</th>\n",
       "      <td>5.8.13 afficher formulaire vernissage acteur :...</td>\n",
       "    </tr>\n",
       "    <tr>\n",
       "      <th>2318</th>\n",
       "      <td> règles gestion : champ courriel doit conteni...</td>\n",
       "    </tr>\n",
       "    <tr>\n",
       "      <th>2319</th>\n",
       "      <td>texte juridique présent dessous formulaire con...</td>\n",
       "    </tr>\n",
       "    <tr>\n",
       "      <th>2320</th>\n",
       "      <td>5.8.14 afficher formulaire demande pass étudia...</td>\n",
       "    </tr>\n",
       "    <tr>\n",
       "      <th>2321</th>\n",
       "      <td>5. affichage formulaire</td>\n",
       "    </tr>\n",
       "    <tr>\n",
       "      <th>2328</th>\n",
       "      <td>5.8.15 afficher formulaire contact acteur : in...</td>\n",
       "    </tr>\n",
       "    <tr>\n",
       "      <th>2339</th>\n",
       "      <td>5.10.1.a naviguer parcours</td>\n",
       "    </tr>\n",
       "    <tr>\n",
       "      <th>2348</th>\n",
       "      <td> règles gestion : barre progression remplit f...</td>\n",
       "    </tr>\n",
       "    <tr>\n",
       "      <th>2354</th>\n",
       "      <td> règles gestion : si valeur lentité nest re...</td>\n",
       "    </tr>\n",
       "    <tr>\n",
       "      <th>2359</th>\n",
       "      <td> règles gestion : lélément cours visualisati...</td>\n",
       "    </tr>\n",
       "    <tr>\n",
       "      <th>2364</th>\n",
       "      <td> actions : touch doigt (double contact) visue...</td>\n",
       "    </tr>\n",
       "    <tr>\n",
       "      <th>2365</th>\n",
       "      <td> règles gestion défaut, visuel saffiche tota...</td>\n",
       "    </tr>\n",
       "    <tr>\n",
       "      <th>2371</th>\n",
       "      <td> règles gestion si aucune valeur nest saisie...</td>\n",
       "    </tr>\n",
       "    <tr>\n",
       "      <th>2377</th>\n",
       "      <td> règles gestion : a sélection dune valeur fi...</td>\n",
       "    </tr>\n",
       "  </tbody>\n",
       "</table>\n",
       "<p>619 rows × 1 columns</p>\n",
       "</div>"
      ],
      "text/plain": [
       "                                                  texte\n",
       "9      notes : système affiche : langue sélectionné...\n",
       "11     règles gestion : si lutilisateur clique ang...\n",
       "16              4.1.4 cu001-0022 contribuer page langue\n",
       "23    fil dariane présent toutes pages permet luti...\n",
       "35     notes : menu constitué entrées niveau 1 : in...\n",
       "37     règles gestion : si lutilisateur navigue la...\n",
       "38             4.1.8 cu001-006 modifier menu navigation\n",
       "40     notes : lutilisateur peut créer lien niveau...\n",
       "44     règles gestion : si lutilisateur a sélectio...\n",
       "45     4.1.10 cu001-008 contribuer contenu autre langue\n",
       "47    cas dutilisation permettant internaute contri...\n",
       "55     règles gestion : si lutilisateur ouvre nouv...\n",
       "56               4.1.12 cu001-010 modifier télécommande\n",
       "59    lutilisateur peut modifier lordre daffichag...\n",
       "65     règles gestion : footer saffiche pages suiv...\n",
       "66                     4.1.14 cu001-012 modifier footer\n",
       "69     notes : lutilisateur peut créer lien niveau...\n",
       "76        4.1.16 cu001-014 modifier bloc contenu moment\n",
       "80              4.1.17 cu001-015 contribuer type public\n",
       "84     règles gestion : nest possible supprimer ty...\n",
       "85      4.1.18 cu001-016 contribuer type billet / tarif\n",
       "89     règles gestion : nom billet nest visible qu...\n",
       "109    règles gestion : si champ n'est renseigné, n...\n",
       "113   carrousel outil permet dafficher plusieurs co...\n",
       "116    règles gestion : si champ n'est renseigné, n...\n",
       "119   si lévénement a plusieurs créneaux, créneau p...\n",
       "136   4.2.2.a cu002-008 contribuer barre dinformati...\n",
       "140    règles gestion : contributeur peut saisir 5 ...\n",
       "141       4.2.2.b cu002-009 contribuer bloc identitaire\n",
       "144   4.2.2.c cu002-010 contribuer vidéo bloc identi...\n",
       "...                                                 ...\n",
       "2252   règles gestion si champ n'est renseigné, n'e...\n",
       "2256   notes : chaque élément presse, système affic...\n",
       "2258   règles gestion : si sous-élément type lien v...\n",
       "2264   règles gestion langue autre langue française...\n",
       "2270   règles gestion si champ n'est renseigné, n'e...\n",
       "2274   notes : chaque document accessibilité, systè...\n",
       "2280   règles gestion langue autre langue française...\n",
       "2286   règles gestion si champ n'est renseigné, n'e...\n",
       "2290   notes : chaque document apprendre, système a...\n",
       "2292  5.8.10 afficher lettre dinformation (newslett...\n",
       "2298  5.8.11 afficher formulaire désinscription lett...\n",
       "2300   règles gestion : champ courriel doit conteni...\n",
       "2301  5.8.12 afficher formulaire emallette 3. formul...\n",
       "2303  cas dutilisation décrivant consultation formu...\n",
       "2308                           4. formulaire emalette 2\n",
       "2310  cas dutilisation décrivant consultation formu...\n",
       "2315  5.8.13 afficher formulaire vernissage acteur :...\n",
       "2318   règles gestion : champ courriel doit conteni...\n",
       "2319  texte juridique présent dessous formulaire con...\n",
       "2320  5.8.14 afficher formulaire demande pass étudia...\n",
       "2321                            5. affichage formulaire\n",
       "2328  5.8.15 afficher formulaire contact acteur : in...\n",
       "2339                         5.10.1.a naviguer parcours\n",
       "2348   règles gestion : barre progression remplit f...\n",
       "2354   règles gestion : si valeur lentité nest re...\n",
       "2359   règles gestion : lélément cours visualisati...\n",
       "2364   actions : touch doigt (double contact) visue...\n",
       "2365   règles gestion défaut, visuel saffiche tota...\n",
       "2371   règles gestion si aucune valeur nest saisie...\n",
       "2377   règles gestion : a sélection dune valeur fi...\n",
       "\n",
       "[619 rows x 1 columns]"
      ]
     },
     "execution_count": 65,
     "metadata": {},
     "output_type": "execute_result"
    }
   ],
   "source": [
    "data2"
   ]
  },
  {
   "cell_type": "code",
   "execution_count": 66,
   "metadata": {
    "scrolled": true
   },
   "outputs": [
    {
     "data": {
      "text/html": [
       "<div>\n",
       "<style scoped>\n",
       "    .dataframe tbody tr th:only-of-type {\n",
       "        vertical-align: middle;\n",
       "    }\n",
       "\n",
       "    .dataframe tbody tr th {\n",
       "        vertical-align: top;\n",
       "    }\n",
       "\n",
       "    .dataframe thead th {\n",
       "        text-align: right;\n",
       "    }\n",
       "</style>\n",
       "<table border=\"1\" class=\"dataframe\">\n",
       "  <thead>\n",
       "    <tr style=\"text-align: right;\">\n",
       "      <th></th>\n",
       "      <th>texte</th>\n",
       "    </tr>\n",
       "  </thead>\n",
       "  <tbody>\n",
       "    <tr>\n",
       "      <th>0</th>\n",
       "      <td>4. version desktop - liste cas d'utilisations ...</td>\n",
       "    </tr>\n",
       "    <tr>\n",
       "      <th>1</th>\n",
       "      <td>4.1.1 cu001-001 afficher header</td>\n",
       "    </tr>\n",
       "    <tr>\n",
       "      <th>3</th>\n",
       "      <td>cas dutilisation permettant internaute consul...</td>\n",
       "    </tr>\n",
       "    <tr>\n",
       "      <th>4</th>\n",
       "      <td> notes : système affiche éléments suivants : ...</td>\n",
       "    </tr>\n",
       "    <tr>\n",
       "      <th>5</th>\n",
       "      <td> actions : si lutilisateur clique logo depui...</td>\n",
       "    </tr>\n",
       "    <tr>\n",
       "      <th>6</th>\n",
       "      <td>4.1.2 cu001-002 afficher bouton langue</td>\n",
       "    </tr>\n",
       "    <tr>\n",
       "      <th>8</th>\n",
       "      <td>cas dutilisation permettant internaute consul...</td>\n",
       "    </tr>\n",
       "    <tr>\n",
       "      <th>10</th>\n",
       "      <td> actions : clic langue sélectionnée, système ...</td>\n",
       "    </tr>\n",
       "    <tr>\n",
       "      <th>12</th>\n",
       "      <td>4.1.3 cu001-0021 afficher page langue</td>\n",
       "    </tr>\n",
       "    <tr>\n",
       "      <th>14</th>\n",
       "      <td>cas dutilisation permettant internaute consul...</td>\n",
       "    </tr>\n",
       "    <tr>\n",
       "      <th>20</th>\n",
       "      <td>4.1.5 cu001-003 afficher fil dariane</td>\n",
       "    </tr>\n",
       "    <tr>\n",
       "      <th>22</th>\n",
       "      <td>cas dutilisation permettant internaute consul...</td>\n",
       "    </tr>\n",
       "    <tr>\n",
       "      <th>24</th>\n",
       "      <td>fil dariane composé dun lien vers page dacc...</td>\n",
       "    </tr>\n",
       "    <tr>\n",
       "      <th>25</th>\n",
       "      <td> règles gestion fil dariane saffiche : page...</td>\n",
       "    </tr>\n",
       "    <tr>\n",
       "      <th>26</th>\n",
       "      <td>4.1.6 cu001-004 afficher bouton partage</td>\n",
       "    </tr>\n",
       "    <tr>\n",
       "      <th>28</th>\n",
       "      <td>cas dutilisation permettant internaute consul...</td>\n",
       "    </tr>\n",
       "    <tr>\n",
       "      <th>29</th>\n",
       "      <td> notes : page cours consultation partagée com...</td>\n",
       "    </tr>\n",
       "    <tr>\n",
       "      <th>30</th>\n",
       "      <td> actions : clic bouton partage, menu suppléme...</td>\n",
       "    </tr>\n",
       "    <tr>\n",
       "      <th>31</th>\n",
       "      <td> règles gestion depuis page éditorial titre p...</td>\n",
       "    </tr>\n",
       "    <tr>\n",
       "      <th>32</th>\n",
       "      <td>4.1.7 cu001-005 afficher menu navigation</td>\n",
       "    </tr>\n",
       "    <tr>\n",
       "      <th>34</th>\n",
       "      <td>cas dutilisation permettant internaute consul...</td>\n",
       "    </tr>\n",
       "    <tr>\n",
       "      <th>36</th>\n",
       "      <td> actions : clic lune entrées niveau 1 rubriq...</td>\n",
       "    </tr>\n",
       "    <tr>\n",
       "      <th>41</th>\n",
       "      <td>4.1.9 cu001-007 afficher contenu autre langue</td>\n",
       "    </tr>\n",
       "    <tr>\n",
       "      <th>43</th>\n",
       "      <td>cas dutilisation permettant internaute consul...</td>\n",
       "    </tr>\n",
       "    <tr>\n",
       "      <th>48</th>\n",
       "      <td> notes : lutilisateur peut traduire toutes p...</td>\n",
       "    </tr>\n",
       "    <tr>\n",
       "      <th>49</th>\n",
       "      <td> notes : lutilisateur peut traduire page exi...</td>\n",
       "    </tr>\n",
       "    <tr>\n",
       "      <th>50</th>\n",
       "      <td>4.1.11 cu001-009 afficher télécommande</td>\n",
       "    </tr>\n",
       "    <tr>\n",
       "      <th>54</th>\n",
       "      <td> actions : clic chaque élément, pop-in souvr...</td>\n",
       "    </tr>\n",
       "    <tr>\n",
       "      <th>60</th>\n",
       "      <td>4.1.13 cu001-011 afficher footer</td>\n",
       "    </tr>\n",
       "    <tr>\n",
       "      <th>62</th>\n",
       "      <td>cas dutilisation permettant internaute consul...</td>\n",
       "    </tr>\n",
       "    <tr>\n",
       "      <th>...</th>\n",
       "      <td>...</td>\n",
       "    </tr>\n",
       "    <tr>\n",
       "      <th>2260</th>\n",
       "      <td>5.8.8.a cu009-502 afficher filtre</td>\n",
       "    </tr>\n",
       "    <tr>\n",
       "      <th>2263</th>\n",
       "      <td> actions : a sélection dune valeur filtre, l...</td>\n",
       "    </tr>\n",
       "    <tr>\n",
       "      <th>2265</th>\n",
       "      <td>5.8.8.b cu009-503 afficher liste documents acc...</td>\n",
       "    </tr>\n",
       "    <tr>\n",
       "      <th>2269</th>\n",
       "      <td> actions : clic titre dun élément, celui-ci ...</td>\n",
       "    </tr>\n",
       "    <tr>\n",
       "      <th>2271</th>\n",
       "      <td>5.8.8.c cu009-504 afficher document accessibil...</td>\n",
       "    </tr>\n",
       "    <tr>\n",
       "      <th>2275</th>\n",
       "      <td> actions : clic bouton retour, système affich...</td>\n",
       "    </tr>\n",
       "    <tr>\n",
       "      <th>2276</th>\n",
       "      <td>5.8.9 afficher documents apprendre 5.8.9.a cu0...</td>\n",
       "    </tr>\n",
       "    <tr>\n",
       "      <th>2279</th>\n",
       "      <td> actions : a sélection dune valeur filtre, l...</td>\n",
       "    </tr>\n",
       "    <tr>\n",
       "      <th>2281</th>\n",
       "      <td>5.8.9.b cu009-603 afficher liste documents app...</td>\n",
       "    </tr>\n",
       "    <tr>\n",
       "      <th>2285</th>\n",
       "      <td> actions : clic titre dun élément, celui-ci ...</td>\n",
       "    </tr>\n",
       "    <tr>\n",
       "      <th>2287</th>\n",
       "      <td>5.8.9.c cu009-604 afficher document apprendre ...</td>\n",
       "    </tr>\n",
       "    <tr>\n",
       "      <th>2291</th>\n",
       "      <td> actions : clic document télécharger, celui-c...</td>\n",
       "    </tr>\n",
       "    <tr>\n",
       "      <th>2327</th>\n",
       "      <td> actions : clic bouton retour, système rediri...</td>\n",
       "    </tr>\n",
       "    <tr>\n",
       "      <th>2330</th>\n",
       "      <td>5.9 billetterie [lot 1]</td>\n",
       "    </tr>\n",
       "    <tr>\n",
       "      <th>2331</th>\n",
       "      <td>5.9.1 cu108  001 afficher informations billet...</td>\n",
       "    </tr>\n",
       "    <tr>\n",
       "      <th>2334</th>\n",
       "      <td>lutilisateur visualise bloc après avoir cliqu...</td>\n",
       "    </tr>\n",
       "    <tr>\n",
       "      <th>2336</th>\n",
       "      <td> actions : clic billets, lutilisateur rediri...</td>\n",
       "    </tr>\n",
       "    <tr>\n",
       "      <th>2337</th>\n",
       "      <td>5.10 parcours [lot 6]</td>\n",
       "    </tr>\n",
       "    <tr>\n",
       "      <th>2338</th>\n",
       "      <td>5.10.1 afficher parcours parcours constitué él...</td>\n",
       "    </tr>\n",
       "    <tr>\n",
       "      <th>2343</th>\n",
       "      <td>5.10.1.b afficher barre doutils</td>\n",
       "    </tr>\n",
       "    <tr>\n",
       "      <th>2347</th>\n",
       "      <td> actions : clic bouton etoile, système rediri...</td>\n",
       "    </tr>\n",
       "    <tr>\n",
       "      <th>2349</th>\n",
       "      <td>5.10.1.c afficher page démarrage</td>\n",
       "    </tr>\n",
       "    <tr>\n",
       "      <th>2353</th>\n",
       "      <td> actions : clic bouton commencer, système red...</td>\n",
       "    </tr>\n",
       "    <tr>\n",
       "      <th>2358</th>\n",
       "      <td> actions : clic élément parcours système redi...</td>\n",
       "    </tr>\n",
       "    <tr>\n",
       "      <th>2360</th>\n",
       "      <td>5.10.1.e afficher éléments dun parcours</td>\n",
       "    </tr>\n",
       "    <tr>\n",
       "      <th>2366</th>\n",
       "      <td>5.10.1.f afficher page fin</td>\n",
       "    </tr>\n",
       "    <tr>\n",
       "      <th>2370</th>\n",
       "      <td> actions : clic bouton recommencer, système r...</td>\n",
       "    </tr>\n",
       "    <tr>\n",
       "      <th>2372</th>\n",
       "      <td>5.10.2 afficher tous parcours 5.10.2.a affiche...</td>\n",
       "    </tr>\n",
       "    <tr>\n",
       "      <th>2376</th>\n",
       "      <td> actions : a sélection dune valeur filtres, ...</td>\n",
       "    </tr>\n",
       "    <tr>\n",
       "      <th>2378</th>\n",
       "      <td>5.10.2.b afficher liste parcours</td>\n",
       "    </tr>\n",
       "  </tbody>\n",
       "</table>\n",
       "<p>742 rows × 1 columns</p>\n",
       "</div>"
      ],
      "text/plain": [
       "                                                  texte\n",
       "0     4. version desktop - liste cas d'utilisations ...\n",
       "1                       4.1.1 cu001-001 afficher header\n",
       "3     cas dutilisation permettant internaute consul...\n",
       "4      notes : système affiche éléments suivants : ...\n",
       "5      actions : si lutilisateur clique logo depui...\n",
       "6                4.1.2 cu001-002 afficher bouton langue\n",
       "8     cas dutilisation permettant internaute consul...\n",
       "10     actions : clic langue sélectionnée, système ...\n",
       "12                4.1.3 cu001-0021 afficher page langue\n",
       "14    cas dutilisation permettant internaute consul...\n",
       "20                4.1.5 cu001-003 afficher fil dariane\n",
       "22    cas dutilisation permettant internaute consul...\n",
       "24    fil dariane composé dun lien vers page dacc...\n",
       "25     règles gestion fil dariane saffiche : page...\n",
       "26              4.1.6 cu001-004 afficher bouton partage\n",
       "28    cas dutilisation permettant internaute consul...\n",
       "29     notes : page cours consultation partagée com...\n",
       "30     actions : clic bouton partage, menu suppléme...\n",
       "31     règles gestion depuis page éditorial titre p...\n",
       "32             4.1.7 cu001-005 afficher menu navigation\n",
       "34    cas dutilisation permettant internaute consul...\n",
       "36     actions : clic lune entrées niveau 1 rubriq...\n",
       "41        4.1.9 cu001-007 afficher contenu autre langue\n",
       "43    cas dutilisation permettant internaute consul...\n",
       "48     notes : lutilisateur peut traduire toutes p...\n",
       "49     notes : lutilisateur peut traduire page exi...\n",
       "50               4.1.11 cu001-009 afficher télécommande\n",
       "54     actions : clic chaque élément, pop-in souvr...\n",
       "60                     4.1.13 cu001-011 afficher footer\n",
       "62    cas dutilisation permettant internaute consul...\n",
       "...                                                 ...\n",
       "2260                  5.8.8.a cu009-502 afficher filtre\n",
       "2263   actions : a sélection dune valeur filtre, l...\n",
       "2265  5.8.8.b cu009-503 afficher liste documents acc...\n",
       "2269   actions : clic titre dun élément, celui-ci ...\n",
       "2271  5.8.8.c cu009-504 afficher document accessibil...\n",
       "2275   actions : clic bouton retour, système affich...\n",
       "2276  5.8.9 afficher documents apprendre 5.8.9.a cu0...\n",
       "2279   actions : a sélection dune valeur filtre, l...\n",
       "2281  5.8.9.b cu009-603 afficher liste documents app...\n",
       "2285   actions : clic titre dun élément, celui-ci ...\n",
       "2287  5.8.9.c cu009-604 afficher document apprendre ...\n",
       "2291   actions : clic document télécharger, celui-c...\n",
       "2327   actions : clic bouton retour, système rediri...\n",
       "2330                            5.9 billetterie [lot 1]\n",
       "2331  5.9.1 cu108  001 afficher informations billet...\n",
       "2334  lutilisateur visualise bloc après avoir cliqu...\n",
       "2336   actions : clic billets, lutilisateur rediri...\n",
       "2337                              5.10 parcours [lot 6]\n",
       "2338  5.10.1 afficher parcours parcours constitué él...\n",
       "2343                   5.10.1.b afficher barre doutils\n",
       "2347   actions : clic bouton etoile, système rediri...\n",
       "2349                   5.10.1.c afficher page démarrage\n",
       "2353   actions : clic bouton commencer, système red...\n",
       "2358   actions : clic élément parcours système redi...\n",
       "2360           5.10.1.e afficher éléments dun parcours\n",
       "2366                         5.10.1.f afficher page fin\n",
       "2370   actions : clic bouton recommencer, système r...\n",
       "2372  5.10.2 afficher tous parcours 5.10.2.a affiche...\n",
       "2376   actions : a sélection dune valeur filtres, ...\n",
       "2378                   5.10.2.b afficher liste parcours\n",
       "\n",
       "[742 rows x 1 columns]"
      ]
     },
     "execution_count": 66,
     "metadata": {},
     "output_type": "execute_result"
    }
   ],
   "source": [
    "data0 = pd.DataFrame(columns=['texte'])\n",
    "data0['texte'] = data.texte[ClusterIndicesNumpy(0, model.labels_) ]\n",
    "data0"
   ]
  },
  {
   "cell_type": "code",
   "execution_count": 68,
   "metadata": {
    "scrolled": true
   },
   "outputs": [
    {
     "data": {
      "text/html": [
       "<div>\n",
       "<style scoped>\n",
       "    .dataframe tbody tr th:only-of-type {\n",
       "        vertical-align: middle;\n",
       "    }\n",
       "\n",
       "    .dataframe tbody tr th {\n",
       "        vertical-align: top;\n",
       "    }\n",
       "\n",
       "    .dataframe thead th {\n",
       "        text-align: right;\n",
       "    }\n",
       "</style>\n",
       "<table border=\"1\" class=\"dataframe\">\n",
       "  <thead>\n",
       "    <tr style=\"text-align: right;\">\n",
       "      <th></th>\n",
       "      <th>texte</th>\n",
       "    </tr>\n",
       "  </thead>\n",
       "  <tbody>\n",
       "    <tr>\n",
       "      <th>0</th>\n",
       "      <td>4. version desktop - liste cas d'utilisations ...</td>\n",
       "    </tr>\n",
       "    <tr>\n",
       "      <th>1</th>\n",
       "      <td>4.1.1 cu001-001 afficher header</td>\n",
       "    </tr>\n",
       "    <tr>\n",
       "      <th>3</th>\n",
       "      <td>cas dutilisation permettant internaute consul...</td>\n",
       "    </tr>\n",
       "    <tr>\n",
       "      <th>4</th>\n",
       "      <td> notes : système affiche éléments suivants : ...</td>\n",
       "    </tr>\n",
       "    <tr>\n",
       "      <th>5</th>\n",
       "      <td> actions : si lutilisateur clique logo depui...</td>\n",
       "    </tr>\n",
       "    <tr>\n",
       "      <th>6</th>\n",
       "      <td>4.1.2 cu001-002 afficher bouton langue</td>\n",
       "    </tr>\n",
       "    <tr>\n",
       "      <th>8</th>\n",
       "      <td>cas dutilisation permettant internaute consul...</td>\n",
       "    </tr>\n",
       "    <tr>\n",
       "      <th>10</th>\n",
       "      <td> actions : clic langue sélectionnée, système ...</td>\n",
       "    </tr>\n",
       "    <tr>\n",
       "      <th>12</th>\n",
       "      <td>4.1.3 cu001-0021 afficher page langue</td>\n",
       "    </tr>\n",
       "    <tr>\n",
       "      <th>14</th>\n",
       "      <td>cas dutilisation permettant internaute consul...</td>\n",
       "    </tr>\n",
       "    <tr>\n",
       "      <th>20</th>\n",
       "      <td>4.1.5 cu001-003 afficher fil dariane</td>\n",
       "    </tr>\n",
       "    <tr>\n",
       "      <th>22</th>\n",
       "      <td>cas dutilisation permettant internaute consul...</td>\n",
       "    </tr>\n",
       "    <tr>\n",
       "      <th>24</th>\n",
       "      <td>fil dariane composé dun lien vers page dacc...</td>\n",
       "    </tr>\n",
       "    <tr>\n",
       "      <th>25</th>\n",
       "      <td> règles gestion fil dariane saffiche : page...</td>\n",
       "    </tr>\n",
       "    <tr>\n",
       "      <th>26</th>\n",
       "      <td>4.1.6 cu001-004 afficher bouton partage</td>\n",
       "    </tr>\n",
       "    <tr>\n",
       "      <th>28</th>\n",
       "      <td>cas dutilisation permettant internaute consul...</td>\n",
       "    </tr>\n",
       "    <tr>\n",
       "      <th>29</th>\n",
       "      <td> notes : page cours consultation partagée com...</td>\n",
       "    </tr>\n",
       "    <tr>\n",
       "      <th>30</th>\n",
       "      <td> actions : clic bouton partage, menu suppléme...</td>\n",
       "    </tr>\n",
       "    <tr>\n",
       "      <th>31</th>\n",
       "      <td> règles gestion depuis page éditorial titre p...</td>\n",
       "    </tr>\n",
       "    <tr>\n",
       "      <th>32</th>\n",
       "      <td>4.1.7 cu001-005 afficher menu navigation</td>\n",
       "    </tr>\n",
       "    <tr>\n",
       "      <th>34</th>\n",
       "      <td>cas dutilisation permettant internaute consul...</td>\n",
       "    </tr>\n",
       "    <tr>\n",
       "      <th>36</th>\n",
       "      <td> actions : clic lune entrées niveau 1 rubriq...</td>\n",
       "    </tr>\n",
       "    <tr>\n",
       "      <th>41</th>\n",
       "      <td>4.1.9 cu001-007 afficher contenu autre langue</td>\n",
       "    </tr>\n",
       "    <tr>\n",
       "      <th>43</th>\n",
       "      <td>cas dutilisation permettant internaute consul...</td>\n",
       "    </tr>\n",
       "    <tr>\n",
       "      <th>48</th>\n",
       "      <td> notes : lutilisateur peut traduire toutes p...</td>\n",
       "    </tr>\n",
       "    <tr>\n",
       "      <th>49</th>\n",
       "      <td> notes : lutilisateur peut traduire page exi...</td>\n",
       "    </tr>\n",
       "    <tr>\n",
       "      <th>50</th>\n",
       "      <td>4.1.11 cu001-009 afficher télécommande</td>\n",
       "    </tr>\n",
       "    <tr>\n",
       "      <th>54</th>\n",
       "      <td> actions : clic chaque élément, pop-in souvr...</td>\n",
       "    </tr>\n",
       "    <tr>\n",
       "      <th>60</th>\n",
       "      <td>4.1.13 cu001-011 afficher footer</td>\n",
       "    </tr>\n",
       "    <tr>\n",
       "      <th>62</th>\n",
       "      <td>cas dutilisation permettant internaute consul...</td>\n",
       "    </tr>\n",
       "    <tr>\n",
       "      <th>...</th>\n",
       "      <td>...</td>\n",
       "    </tr>\n",
       "    <tr>\n",
       "      <th>2252</th>\n",
       "      <td> règles gestion si champ n'est renseigné, n'e...</td>\n",
       "    </tr>\n",
       "    <tr>\n",
       "      <th>2256</th>\n",
       "      <td> notes : chaque élément presse, système affic...</td>\n",
       "    </tr>\n",
       "    <tr>\n",
       "      <th>2258</th>\n",
       "      <td> règles gestion : si sous-élément type lien v...</td>\n",
       "    </tr>\n",
       "    <tr>\n",
       "      <th>2264</th>\n",
       "      <td> règles gestion langue autre langue française...</td>\n",
       "    </tr>\n",
       "    <tr>\n",
       "      <th>2270</th>\n",
       "      <td> règles gestion si champ n'est renseigné, n'e...</td>\n",
       "    </tr>\n",
       "    <tr>\n",
       "      <th>2274</th>\n",
       "      <td> notes : chaque document accessibilité, systè...</td>\n",
       "    </tr>\n",
       "    <tr>\n",
       "      <th>2280</th>\n",
       "      <td> règles gestion langue autre langue française...</td>\n",
       "    </tr>\n",
       "    <tr>\n",
       "      <th>2286</th>\n",
       "      <td> règles gestion si champ n'est renseigné, n'e...</td>\n",
       "    </tr>\n",
       "    <tr>\n",
       "      <th>2290</th>\n",
       "      <td> notes : chaque document apprendre, système a...</td>\n",
       "    </tr>\n",
       "    <tr>\n",
       "      <th>2292</th>\n",
       "      <td>5.8.10 afficher lettre dinformation (newslett...</td>\n",
       "    </tr>\n",
       "    <tr>\n",
       "      <th>2298</th>\n",
       "      <td>5.8.11 afficher formulaire désinscription lett...</td>\n",
       "    </tr>\n",
       "    <tr>\n",
       "      <th>2300</th>\n",
       "      <td> règles gestion : champ courriel doit conteni...</td>\n",
       "    </tr>\n",
       "    <tr>\n",
       "      <th>2301</th>\n",
       "      <td>5.8.12 afficher formulaire emallette 3. formul...</td>\n",
       "    </tr>\n",
       "    <tr>\n",
       "      <th>2303</th>\n",
       "      <td>cas dutilisation décrivant consultation formu...</td>\n",
       "    </tr>\n",
       "    <tr>\n",
       "      <th>2308</th>\n",
       "      <td>4. formulaire emalette 2</td>\n",
       "    </tr>\n",
       "    <tr>\n",
       "      <th>2310</th>\n",
       "      <td>cas dutilisation décrivant consultation formu...</td>\n",
       "    </tr>\n",
       "    <tr>\n",
       "      <th>2315</th>\n",
       "      <td>5.8.13 afficher formulaire vernissage acteur :...</td>\n",
       "    </tr>\n",
       "    <tr>\n",
       "      <th>2318</th>\n",
       "      <td> règles gestion : champ courriel doit conteni...</td>\n",
       "    </tr>\n",
       "    <tr>\n",
       "      <th>2319</th>\n",
       "      <td>texte juridique présent dessous formulaire con...</td>\n",
       "    </tr>\n",
       "    <tr>\n",
       "      <th>2320</th>\n",
       "      <td>5.8.14 afficher formulaire demande pass étudia...</td>\n",
       "    </tr>\n",
       "    <tr>\n",
       "      <th>2321</th>\n",
       "      <td>5. affichage formulaire</td>\n",
       "    </tr>\n",
       "    <tr>\n",
       "      <th>2328</th>\n",
       "      <td>5.8.15 afficher formulaire contact acteur : in...</td>\n",
       "    </tr>\n",
       "    <tr>\n",
       "      <th>2339</th>\n",
       "      <td>5.10.1.a naviguer parcours</td>\n",
       "    </tr>\n",
       "    <tr>\n",
       "      <th>2348</th>\n",
       "      <td> règles gestion : barre progression remplit f...</td>\n",
       "    </tr>\n",
       "    <tr>\n",
       "      <th>2354</th>\n",
       "      <td> règles gestion : si valeur lentité nest re...</td>\n",
       "    </tr>\n",
       "    <tr>\n",
       "      <th>2359</th>\n",
       "      <td> règles gestion : lélément cours visualisati...</td>\n",
       "    </tr>\n",
       "    <tr>\n",
       "      <th>2364</th>\n",
       "      <td> actions : touch doigt (double contact) visue...</td>\n",
       "    </tr>\n",
       "    <tr>\n",
       "      <th>2365</th>\n",
       "      <td> règles gestion défaut, visuel saffiche tota...</td>\n",
       "    </tr>\n",
       "    <tr>\n",
       "      <th>2371</th>\n",
       "      <td> règles gestion si aucune valeur nest saisie...</td>\n",
       "    </tr>\n",
       "    <tr>\n",
       "      <th>2377</th>\n",
       "      <td> règles gestion : a sélection dune valeur fi...</td>\n",
       "    </tr>\n",
       "  </tbody>\n",
       "</table>\n",
       "<p>1361 rows × 1 columns</p>\n",
       "</div>"
      ],
      "text/plain": [
       "                                                  texte\n",
       "0     4. version desktop - liste cas d'utilisations ...\n",
       "1                       4.1.1 cu001-001 afficher header\n",
       "3     cas dutilisation permettant internaute consul...\n",
       "4      notes : système affiche éléments suivants : ...\n",
       "5      actions : si lutilisateur clique logo depui...\n",
       "6                4.1.2 cu001-002 afficher bouton langue\n",
       "8     cas dutilisation permettant internaute consul...\n",
       "10     actions : clic langue sélectionnée, système ...\n",
       "12                4.1.3 cu001-0021 afficher page langue\n",
       "14    cas dutilisation permettant internaute consul...\n",
       "20                4.1.5 cu001-003 afficher fil dariane\n",
       "22    cas dutilisation permettant internaute consul...\n",
       "24    fil dariane composé dun lien vers page dacc...\n",
       "25     règles gestion fil dariane saffiche : page...\n",
       "26              4.1.6 cu001-004 afficher bouton partage\n",
       "28    cas dutilisation permettant internaute consul...\n",
       "29     notes : page cours consultation partagée com...\n",
       "30     actions : clic bouton partage, menu suppléme...\n",
       "31     règles gestion depuis page éditorial titre p...\n",
       "32             4.1.7 cu001-005 afficher menu navigation\n",
       "34    cas dutilisation permettant internaute consul...\n",
       "36     actions : clic lune entrées niveau 1 rubriq...\n",
       "41        4.1.9 cu001-007 afficher contenu autre langue\n",
       "43    cas dutilisation permettant internaute consul...\n",
       "48     notes : lutilisateur peut traduire toutes p...\n",
       "49     notes : lutilisateur peut traduire page exi...\n",
       "50               4.1.11 cu001-009 afficher télécommande\n",
       "54     actions : clic chaque élément, pop-in souvr...\n",
       "60                     4.1.13 cu001-011 afficher footer\n",
       "62    cas dutilisation permettant internaute consul...\n",
       "...                                                 ...\n",
       "2252   règles gestion si champ n'est renseigné, n'e...\n",
       "2256   notes : chaque élément presse, système affic...\n",
       "2258   règles gestion : si sous-élément type lien v...\n",
       "2264   règles gestion langue autre langue française...\n",
       "2270   règles gestion si champ n'est renseigné, n'e...\n",
       "2274   notes : chaque document accessibilité, systè...\n",
       "2280   règles gestion langue autre langue française...\n",
       "2286   règles gestion si champ n'est renseigné, n'e...\n",
       "2290   notes : chaque document apprendre, système a...\n",
       "2292  5.8.10 afficher lettre dinformation (newslett...\n",
       "2298  5.8.11 afficher formulaire désinscription lett...\n",
       "2300   règles gestion : champ courriel doit conteni...\n",
       "2301  5.8.12 afficher formulaire emallette 3. formul...\n",
       "2303  cas dutilisation décrivant consultation formu...\n",
       "2308                           4. formulaire emalette 2\n",
       "2310  cas dutilisation décrivant consultation formu...\n",
       "2315  5.8.13 afficher formulaire vernissage acteur :...\n",
       "2318   règles gestion : champ courriel doit conteni...\n",
       "2319  texte juridique présent dessous formulaire con...\n",
       "2320  5.8.14 afficher formulaire demande pass étudia...\n",
       "2321                            5. affichage formulaire\n",
       "2328  5.8.15 afficher formulaire contact acteur : in...\n",
       "2339                         5.10.1.a naviguer parcours\n",
       "2348   règles gestion : barre progression remplit f...\n",
       "2354   règles gestion : si valeur lentité nest re...\n",
       "2359   règles gestion : lélément cours visualisati...\n",
       "2364   actions : touch doigt (double contact) visue...\n",
       "2365   règles gestion défaut, visuel saffiche tota...\n",
       "2371   règles gestion si aucune valeur nest saisie...\n",
       "2377   règles gestion : a sélection dune valeur fi...\n",
       "\n",
       "[1361 rows x 1 columns]"
      ]
     },
     "execution_count": 68,
     "metadata": {},
     "output_type": "execute_result"
    }
   ],
   "source": [
    "data02 = pd.concat([data0, data2])\n",
    "data02"
   ]
  },
  {
   "cell_type": "code",
   "execution_count": 87,
   "metadata": {},
   "outputs": [
    {
     "data": {
      "text/plain": [
       "<1361x1000 sparse matrix of type '<class 'numpy.float64'>'\n",
       "\twith 16991 stored elements in Compressed Sparse Row format>"
      ]
     },
     "execution_count": 87,
     "metadata": {},
     "output_type": "execute_result"
    }
   ],
   "source": [
    "tfidf = TfidfVectorizer(max_features=1000, lowercase=True, analyzer='word', stop_words= 'english',ngram_range=(1,1))\n",
    "data_vect02 = tfidf.fit_transform(data02['texte'])\n",
    "\n",
    "data_vect02"
   ]
  },
  {
   "cell_type": "code",
   "execution_count": 88,
   "metadata": {},
   "outputs": [
    {
     "data": {
      "text/plain": [
       "array([[0., 0., 0., ..., 0., 0., 0.],\n",
       "       [0., 0., 0., ..., 0., 0., 0.],\n",
       "       [0., 0., 0., ..., 0., 0., 0.],\n",
       "       ...,\n",
       "       [0., 0., 0., ..., 0., 0., 0.],\n",
       "       [0., 0., 0., ..., 0., 0., 0.],\n",
       "       [0., 0., 0., ..., 0., 0., 0.]])"
      ]
     },
     "execution_count": 88,
     "metadata": {},
     "output_type": "execute_result"
    }
   ],
   "source": [
    "data_vect02.toarray()"
   ]
  },
  {
   "cell_type": "code",
   "execution_count": 89,
   "metadata": {},
   "outputs": [
    {
     "data": {
      "text/plain": [
       "MiniBatchKMeans(batch_size=100, compute_labels=True, init='k-means++',\n",
       "                init_size=None, max_iter=100, max_no_improvement=10,\n",
       "                n_clusters=3, n_init=3, random_state=0, reassignment_ratio=0.01,\n",
       "                tol=0.0, verbose=0)"
      ]
     },
     "execution_count": 89,
     "metadata": {},
     "output_type": "execute_result"
    }
   ],
   "source": [
    "nbc=3\n",
    "model02 = MiniBatchKMeans(n_clusters=nbc, random_state=0)\n",
    "model02.fit(data_vect02)"
   ]
  },
  {
   "cell_type": "code",
   "execution_count": 86,
   "metadata": {
    "scrolled": true
   },
   "outputs": [
    {
     "name": "stdout",
     "output_type": "stream",
     "text": [
      "Top terms per cluster:\n",
      "Cluster 0:\n",
      " afficher\n",
      " lot\n",
      " cu009\n",
      " liste\n",
      " 15\n",
      " événements\n",
      " contribuer\n",
      " cu006\n",
      " cu105\n",
      " bloc\n",
      " afficher liste\n",
      " page\n",
      " afficher bloc\n",
      " éléments\n",
      " recherche\n",
      " cu003\n",
      " résultats\n",
      " 13\n",
      " afficher éléments\n",
      " parcours\n",
      "Cluster 1:\n",
      " si\n",
      " clic\n",
      " règles\n",
      " affiche\n",
      " élément\n",
      " bouton\n",
      " règles gestion\n",
      " gestion\n",
      " système\n",
      " bloc\n",
      " actions\n",
      " page\n",
      " est\n",
      " langue\n",
      " actions clic\n",
      " vers\n",
      " notice\n",
      " lien\n",
      " utilisateur\n",
      " titre\n",
      "Cluster 2:\n",
      " cas\n",
      " utilisation\n",
      " cas utilisation\n",
      " voir\n",
      " contribuer\n",
      " voir cas\n",
      " utilisation afficher\n",
      " bloc\n",
      " formulaire\n",
      " utilisation contribuer\n",
      " afficher\n",
      " événements\n",
      " liste\n",
      " cu006\n",
      " page\n",
      " aussi\n",
      " voir aussi\n",
      " aussi cas\n",
      " événement\n",
      " affiche\n"
     ]
    }
   ],
   "source": [
    "# Affichons les termes communs à chaque cluster\n",
    "print(\"Top terms per cluster:\")\n",
    "order_centroids = model02.cluster_centers_.argsort()[:, ::-1]\n",
    "terms = tfidf.get_feature_names()\n",
    "for i in range(nbc):\n",
    "    print(\"Cluster %d:\" % i),\n",
    "    for ind in order_centroids[i, :20]:\n",
    "        print(' %s' % terms[ind]),\n",
    "    print"
   ]
  },
  {
   "cell_type": "code",
   "execution_count": 90,
   "metadata": {},
   "outputs": [
    {
     "name": "stdout",
     "output_type": "stream",
     "text": [
      "[2]\n"
     ]
    }
   ],
   "source": [
    "Y = tfidf.transform([\"Contribuer du contenu dans une autre langue\"])\n",
    "prediction = model02.predict(Y)\n",
    "print(prediction)"
   ]
  },
  {
   "cell_type": "code",
   "execution_count": 91,
   "metadata": {},
   "outputs": [
    {
     "name": "stdout",
     "output_type": "stream",
     "text": [
      "[0]\n"
     ]
    }
   ],
   "source": [
    "Y = tfidf.transform([\"Afficher la liste des parcours\"])\n",
    "prediction = model02.predict(Y)\n",
    "print(prediction)"
   ]
  },
  {
   "cell_type": "code",
   "execution_count": 92,
   "metadata": {},
   "outputs": [
    {
     "name": "stdout",
     "output_type": "stream",
     "text": [
      "[0]\n"
     ]
    }
   ],
   "source": [
    "Y = tfidf.transform([\"Modifier le menu de navigation\"])\n",
    "prediction = model02.predict(Y)\n",
    "print(prediction)"
   ]
  },
  {
   "cell_type": "code",
   "execution_count": 93,
   "metadata": {},
   "outputs": [
    {
     "name": "stdout",
     "output_type": "stream",
     "text": [
      "[1]\n"
     ]
    }
   ],
   "source": [
    "Y = tfidf.transform([\"Le système affiche les informations suivantes liées à la notice: Titre, Auteur, Date, Pays, Copyright, Description…\"])\n",
    "prediction = model02.predict(Y)\n",
    "print(prediction)"
   ]
  },
  {
   "cell_type": "code",
   "execution_count": 94,
   "metadata": {},
   "outputs": [
    {
     "name": "stdout",
     "output_type": "stream",
     "text": [
      "[1]\n"
     ]
    }
   ],
   "source": [
    "Y = tfidf.transform([\"Ce bloc est visible sur toutes les pages éditoriales et tous les événements\"])\n",
    "prediction = model02.predict(Y)\n",
    "print(prediction)"
   ]
  },
  {
   "cell_type": "code",
   "execution_count": 95,
   "metadata": {},
   "outputs": [
    {
     "name": "stdout",
     "output_type": "stream",
     "text": [
      "[1]\n"
     ]
    }
   ],
   "source": [
    "Y = tfidf.transform([\"Affichage pour chaque langue le libellé\"])\n",
    "prediction = model02.predict(Y)\n",
    "print(prediction)"
   ]
  },
  {
   "cell_type": "code",
   "execution_count": 96,
   "metadata": {},
   "outputs": [
    {
     "name": "stdout",
     "output_type": "stream",
     "text": [
      "[1]\n"
     ]
    }
   ],
   "source": [
    "Y = tfidf.transform([\"page en cours de consultation est partagée sur le compte de l’internaute\"])\n",
    "prediction = model02.predict(Y)\n",
    "print(prediction)"
   ]
  },
  {
   "cell_type": "code",
   "execution_count": 97,
   "metadata": {},
   "outputs": [
    {
     "data": {
      "text/plain": [
       "0.020980478468487503"
      ]
     },
     "execution_count": 97,
     "metadata": {},
     "output_type": "execute_result"
    }
   ],
   "source": [
    "silhouette_score(data_vect02, labels=model02.predict(data_vect02))"
   ]
  },
  {
   "cell_type": "code",
   "execution_count": 98,
   "metadata": {},
   "outputs": [],
   "source": [
    "reduced_features = pca.fit_transform(data_vect02.toarray())\n",
    "\n",
    "# reduce the cluster centers to 2D\n",
    "reduced_cluster_centers = pca.transform(model02.cluster_centers_)"
   ]
  },
  {
   "cell_type": "code",
   "execution_count": 99,
   "metadata": {},
   "outputs": [
    {
     "data": {
      "image/png": "[encoded data removed]",
      "text/plain": [
       "<Figure size 432x288 with 1 Axes>"
      ]
     },
     "metadata": {
      "needs_background": "light"
     },
     "output_type": "display_data"
    }
   ],
   "source": [
    "#ACP\n",
    "\n",
    "acp = PCA(n_components=2).fit_transform(data_vect02.toarray())\n",
    "\n",
    "plt.scatter(acp[:,0], acp[:,1], c=model02.predict(data_vect02))\n",
    "acp_cluster_centers = pca.transform(model02.cluster_centers_)\n",
    "for couleur,k in zip(['purple','turquoise','yellow'],[0,1,2]):\n",
    "    plt.scatter(acp[model02.labels_==k,0],acp[model02.labels_==k,1],s=150,c=couleur)\n",
    "    plt.scatter(acp_cluster_centers[:, 0], acp_cluster_centers[:,1], marker='x', s=150, c='red')\n",
    "plt.show()"
   ]
  },
  {
   "cell_type": "code",
   "execution_count": 104,
   "metadata": {
    "scrolled": true
   },
   "outputs": [
    {
     "data": {
      "text/plain": [
       "0       4. version desktop - liste cas d'utilisations ...\n",
       "1                         4.1.1 cu001-001 afficher header\n",
       "5        actions : si lutilisateur clique logo depui...\n",
       "8       cas dutilisation permettant internaute consul...\n",
       "10       actions : clic langue sélectionnée, système ...\n",
       "14      cas dutilisation permettant internaute consul...\n",
       "19                                                    NaN\n",
       "22      cas dutilisation permettant internaute consul...\n",
       "26                4.1.6 cu001-004 afficher bouton partage\n",
       "28      cas dutilisation permettant internaute consul...\n",
       "32               4.1.7 cu001-005 afficher menu navigation\n",
       "34      cas dutilisation permettant internaute consul...\n",
       "35       notes : menu constitué entrées niveau 1 : in...\n",
       "37       règles gestion : si lutilisateur navigue la...\n",
       "40       notes : lutilisateur peut créer lien niveau...\n",
       "42                                                    NaN\n",
       "45       4.1.10 cu001-008 contribuer contenu autre langue\n",
       "48       notes : lutilisateur peut traduire toutes p...\n",
       "51                                                    NaN\n",
       "53                                                    NaN\n",
       "58                                                    NaN\n",
       "59      lutilisateur peut modifier lordre daffichag...\n",
       "61                                                    NaN\n",
       "63       notes : footer liste : éléments définis back...\n",
       "65       règles gestion : footer saffiche pages suiv...\n",
       "67                                                    NaN\n",
       "70          4.1.15 cu001-013 afficher bloc contenu moment\n",
       "72                                                    NaN\n",
       "76          4.1.16 cu001-014 modifier bloc contenu moment\n",
       "78                                                    NaN\n",
       "                              ...                        \n",
       "1188                                                  NaN\n",
       "1191                                                  NaN\n",
       "1193     actions : clic bouton retour, système rediri...\n",
       "1195    formulaire contribuable langues anglaises espa...\n",
       "1196    4.11.10 afficher formulaire contact acteur : i...\n",
       "1197                                                  NaN\n",
       "1198                4.11.11 contribuer formulaire contact\n",
       "1199                                                  NaN\n",
       "1200    cas dutilisation décrivant contribution formu...\n",
       "1203                                                  NaN\n",
       "1206                                                  NaN\n",
       "1208    4.12.2 cu012-002 contribuer informations bille...\n",
       "1210    contributeur place place mode liste dossier \"b...\n",
       "1211          page dédition, champs suivants saffichent\n",
       "1212                                                  NaN\n",
       "1213    chaque type billet, champs suivants saffichent :\n",
       "1214                                                  NaN\n",
       "1215                                4.13 parcours [lot 6]\n",
       "1220     actions : navigation via flèches clavier si ...\n",
       "1223                                                  NaN\n",
       "1225     actions : clic bouton etoile, système rediri...\n",
       "1235                                                  NaN\n",
       "1243     actions : clic lutilisateur dehors pop-in, ...\n",
       "1244     règles gestion : pop-in dinformation saffi...\n",
       "1247                                                  NaN\n",
       "1248                                                  NaN\n",
       "1264                                                  NaN\n",
       "1276    catégories peuvent être traduites anglais espa...\n",
       "1343                                                  NaN\n",
       "1353    règles gestions  défaut seuls premiers niveau...\n",
       "Name: texte, Length: 428, dtype: object"
      ]
     },
     "execution_count": 104,
     "metadata": {},
     "output_type": "execute_result"
    }
   ],
   "source": [
    "data02[\"texte\"][ClusterIndicesNumpy(0, model02.labels_) ]"
   ]
  },
  {
   "cell_type": "code",
   "execution_count": 102,
   "metadata": {
    "scrolled": true
   },
   "outputs": [
    {
     "data": {
      "text/plain": [
       "3       cas dutilisation permettant internaute consul...\n",
       "4        notes : système affiche éléments suivants : ...\n",
       "7                                                     NaN\n",
       "12                  4.1.3 cu001-0021 afficher page langue\n",
       "16                4.1.4 cu001-0022 contribuer page langue\n",
       "17                                                    NaN\n",
       "21                                                    NaN\n",
       "30       actions : clic bouton partage, menu suppléme...\n",
       "31       règles gestion depuis page éditorial titre p...\n",
       "33                                                    NaN\n",
       "41          4.1.9 cu001-007 afficher contenu autre langue\n",
       "44       règles gestion : si lutilisateur a sélectio...\n",
       "47      cas dutilisation permettant internaute contri...\n",
       "52                                                    NaN\n",
       "55       règles gestion : si lutilisateur ouvre nouv...\n",
       "60                       4.1.13 cu001-011 afficher footer\n",
       "64       actions : clic lien permet lutilisateur da...\n",
       "71                                                    NaN\n",
       "73                                                    NaN\n",
       "74       actions : linternaute redirigé vers page l...\n",
       "75                                                    NaN\n",
       "77                                                    NaN\n",
       "79                                                    NaN\n",
       "81                                                    NaN\n",
       "82                                                    NaN\n",
       "87                                                    NaN\n",
       "93      4.2.1.a cu002-001 afficher éléments page dacc...\n",
       "99                                                    NaN\n",
       "105                                                   NaN\n",
       "107                                                   NaN\n",
       "                              ...                        \n",
       "1320    actions  clic lien affiche contenu facette pe...\n",
       "1321                                 lien daccès favoris\n",
       "1322    notes  système affiche : lien sous forme dic...\n",
       "1323                            boutons type daffichages\n",
       "1324    notes  système affiche : lien afficher listes...\n",
       "1325    règles gestion  défaut type sélectionné « gal...\n",
       "1326    4.14.3 cu014-003 afficher bloc recherche lexp...\n",
       "1327                                                  NaN\n",
       "1328                                                  NaN\n",
       "1329    système affiche :  moteur recherche simple  ...\n",
       "1330                              moteur recherche simple\n",
       "1331                                                  NaN\n",
       "1332                                                  NaN\n",
       "1333    règles gestions  lors validation formulaire :...\n",
       "1334                 volet termes proposés autocomplétion\n",
       "1335                                                  NaN\n",
       "1336    actions  clic terme, recherche lancée lensem...\n",
       "1337                              recherches sauvegardées\n",
       "1338                                                  NaN\n",
       "1339    actions  clic croix suppression, sauvegarde s...\n",
       "1342    4.14.5 cu014-005 afficher liste facettes lexp...\n",
       "1348    actions  placement curseur champ recherche, t...\n",
       "1349    règles gestions  lappui bouton « entrée » cl...\n",
       "1354                                         facette pays\n",
       "1355    notes  liste valeurs contenues facette « pays...\n",
       "1356    actions  clic licône plier / déplier si bloc...\n",
       "1357    règles gestions  défaut seuls continents affi...\n",
       "1358    4.14.6 cu014-006 afficher résultats recherche ...\n",
       "1359    cas dutilisation reprend mêmes principes défi...\n",
       "1360    recherche effectuée défaut porte :  lensembl...\n",
       "Name: texte, Length: 624, dtype: object"
      ]
     },
     "execution_count": 102,
     "metadata": {},
     "output_type": "execute_result"
    }
   ],
   "source": [
    "data02.texte[ClusterIndicesNumpy(1, model02.labels_) ]"
   ]
  },
  {
   "cell_type": "code",
   "execution_count": 103,
   "metadata": {
    "scrolled": true
   },
   "outputs": [
    {
     "data": {
      "text/plain": [
       "2                                                     NaN\n",
       "6                  4.1.2 cu001-002 afficher bouton langue\n",
       "9        notes : système affiche : langue sélectionné...\n",
       "11       règles gestion : si lutilisateur clique ang...\n",
       "13                                                    NaN\n",
       "15                                                    NaN\n",
       "18                                                    NaN\n",
       "20                  4.1.5 cu001-003 afficher fil dariane\n",
       "23      fil dariane présent toutes pages permet luti...\n",
       "24      fil dariane composé dun lien vers page dacc...\n",
       "25       règles gestion fil dariane saffiche : page...\n",
       "27                                                    NaN\n",
       "29       notes : page cours consultation partagée com...\n",
       "36       actions : clic lune entrées niveau 1 rubriq...\n",
       "38               4.1.8 cu001-006 modifier menu navigation\n",
       "39                                                    NaN\n",
       "43      cas dutilisation permettant internaute consul...\n",
       "46                                                    NaN\n",
       "49       notes : lutilisateur peut traduire page exi...\n",
       "50                 4.1.11 cu001-009 afficher télécommande\n",
       "54       actions : clic chaque élément, pop-in souvr...\n",
       "56                 4.1.12 cu001-010 modifier télécommande\n",
       "57                                                    NaN\n",
       "62      cas dutilisation permettant internaute consul...\n",
       "66                       4.1.14 cu001-012 modifier footer\n",
       "68                                                    NaN\n",
       "69       notes : lutilisateur peut créer lien niveau...\n",
       "85        4.1.18 cu001-016 contribuer type billet / tarif\n",
       "92      voir aussi cas dutilisation contribuer page d...\n",
       "94                                                    NaN\n",
       "                              ...                        \n",
       "1070     règles gestion si champ n'est renseigné, n'e...\n",
       "1071    4.9.14.d cu009-4025 afficher lélément presse ...\n",
       "1074     notes : défaut, système affiche accès rapide...\n",
       "1075     actions : clic document, document ouvert nou...\n",
       "1076     règles gestion : si sous-élément type lien v...\n",
       "1077                   4.9.15 contribuer documents presse\n",
       "1078                  lentité liée lentité media presse\n",
       "1079         4.9.15.a cu009-405 contribuer élément presse\n",
       "1080                                                  NaN\n",
       "1081                                                  NaN\n",
       "1082    média presse peut-être contribué langue anglai...\n",
       "1098    4.9.16 afficher documents accessibilité lenti...\n",
       "1100                                                  NaN\n",
       "1102     actions : a sélection dune valeur filtre, l...\n",
       "1103     règles gestion langue autre langue française...\n",
       "1250                         4.13.1.g afficher barre zoom\n",
       "1254     actions : clic bouton +, système zoome dun ...\n",
       "1258                                                  NaN\n",
       "1293    a lajout dun élément depuis armadillo, éléme...\n",
       "1297     règles gestion : contributeur peut ordonnanc...\n",
       "1303     règles gestion : contributeur peut choisir l...\n",
       "1340    règles gestion  recherches sauvegardées uniqu...\n",
       "1341    4.14.4 cu014-004 afficher bloc recherche avanc...\n",
       "1344                                                  NaN\n",
       "1345    système affiche :  facette personnes  facett...\n",
       "1346                                    facette personnes\n",
       "1347                                                  NaN\n",
       "1350                                     facette cultures\n",
       "1351    notes  liste valeurs contenues facette « cult...\n",
       "1352    actions  clic licône plier / déplier si bloc...\n",
       "Name: texte, Length: 309, dtype: object"
      ]
     },
     "execution_count": 103,
     "metadata": {},
     "output_type": "execute_result"
    }
   ],
   "source": [
    "data02.texte[ClusterIndicesNumpy(2, model02.labels_) ]"
   ]
  }
 ],
 "metadata": {
  "kernelspec": {
   "display_name": "Python 3",
   "language": "python",
   "name": "python3"
  },
  "language_info": {
   "codemirror_mode": {
    "name": "ipython",
    "version": 3
   },
   "file_extension": ".py",
   "mimetype": "text/x-python",
   "name": "python",
   "nbconvert_exporter": "python",
   "pygments_lexer": "ipython3",
   "version": "3.7.3"
  }
 },
 "nbformat": 4,
 "nbformat_minor": 2
}
