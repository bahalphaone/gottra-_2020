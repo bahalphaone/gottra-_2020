{
 "cells": [
  {
   "cell_type": "markdown",
   "metadata": {},
   "source": [
    "# Clustering avec KMeans"
   ]
  },
  {
   "cell_type": "code",
   "execution_count": 1,
   "metadata": {},
   "outputs": [],
   "source": [
    "import pandas as pd\n",
    "import numpy as np\n",
    "from sklearn.cluster import MiniBatchKMeans\n",
    "from sklearn.metrics import adjusted_rand_score\n",
    "from sklearn.feature_extraction.text import TfidfVectorizer\n",
    "from sklearn.decomposition import PCA\n",
    "import matplotlib.pyplot as plt"
   ]
  },
  {
   "cell_type": "markdown",
   "metadata": {},
   "source": [
    "#### Import du dataset"
   ]
  },
  {
   "cell_type": "code",
   "execution_count": 2,
   "metadata": {},
   "outputs": [
    {
     "data": {
      "text/html": [
       "<div>\n",
       "<style scoped>\n",
       "    .dataframe tbody tr th:only-of-type {\n",
       "        vertical-align: middle;\n",
       "    }\n",
       "\n",
       "    .dataframe tbody tr th {\n",
       "        vertical-align: top;\n",
       "    }\n",
       "\n",
       "    .dataframe thead th {\n",
       "        text-align: right;\n",
       "    }\n",
       "</style>\n",
       "<table border=\"1\" class=\"dataframe\">\n",
       "  <thead>\n",
       "    <tr style=\"text-align: right;\">\n",
       "      <th></th>\n",
       "      <th>texte</th>\n",
       "      <th>tag</th>\n",
       "    </tr>\n",
       "  </thead>\n",
       "  <tbody>\n",
       "    <tr>\n",
       "      <th>0</th>\n",
       "      <td>4.\\tVersion Desktop - liste des cas d'utilisat...</td>\n",
       "      <td>texte</td>\n",
       "    </tr>\n",
       "    <tr>\n",
       "      <th>1</th>\n",
       "      <td>4.1.1\\tCU001-001 Afficher le header</td>\n",
       "      <td>usecase</td>\n",
       "    </tr>\n",
       "    <tr>\n",
       "      <th>2</th>\n",
       "      <td>Acteur : Internaute</td>\n",
       "      <td>acteur</td>\n",
       "    </tr>\n",
       "    <tr>\n",
       "      <th>3</th>\n",
       "      <td>Cas dutilisation permettant à un internaute  ...</td>\n",
       "      <td>texte</td>\n",
       "    </tr>\n",
       "    <tr>\n",
       "      <th>4</th>\n",
       "      <td>\\tNotes :\\nLe système affiche les éléments su...</td>\n",
       "      <td>texte</td>\n",
       "    </tr>\n",
       "  </tbody>\n",
       "</table>\n",
       "</div>"
      ],
      "text/plain": [
       "                                               texte      tag\n",
       "0  4.\\tVersion Desktop - liste des cas d'utilisat...    texte\n",
       "1                4.1.1\\tCU001-001 Afficher le header  usecase\n",
       "2                                Acteur : Internaute   acteur\n",
       "3  Cas dutilisation permettant à un internaute  ...    texte\n",
       "4  \\tNotes :\\nLe système affiche les éléments su...    texte"
      ]
     },
     "execution_count": 2,
     "metadata": {},
     "output_type": "execute_result"
    }
   ],
   "source": [
    "from sklearn.datasets import load_files\n",
    "\n",
    "\n",
    "random_state = 0 \n",
    "data = pd.read_csv('./scenarii.csv', encoding=\"ISO-8859-1\", sep=\";\", header = 0)\n",
    "data.head()"
   ]
  },
  {
   "cell_type": "markdown",
   "metadata": {},
   "source": [
    "## extraction des caractéristiques "
   ]
  },
  {
   "cell_type": "code",
   "execution_count": 3,
   "metadata": {},
   "outputs": [],
   "source": [
    "# Extraction des caractéristiques en limitant le nombre de feature à 1000\n",
    "from nltk.corpus import stopwords\n",
    "\n",
    "vec = TfidfVectorizer(max_features=1000, stop_words=stopwords.words('french'))\n",
    "vec.fit(data['texte'].values)\n",
    "features = vec.transform(data['texte'].values)"
   ]
  },
  {
   "cell_type": "code",
   "execution_count": 4,
   "metadata": {},
   "outputs": [
    {
     "data": {
      "text/plain": [
       "<2382x1000 sparse matrix of type '<class 'numpy.float64'>'\n",
       "\twith 29551 stored elements in Compressed Sparse Row format>"
      ]
     },
     "execution_count": 4,
     "metadata": {},
     "output_type": "execute_result"
    }
   ],
   "source": [
    "features"
   ]
  },
  {
   "cell_type": "code",
   "execution_count": 5,
   "metadata": {},
   "outputs": [
    {
     "data": {
      "text/plain": [
       "array([[0.        , 0.        , 0.        , ..., 0.        , 0.        ,\n",
       "        0.        ],\n",
       "       [0.        , 0.        , 0.53024634, ..., 0.        , 0.        ,\n",
       "        0.        ],\n",
       "       [0.        , 0.        , 0.        , ..., 0.        , 0.        ,\n",
       "        0.        ],\n",
       "       ...,\n",
       "       [0.        , 0.        , 0.        , ..., 0.        , 0.        ,\n",
       "        0.        ],\n",
       "       [0.        , 0.        , 0.        , ..., 0.        , 0.        ,\n",
       "        0.        ],\n",
       "       [0.        , 0.        , 0.        , ..., 0.        , 0.        ,\n",
       "        0.        ]])"
      ]
     },
     "execution_count": 5,
     "metadata": {},
     "output_type": "execute_result"
    }
   ],
   "source": [
    "features.toarray()"
   ]
  },
  {
   "cell_type": "markdown",
   "metadata": {},
   "source": [
    "## Construction du Modèle KMeans"
   ]
  },
  {
   "cell_type": "code",
   "execution_count": 6,
   "metadata": {},
   "outputs": [
    {
     "data": {
      "text/plain": [
       "MiniBatchKMeans(batch_size=100, compute_labels=True, init='k-means++',\n",
       "                init_size=None, max_iter=100, max_no_improvement=10,\n",
       "                n_clusters=5, n_init=3, random_state=0, reassignment_ratio=0.01,\n",
       "                tol=0.0, verbose=0)"
      ]
     },
     "execution_count": 6,
     "metadata": {},
     "output_type": "execute_result"
    }
   ],
   "source": [
    "#Construction d'un clustering de 5 clusters\n",
    "\n",
    "nbc=5\n",
    "model = MiniBatchKMeans(n_clusters=nbc, random_state=random_state)\n",
    "model.fit(features)"
   ]
  },
  {
   "cell_type": "code",
   "execution_count": 7,
   "metadata": {
    "scrolled": true
   },
   "outputs": [
    {
     "name": "stdout",
     "output_type": "stream",
     "text": [
      "Top terms per cluster:\n",
      "Cluster 0:\n",
      " afficher\n",
      " clic\n",
      " actions\n",
      " page\n",
      " lot\n",
      " liste\n",
      " bouton\n",
      " bloc\n",
      " cu006\n",
      " événements\n",
      "Cluster 1:\n",
      " champ\n",
      " affiche\n",
      " système\n",
      " affichage\n",
      " notes\n",
      " date\n",
      " type\n",
      " titre\n",
      " texte\n",
      " oui\n",
      "Cluster 2:\n",
      " si\n",
      " règles\n",
      " gestion\n",
      " élément\n",
      " affiche\n",
      " langue\n",
      " bloc\n",
      " pagination\n",
      " utilisateur\n",
      " gestions\n",
      "Cluster 3:\n",
      " acteur\n",
      " internaute\n",
      " administrateur\n",
      " contributeur\n",
      " favoris\n",
      " notice\n",
      " titre\n",
      " bouton\n",
      " tri\n",
      " alors\n",
      "Cluster 4:\n",
      " décrivant\n",
      " utilisation\n",
      " cas\n",
      " consultation\n",
      " page\n",
      " bloc\n",
      " éditoriale\n",
      " événement\n",
      " contribution\n",
      " liste\n"
     ]
    }
   ],
   "source": [
    "# Affichons les termes communs à chaque cluster\n",
    "print(\"Top terms per cluster:\")\n",
    "order_centroids = model.cluster_centers_.argsort()[:, ::-1]\n",
    "terms = vec.get_feature_names()\n",
    "for i in range(nbc):\n",
    "    print(\"Cluster %d:\" % i),\n",
    "    for ind in order_centroids[i, :10]:\n",
    "        print(' %s' % terms[ind]),\n",
    "    print"
   ]
  },
  {
   "cell_type": "markdown",
   "metadata": {},
   "source": [
    "#### Déterminons les clusters associés à quelques documents de notre base de données et comparons les résultats obtenus"
   ]
  },
  {
   "cell_type": "code",
   "execution_count": 8,
   "metadata": {},
   "outputs": [
    {
     "name": "stdout",
     "output_type": "stream",
     "text": [
      "[3]\n"
     ]
    }
   ],
   "source": [
    "Y = vec.transform([\"Acteur : Internaute\"])\n",
    "prediction = model.predict(Y)\n",
    "print(prediction)"
   ]
  },
  {
   "cell_type": "code",
   "execution_count": 9,
   "metadata": {},
   "outputs": [
    {
     "name": "stdout",
     "output_type": "stream",
     "text": [
      "[3]\n"
     ]
    }
   ],
   "source": [
    "Y = vec.transform([\"Acteur : Contributeur / Administrateur\"])\n",
    "prediction = model.predict(Y)\n",
    "print(prediction)"
   ]
  },
  {
   "cell_type": "code",
   "execution_count": 10,
   "metadata": {},
   "outputs": [
    {
     "name": "stdout",
     "output_type": "stream",
     "text": [
      "[0]\n"
     ]
    }
   ],
   "source": [
    "Y = vec.transform([\"4.1.2 CU001-002 Afficher le bouton de langu\"])\n",
    "prediction = model.predict(Y)\n",
    "print(prediction)"
   ]
  },
  {
   "cell_type": "code",
   "execution_count": 11,
   "metadata": {},
   "outputs": [
    {
     "name": "stdout",
     "output_type": "stream",
     "text": [
      "[0]\n"
     ]
    }
   ],
   "source": [
    "Y = vec.transform([\"Cas d’utilisation permettant à un internaute  de consulter le fil d’ariane du site.\"])\n",
    "prediction = model.predict(Y)\n",
    "print(prediction)"
   ]
  },
  {
   "cell_type": "code",
   "execution_count": 13,
   "metadata": {},
   "outputs": [
    {
     "name": "stdout",
     "output_type": "stream",
     "text": [
      "[1]\n"
     ]
    }
   ],
   "source": [
    "Y = vec.transform([\"4.1.17CU001-015 Contribuer un type de public\"])\n",
    "prediction = model.predict(Y)\n",
    "print(prediction)"
   ]
  },
  {
   "cell_type": "code",
   "execution_count": 14,
   "metadata": {},
   "outputs": [
    {
     "name": "stdout",
     "output_type": "stream",
     "text": [
      "[1]\n"
     ]
    }
   ],
   "source": [
    "Y = vec.transform([\"Si il y a plus de 3 jours successifs ayant les mêmes horaires, le système affiche Du [1er jour] au [dernier jour] Si il a 3 jours successifs ayant les mêmes horaires, le système affiche [1er jour], [2eme jour] et [3eme jour] Si il ya 2 jours successifs, le système affiche [1er jour], [2eme jour]\"])\n",
    "prediction = model.predict(Y)\n",
    "print(prediction)"
   ]
  },
  {
   "cell_type": "code",
   "execution_count": 15,
   "metadata": {},
   "outputs": [
    {
     "name": "stdout",
     "output_type": "stream",
     "text": [
      "[1]\n"
     ]
    }
   ],
   "source": [
    "Y = vec.transform([\"Nom du champ Type de champ obligatoire Commentaires\"])\n",
    "prediction = model.predict(Y)\n",
    "print(prediction)"
   ]
  },
  {
   "cell_type": "code",
   "execution_count": 16,
   "metadata": {},
   "outputs": [
    {
     "name": "stdout",
     "output_type": "stream",
     "text": [
      "[1]\n"
     ]
    }
   ],
   "source": [
    "Y = vec.transform([\"Nom de la langue Champ texte OUI Ge\"])\n",
    "prediction = model.predict(Y)\n",
    "print(prediction)"
   ]
  },
  {
   "cell_type": "code",
   "execution_count": 17,
   "metadata": {},
   "outputs": [
    {
     "name": "stdout",
     "output_type": "stream",
     "text": [
      "[1]\n"
     ]
    }
   ],
   "source": [
    "Y = vec.transform([\"Le contributeur se place en mode liste sur le dossier billets / tarifs. Les champs suivants s’affichent : [...]\"])\n",
    "prediction = model.predict(Y)\n",
    "print(prediction)"
   ]
  },
  {
   "cell_type": "code",
   "execution_count": 19,
   "metadata": {},
   "outputs": [
    {
     "name": "stdout",
     "output_type": "stream",
     "text": [
      "[1]\n"
     ]
    }
   ],
   "source": [
    "Y = vec.transform([\"Le contributeur se place dans une page éditoriale et ajoute un plugin Bloc d’images. Il peut :Sélectionner une image existante [...]\"])\n",
    "prediction = model.predict(Y)\n",
    "print(prediction)"
   ]
  },
  {
   "cell_type": "code",
   "execution_count": null,
   "metadata": {},
   "outputs": [],
   "source": []
  },
  {
   "cell_type": "code",
   "execution_count": 20,
   "metadata": {},
   "outputs": [],
   "source": [
    "def ClusterIndicesNumpy(clustNum, labels_array): #numpy \n",
    "    return np.where(labels_array == clustNum)[0] "
   ]
  },
  {
   "cell_type": "code",
   "execution_count": 21,
   "metadata": {},
   "outputs": [
    {
     "data": {
      "text/plain": [
       "0       4.\\tVersion Desktop - liste des cas d'utilisat...\n",
       "1                     4.1.1\\tCU001-001 Afficher le header\n",
       "3       Cas dutilisation permettant à un internaute  ...\n",
       "4       \\tNotes :\\nLe système affiche les éléments su...\n",
       "5       \\tActions :\\nSi lutilisateur clique\\nsur le ...\n",
       "6           4.1.2\\tCU001-002 Afficher le bouton de langue\n",
       "8       Cas dutilisation permettant à un internaute  ...\n",
       "10      \\tActions :\\nAu clic sur la langue sélectionn...\n",
       "12              4.1.3\\tCU001-0021 Afficher la page Langue\n",
       "14      Cas dutilisation permettant à un internaute  ...\n",
       "16            4.1.4\\tCU001-0022 Contribuer la page langue\n",
       "20              4.1.5\\tCU001-003 Afficher le fil dariane\n",
       "22      Cas dutilisation permettant à un internaute  ...\n",
       "24      Le fil dariane est composé dun lien vers la ...\n",
       "25      \\tRègles de gestion\\nLe fil dariane ne saff...\n",
       "26         4.1.6\\tCU001-004 Afficher le bouton de partage\n",
       "28      Cas dutilisation permettant à un internaute  ...\n",
       "30      \\tActions :\\nAu clic sur le bouton de partage...\n",
       "31      \\tRègles de gestion\\nDepuis une page éditoria...\n",
       "32        4.1.7\\tCU001-005 Afficher le menu de navigation\n",
       "34      Cas dutilisation permettant à un internaute  ...\n",
       "36      \\tActions :\\nAu clic sur lune des entrées de...\n",
       "38        4.1.8\\tCU001-006 Modifier le menu de navigation\n",
       "41      4.1.9\\tCU001-007 Afficher du contenu dans une ...\n",
       "43      Cas dutilisation permettant à un internaute  ...\n",
       "47      Cas dutilisation permettant à un internaute  ...\n",
       "48      \\tNotes :\\nLutilisateur peut traduire toutes...\n",
       "49      \\tNotes :\\nLutilisateur peut traduire une pa...\n",
       "50             4.1.11\\tCU001-009 Afficher la télécommande\n",
       "54      \\tActions :\\nAu clic sur chaque élément, une ...\n",
       "                              ...                        \n",
       "2260                5.8.8.a\\tCU009-502 Afficher le filtre\n",
       "2263    \\tActions :\\nA la sélection dune valeur dans...\n",
       "2265    5.8.8.b\\tCU009-503 Afficher la liste de docume...\n",
       "2269    \\tActions :\\nAu clic sur le titre dun élémen...\n",
       "2271    5.8.8.c\\tCU009-504 Afficher le document Access...\n",
       "2275    \\tActions :\\nAu clic sur le bouton Retour, le...\n",
       "2276    5.8.9\\tAfficher les documents Apprendre\\n5.8.9...\n",
       "2279    \\tActions :\\nA la sélection dune valeur dans...\n",
       "2281    5.8.9.b\\tCU009-603 Afficher la liste de docume...\n",
       "2285    \\tActions :\\nAu clic sur le titre dun élémen...\n",
       "2287    5.8.9.c\\tCU009-604 Afficher le document Appren...\n",
       "2291    \\tActions :\\nAu clic sur le document à téléch...\n",
       "2327    \\tActions :\\nAu clic sur le bouton Retour, le...\n",
       "2330                             5.9\\tBilletterie [LOT 1]\n",
       "2331    5.9.1\\tCU108  001 Afficher les informations d...\n",
       "2334    Lutilisateur visualise ce bloc après avoir cl...\n",
       "2336    \\tActions :\\nAu clic sur un des billets, lut...\n",
       "2337                               5.10\\tParcours [LOT 6]\n",
       "2338    5.10.1\\tAfficher un parcours\\nLe parcours est ...\n",
       "2343                 5.10.1.b\\tAfficher la barre doutils\n",
       "2347    \\tActions :\\nAu clic sur le bouton Etoile, le...\n",
       "2349              5.10.1.c\\tAfficher la page de démarrage\n",
       "2353    \\tActions :\\nAu clic sur le bouton Commencer,...\n",
       "2358    \\tActions :\\nAu clic sur un élément du parcou...\n",
       "2360        5.10.1.e\\tAfficher les éléments dun parcours\n",
       "2366                    5.10.1.f\\tAfficher la page de fin\n",
       "2370    \\tActions :\\nAu clic sur le bouton Recommence...\n",
       "2372    5.10.2\\tAfficher tous les parcours\\n5.10.2.a\\t...\n",
       "2376    \\tActions :\\nA la sélection dune valeur dans...\n",
       "2378             5.10.2.b\\tAfficher la liste des parcours\n",
       "Name: texte, Length: 757, dtype: object"
      ]
     },
     "execution_count": 21,
     "metadata": {},
     "output_type": "execute_result"
    }
   ],
   "source": [
    "data.texte[ClusterIndicesNumpy(0, model.labels_) ]"
   ]
  },
  {
   "cell_type": "code",
   "execution_count": 22,
   "metadata": {},
   "outputs": [
    {
     "data": {
      "text/plain": [
       "15      \\tNotes :\\nLe système affiche pour chaque lan...\n",
       "19      Nom du champ\\t\\tType de champ\\tobligatoire\\tCo...\n",
       "23      Un fil dAriane est présent sur toutes les pag...\n",
       "29      \\tNotes :\\nLa page en cours de consultation e...\n",
       "40      \\tNotes :\\nLutilisateur peut créer un lien d...\n",
       "45      4.1.10\\tCU001-008 Contribuer du contenu dans u...\n",
       "53      \\tNotes :\\nLe système affiche les 5 accès rap...\n",
       "59      Lutilisateur peut modifier lordre daffichag...\n",
       "69      \\tNotes :\\nLutilisateur peut créer un lien d...\n",
       "73      \\tNotes :\\nCe bloc est visible sur toutes les...\n",
       "75      \\tRègles de gestion\\nUn événement saffiche d...\n",
       "79      Nom du champ\\t\\tType de champ\\tobligatoire\\tCo...\n",
       "80         4.1.17\\tCU001-015 Contribuer un type de public\n",
       "83      Nom du champ\\t\\tType de champ\\tobligatoire\\tCo...\n",
       "85      4.1.18\\tCU001-016 Contribuer un type de billet...\n",
       "87      Cas dutilisation décrivant la contribution po...\n",
       "88      Nom du champ\\t\\tType de champ\\tobligatoire\\tCo...\n",
       "101     \\tNotes :\\nCette barre est visible seulement ...\n",
       "103     \\tRègles de gestion :\\nSil ny a pas dentit...\n",
       "107     \\tNotes :\\nLe système affiche dans lordre su...\n",
       "114     \\tNotes :\\nLe système affiche les entités Car...\n",
       "117     Champ sélectionné en Back-office\\trègles daff...\n",
       "118     Date de début\\nDate de fin\\tDu [date début] au...\n",
       "127     \\tNotes :\\nLe système affiche les entités par...\n",
       "132     \\tNotes :\\nLe système affiche :\\nles onglets ...\n",
       "134     \\tRègles de gestion :\\nOnglet\\nSil nexiste ...\n",
       "136     4.2.2.a\\tCU002-008 Contribuer la barre dinfor...\n",
       "138     Cas dutilisation décrivant lajout dune info...\n",
       "139     Nom du champ\\t\\tType de champ\\tobligatoire\\tCo...\n",
       "145                       Les champs propres à la vidéo :\n",
       "                              ...                        \n",
       "2310    Cas dutilisation décrivant la consultation du...\n",
       "2311    Libellé de regroupement\\tSous libellé\\tNom du ...\n",
       "2312    Civilité\\nListe déroulante\\tOUI\\t\\tSélectionne...\n",
       "2313    Adresse professionnelle\\nEtablissement\\tChamp ...\n",
       "2314    \\tRègles de gestion :\\nLe champ courriel doit...\n",
       "2315    5.8.13\\tAfficher le formulaire Vernissage\\nAct...\n",
       "2316    Libellé de regroupement\\tSous libellé\\tNom du ...\n",
       "2317    Civilité\\nListe déroulante\\tOUI\\t\\tSélectionne...\n",
       "2318    \\tRègles de gestion :\\nLe champ courriel doit...\n",
       "2319    Texte juridique présent au dessous du formulai...\n",
       "2320    5.8.14\\tAfficher le formulaire de demande de P...\n",
       "2321                          5.\\tAffichage du formulaire\n",
       "2322    Libellé de regroupement\\tSous libellé\\tNom du ...\n",
       "2323    \\tNotes :\\nLe système affiche le contenu du c...\n",
       "2324    Le système affiche le contenu du champ contenu...\n",
       "2325    \\tRègles de gestion :\\nLe champ date de naiss...\n",
       "2326    \\tNotes :\\nLe système liste affiche\\nun texte...\n",
       "2328    5.8.15\\tAfficher le formulaire Contact\\nActeur...\n",
       "2329    Nom du champ\\t\\tType de champ\\tobligatoire\\tLi...\n",
       "2335    \\tNotes :\\nLe système affiche\\nLe numéro de t...\n",
       "2339                  5.10.1.a\\tNaviguer dans un parcours\n",
       "2342    \\tActions :\\nDéplacement du doigt de gauche à...\n",
       "2346    \\tNotes : le système affiche :\\nLa barre de p...\n",
       "2352    \\tNotes : le système affiche :\\nLe titre du p...\n",
       "2357    \\tNotes :\\nLa barre déléments saffiche si l...\n",
       "2363    \\tNotes :\\nle système affiche les information...\n",
       "2364    \\tActions :\\nAu touch du doigt (double contac...\n",
       "2369    \\tNotes :\\nLe système affiche les éléments su...\n",
       "2375    \\tNotes :\\nLe système affiche 2 menus déroula...\n",
       "2381    \\tNotes :\\nLe système affiche la liste des pa...\n",
       "Name: texte, Length: 750, dtype: object"
      ]
     },
     "execution_count": 22,
     "metadata": {},
     "output_type": "execute_result"
    }
   ],
   "source": [
    "data.texte[ClusterIndicesNumpy(1, model.labels_) ]"
   ]
  },
  {
   "cell_type": "code",
   "execution_count": 32,
   "metadata": {},
   "outputs": [
    {
     "data": {
      "text/plain": [
       "9       \\tNotes :\\nLe système affiche :\\nla langue sé...\n",
       "11      \\tRègles de gestion :\\nSi lutilisateur cliqu...\n",
       "35      \\tNotes :\\nLe menu est constitué des entrées ...\n",
       "37      \\tRègles de gestion :\\nSi lutilisateur navig...\n",
       "44      \\tRègles de gestion :\\nSi lutilisateur a sél...\n",
       "65      \\tRègles de gestion : Le footer ne saffiche ...\n",
       "84      \\tRègles de gestion :\\nIl nest pas possible ...\n",
       "89      \\tRègles de gestion :\\nLe nom du billet nest...\n",
       "109     \\tRègles de gestion :\\nSi un champ n'est pas ...\n",
       "116     \\tRègles de gestion :\\nSi un champ n'est pas ...\n",
       "119     Si lévénement a plusieurs créneaux, le crénea...\n",
       "140     \\tRègles de gestion :\\nLe contributeur peut s...\n",
       "147     \\tRègles de gestion :\\nLe champ Lien est un l...\n",
       "151     \\tRègles de gestion :\\nLes éléments suivants ...\n",
       "155     \\tRègles de gestion.\\nUn maximum de 4 entités...\n",
       "169     \\tRègles de gestion :\\nLimage doit respecter...\n",
       "173     \\tRègles de gestion :\\nPages associées : pour...\n",
       "180     \\tRègles de gestion :\\nCette page affiche aut...\n",
       "188     \\tRègles de gestion :\\nSi aucune page éditori...\n",
       "201     \\tRègles de gestion :\\nSil ny a pas dimage...\n",
       "205     \\tNotes :\\nLe système affiche les éléments su...\n",
       "207     \\tRègles de gestion :\\nLe bloc saffiche si l...\n",
       "220     \\tRègles de gestion :\\nSi la vidéo est lié à ...\n",
       "225     \\tRègles de gestion :\\nLe bloc twitter est af...\n",
       "234     \\tNotes :\\nle système affiche\\nLe titre de l...\n",
       "243     \\tRègles de gestion :\\nLe bloc saffiche si l...\n",
       "251     \\tRègles de gestion :\\nLe panier de notices s...\n",
       "258     \\tRègles de gestion :\\nLa flèche de navigatio...\n",
       "265     \\tActions :\\nAu clic sur licône Plus, le sys...\n",
       "266     \\tRègles de gestion :\\nLe bloc saffiche si l...\n",
       "                              ...                        \n",
       "2163    \\tRègles de gestion :\\nLe système affiche la/...\n",
       "2169    \\tRègles de gestion :\\nLa vidéo par défaut à ...\n",
       "2175    \\tRègles de gestion\\nUne catégorie saffiche ...\n",
       "2180    \\tRègles de gestion :\\nLe système affiche la/...\n",
       "2186    \\tRègles de gestion :\\nLe document audio par ...\n",
       "2192    \\tRègles de gestion :\\nLe système affiche les...\n",
       "2197    \\tRègles de gestion :\\nSi linternaute consul...\n",
       "2203    \\tRègles de gestion :\\nSi une valeur de lent...\n",
       "2209    \\tRègles de gestion :\\nUne catégorie saffich...\n",
       "2213    \\tActions :\\nAu clic sur le titre du document...\n",
       "2219    \\tRègles de gestion :\\nSi le document provien...\n",
       "2225    \\tRègles de gestion\\nDans une langue autre qu...\n",
       "2230    \\tRègles de gestion :\\nLe système affiche la/...\n",
       "2236    \\tRègles de gestion :\\nLa photo par défaut à ...\n",
       "2246    \\tRègles de gestion :\\nLannée la plus ancien...\n",
       "2252    \\tRègles de gestion\\nSi un champ n'est pas re...\n",
       "2256    \\tNotes :\\nPour chaque élément de presse, le ...\n",
       "2258    \\tRègles de gestion :\\nSi le sous-élément est...\n",
       "2264    \\tRègles de gestion\\nDans une langue autre qu...\n",
       "2270    \\tRègles de gestion\\nSi un champ n'est pas re...\n",
       "2274    \\tNotes :\\nPour chaque document Accessibilité...\n",
       "2280    \\tRègles de gestion\\nDans une langue autre qu...\n",
       "2286    \\tRègles de gestion\\nSi un champ n'est pas re...\n",
       "2290    \\tNotes :\\nPour chaque document Apprendre, le...\n",
       "2348    \\tRègles de gestion :\\nLa barre de progressio...\n",
       "2354    \\tRègles de gestion :\\nSi une valeur de lent...\n",
       "2359    \\tRègles de gestion :\\nLélément en cours de ...\n",
       "2365    \\tRègles de gestion\\nPar défaut, le visuel s...\n",
       "2371    \\tRègles de gestion\\nSi aucune valeur nest s...\n",
       "2377    \\tRègles de gestion :\\nA la sélection dune v...\n",
       "Name: texte, Length: 267, dtype: object"
      ]
     },
     "execution_count": 32,
     "metadata": {},
     "output_type": "execute_result"
    }
   ],
   "source": [
    "data.texte[ClusterIndicesNumpy(2, model.labels_) ]"
   ]
  },
  {
   "cell_type": "code",
   "execution_count": 23,
   "metadata": {},
   "outputs": [
    {
     "data": {
      "text/plain": [
       "2                          Acteur : Internaute\n",
       "7                          Acteur : Internaute\n",
       "13                         Acteur : Internaute\n",
       "17      Acteur : Administrateur / Contributeur\n",
       "21                         Acteur : Internaute\n",
       "27                         Acteur : Internaute\n",
       "33                         Acteur : Internaute\n",
       "39      Acteur : Administrateur / Contributeur\n",
       "42                         Acteur : Internaute\n",
       "46                         Acteur : Internaute\n",
       "51                         Acteur : Internaute\n",
       "57      Acteur : Contributeur / Administrateur\n",
       "61                         Acteur : Internaute\n",
       "67      Acteur : Administrateur / Contributeur\n",
       "71                         Acteur : Internaute\n",
       "77      Acteur : Contributeur / Administrateur\n",
       "81      Acteur : Administrateur / Contributeur\n",
       "86      Acteur : Administrateur / Contributeur\n",
       "94                         Acteur : Internaute\n",
       "99                         Acteur : Internaute\n",
       "105                        Acteur : Internaute\n",
       "111                        Acteur : Internaute\n",
       "121                        Acteur : Internaute\n",
       "125                        Acteur : Internaute\n",
       "130                        Acteur : Internaute\n",
       "137     Acteur : Administrateur / Contributeur\n",
       "142     Acteur : Administrateur / Contributeur\n",
       "153     Acteur : Administrateur / Contributeur\n",
       "163     Acteur : Contributeur / Administrateur\n",
       "166     Acteur : Administrateur / Contributeur\n",
       "                         ...                  \n",
       "2094                       Acteur : Internaute\n",
       "2122                       Acteur : Internaute\n",
       "2126                       Acteur : Internaute\n",
       "2131                       Acteur : Internaute\n",
       "2136                       Acteur : Internaute\n",
       "2142                       Acteur : Internaute\n",
       "2148                       Acteur : Internaute\n",
       "2165                       Acteur : Internaute\n",
       "2182                       Acteur : Internaute\n",
       "2199                       Acteur : Internaute\n",
       "2215                       Acteur : Internaute\n",
       "2232                       Acteur : Internaute\n",
       "2239                       Acteur : Internaute\n",
       "2248                       Acteur : Internaute\n",
       "2254                       Acteur : Internaute\n",
       "2266                       Acteur : Internaute\n",
       "2272                       Acteur : Internaute\n",
       "2282                       Acteur : Internaute\n",
       "2288                       Acteur : Internaute\n",
       "2302                       Acteur : Internaute\n",
       "2309                       Acteur : Internaute\n",
       "2332                       Acteur : Internaute\n",
       "2340                       Acteur : Internaute\n",
       "2344                       Acteur : Internaute\n",
       "2350                       Acteur : Internaute\n",
       "2355                       Acteur : Internaute\n",
       "2361                       Acteur : Internaute\n",
       "2367                       Acteur : Internaute\n",
       "2373                       Acteur : Internaute\n",
       "2379                       Acteur : Internaute\n",
       "Name: texte, Length: 299, dtype: object"
      ]
     },
     "execution_count": 23,
     "metadata": {},
     "output_type": "execute_result"
    }
   ],
   "source": [
    "data.texte[ClusterIndicesNumpy(3, model.labels_) ]"
   ]
  },
  {
   "cell_type": "code",
   "execution_count": 24,
   "metadata": {},
   "outputs": [
    {
     "data": {
      "text/plain": [
       "18      Cas dutilisation décrivant la contribution de...\n",
       "52      Cas dutilisation décrivant la consultation de...\n",
       "58      Cas dutilisation décrivant la contribution de...\n",
       "68      Cas dutilisation décrivant la contribution du...\n",
       "72      Cas dutilisation décrivant la consultation du...\n",
       "78      Cas dutilisation décrivant la contribution du...\n",
       "82      Cas dutilisation décrivant la contribution po...\n",
       "92      Voir aussi le cas dutilisation Contribuer la ...\n",
       "95      Cas dutilisation décrivant le fonctionnement ...\n",
       "100     Cas dutilisation décrivant la consultation d...\n",
       "126     Cas dutilisation décrivant la consultation de...\n",
       "143     Cas dutilisation décrivant la contribution du...\n",
       "154     Cas dutilisation décrivant la contribution du...\n",
       "164     Cas dutilisation décrivant la contribution de...\n",
       "177     Cas dutilisation décrivant la consultation d...\n",
       "185     Cas dutilisation décrivant la consultation d...\n",
       "190     Voir aussi le cas dutilisation Contribuer une...\n",
       "193     Cas dutilisation décrivant la consultation d...\n",
       "195     Le système affiche les informations suivantes ...\n",
       "198     Cas dutilisation décrivant la consultation du...\n",
       "204     Cas dutilisation décrivant la consultation d...\n",
       "210     Cas dutilisation décrivant la consultation d...\n",
       "213     Cas dutilisation décrivant la consultation d...\n",
       "217     Cas dutilisation décrivant la consultation d...\n",
       "223     Cas dutilisation décrivant la consultation d...\n",
       "228     Cas dutilisation décrivant la consultation d...\n",
       "233     Cas dutilisation décrivant la consultation d...\n",
       "238     Cas dutilisation décrivant la consultation du...\n",
       "246     Cas dutilisation décrivant la consultation du...\n",
       "254     Cas dutilisation décrivant la consultation d...\n",
       "                              ...                        \n",
       "2177    Cas dutilisation décrivant la consultation de...\n",
       "2183    Cas dutilisation décrivant la consultation du...\n",
       "2189    Cas dutilisation décrivant la consultation du...\n",
       "2194    Cas dutilisation décrivant la consultation de...\n",
       "2200    Cas dutilisation décrivant la consultation de...\n",
       "2206    Cas dutilisation décrivant la consultation du...\n",
       "2211    Cas dutilisation décrivant la consultation de...\n",
       "2216    Cas dutilisation décrivant la consultation de...\n",
       "2222    Cas dutilisation décrivant la consultation du...\n",
       "2227    Cas dutilisation décrivant la consultation de...\n",
       "2233    Cas dutilisation décrivant la consultation du...\n",
       "2240    Cas dutilisation décrivant la consultation de...\n",
       "2243    Cas dutilisation décrivant la consultation du...\n",
       "2249    Cas dutilisation décrivant la consultation de...\n",
       "2255    Cas dutilisation décrivant la consultation d...\n",
       "2261    Cas dutilisation décrivant la consultation du...\n",
       "2267    Cas dutilisation décrivant la consultation de...\n",
       "2273    Cas dutilisation décrivant la consultation d...\n",
       "2277    Cas dutilisation décrivant la consultation du...\n",
       "2283    Cas dutilisation décrivant la consultation de...\n",
       "2289    Cas dutilisation décrivant la consultation d...\n",
       "2333    Cas dutilisation décrivant la consultation de...\n",
       "2341    Cas dutilisation décrivant la navigation dans...\n",
       "2345    Cas dutilisation décrivant la consultation de...\n",
       "2351    Cas dutilisation décrivant la consultation de...\n",
       "2356    Cas dutilisation décrivant la consultation de...\n",
       "2362    Cas dutilisation décrivant la consultation d...\n",
       "2368    Cas dutilisation décrivant la consultation de...\n",
       "2374    Cas dutilisation décrivant la consultation du...\n",
       "2380    Cas dutilisation décrivant la consultation de...\n",
       "Name: texte, Length: 309, dtype: object"
      ]
     },
     "execution_count": 24,
     "metadata": {},
     "output_type": "execute_result"
    }
   ],
   "source": [
    "data.texte[ClusterIndicesNumpy(4, model.labels_) ]"
   ]
  },
  {
   "cell_type": "markdown",
   "metadata": {},
   "source": [
    "### Constat:\n",
    "* Les acteurs sont classés dans le groupe 3\n",
    "* Les use cases sont classés dans le groupe 0\n",
    "* Les textes, actions et gestions sont classés dans les groupes 1 et 2"
   ]
  },
  {
   "cell_type": "markdown",
   "metadata": {},
   "source": [
    "##### Pour deux user stories pris dans une matrice de couverture, vérifions à quelle classe appartient chacune"
   ]
  },
  {
   "cell_type": "code",
   "execution_count": 25,
   "metadata": {},
   "outputs": [
    {
     "name": "stdout",
     "output_type": "stream",
     "text": [
      "[1]\n"
     ]
    }
   ],
   "source": [
    "Y = vec.transform([\"L’utilisateur peut créer un lien de niveau 1\"])\n",
    "prediction = model.predict(Y)\n",
    "print(prediction)"
   ]
  },
  {
   "cell_type": "code",
   "execution_count": 26,
   "metadata": {},
   "outputs": [
    {
     "name": "stdout",
     "output_type": "stream",
     "text": [
      "[0]\n"
     ]
    }
   ],
   "source": [
    "Y = vec.transform([\"Pour ajouter une notice dans un panier, l’utilisateur sélectionne dispose de 2 filtres de recherche :\"])\n",
    "prediction = model.predict(Y)\n",
    "print(prediction)"
   ]
  },
  {
   "cell_type": "markdown",
   "metadata": {},
   "source": [
    "#### Nous pouvons constater que ces deux user stories sont classés dans deux groupes différents"
   ]
  },
  {
   "cell_type": "markdown",
   "metadata": {},
   "source": [
    "##### Nous constatons que les deux user stories appartiennent à deux classes différentes"
   ]
  },
  {
   "cell_type": "code",
   "execution_count": 27,
   "metadata": {},
   "outputs": [
    {
     "data": {
      "text/plain": [
       "array([0, 0, 3, ..., 3, 4, 1])"
      ]
     },
     "execution_count": 27,
     "metadata": {},
     "output_type": "execute_result"
    }
   ],
   "source": [
    "model.labels_"
   ]
  },
  {
   "cell_type": "markdown",
   "metadata": {},
   "source": [
    "## Evaluation du Modèle"
   ]
  },
  {
   "cell_type": "markdown",
   "metadata": {},
   "source": [
    "### silhouette_score est une métrique qui varie entre -1 et 1 (du pire des cas au meilleur cas"
   ]
  },
  {
   "cell_type": "code",
   "execution_count": 28,
   "metadata": {},
   "outputs": [
    {
     "data": {
      "text/plain": [
       "0.11694020040498365"
      ]
     },
     "execution_count": 28,
     "metadata": {},
     "output_type": "execute_result"
    }
   ],
   "source": [
    "from sklearn.metrics import silhouette_score\n",
    "silhouette_score(features, labels=model.predict(features))"
   ]
  },
  {
   "cell_type": "markdown",
   "metadata": {},
   "source": [
    "###### La valeur 0.11 comme score signifie un chevauchement entre les différentes classes. Nous pouvons le visualiser dans un espace 2D"
   ]
  },
  {
   "cell_type": "code",
   "execution_count": 29,
   "metadata": {},
   "outputs": [],
   "source": [
    "# reduce the features to 2D\n",
    "pca = PCA(n_components=2, random_state=random_state)\n",
    "reduced_features = pca.fit_transform(features.toarray())\n",
    "\n",
    "# reduce the cluster centers to 2D\n",
    "reduced_cluster_centers = pca.transform(model.cluster_centers_)"
   ]
  },
  {
   "cell_type": "code",
   "execution_count": 30,
   "metadata": {},
   "outputs": [
    {
     "data": {
      "text/plain": [
       "<matplotlib.collections.PathCollection at 0x1f5f20172b0>"
      ]
     },
     "execution_count": 30,
     "metadata": {},
     "output_type": "execute_result"
    },
    {
     "data": {
      "image/png": "[encoded data removed]",
      "text/plain": [
       "<Figure size 432x288 with 1 Axes>"
      ]
     },
     "metadata": {
      "needs_background": "light"
     },
     "output_type": "display_data"
    }
   ],
   "source": [
    "plt.scatter(reduced_features[:,0], reduced_features[:,1], c=model.predict(features))\n",
    "plt.scatter(reduced_cluster_centers[:, 0], reduced_cluster_centers[:,1], marker='x', s=150, c='b')"
   ]
  },
  {
   "cell_type": "code",
   "execution_count": 31,
   "metadata": {},
   "outputs": [
    {
     "data": {
      "image/png": "[encoded data removed]",
      "text/plain": [
       "<Figure size 432x288 with 1 Axes>"
      ]
     },
     "metadata": {
      "needs_background": "light"
     },
     "output_type": "display_data"
    }
   ],
   "source": [
    "#ACP\n",
    "from sklearn.decomposition import PCA\n",
    "acp = PCA(n_components=2).fit_transform(features.toarray())\n",
    "\n",
    "plt.scatter(acp[:,0], acp[:,1], c=model.predict(features))\n",
    "acp_cluster_centers = pca.transform(model.cluster_centers_)\n",
    "for couleur,k in zip(['purple','turquoise','green','pink','yellow'],[0,1,2,3,4]):\n",
    "    plt.scatter(acp[model.labels_==k,0],acp[model.labels_==k,1],s=150,c=couleur)\n",
    "    plt.scatter(acp_cluster_centers[:, 0], acp_cluster_centers[:,1], marker='x', s=150, c='red')\n",
    "plt.show() "
   ]
  },
  {
   "cell_type": "markdown",
   "metadata": {},
   "source": [
    "## Correspondance entre cluster et couleur\n",
    "* Les croix rouges correspondent aux centroïdes de chaque cluster\n",
    "* Le cluster 0 correspond au Violet\n",
    "* Le cluster 1 correspond au Bleu turquoise\n",
    "* Le cluster 2 correspond au Vert\n",
    "* Le cluster 3 correspond au rose\n",
    "* Le cluster 4 correspond au Jaune"
   ]
  },
  {
   "cell_type": "code",
   "execution_count": 33,
   "metadata": {},
   "outputs": [
    {
     "data": {
      "text/html": [
       "<div>\n",
       "<style scoped>\n",
       "    .dataframe tbody tr th:only-of-type {\n",
       "        vertical-align: middle;\n",
       "    }\n",
       "\n",
       "    .dataframe tbody tr th {\n",
       "        vertical-align: top;\n",
       "    }\n",
       "\n",
       "    .dataframe thead th {\n",
       "        text-align: right;\n",
       "    }\n",
       "</style>\n",
       "<table border=\"1\" class=\"dataframe\">\n",
       "  <thead>\n",
       "    <tr style=\"text-align: right;\">\n",
       "      <th></th>\n",
       "      <th>texte</th>\n",
       "    </tr>\n",
       "  </thead>\n",
       "  <tbody>\n",
       "    <tr>\n",
       "      <th>0</th>\n",
       "      <td>4.\\tVersion Desktop - liste des cas d'utilisat...</td>\n",
       "    </tr>\n",
       "    <tr>\n",
       "      <th>1</th>\n",
       "      <td>4.1.1\\tCU001-001 Afficher le header</td>\n",
       "    </tr>\n",
       "    <tr>\n",
       "      <th>3</th>\n",
       "      <td>Cas dutilisation permettant à un internaute  ...</td>\n",
       "    </tr>\n",
       "    <tr>\n",
       "      <th>4</th>\n",
       "      <td>\\tNotes :\\nLe système affiche les éléments su...</td>\n",
       "    </tr>\n",
       "    <tr>\n",
       "      <th>5</th>\n",
       "      <td>\\tActions :\\nSi lutilisateur clique\\nsur le ...</td>\n",
       "    </tr>\n",
       "    <tr>\n",
       "      <th>6</th>\n",
       "      <td>4.1.2\\tCU001-002 Afficher le bouton de langue</td>\n",
       "    </tr>\n",
       "    <tr>\n",
       "      <th>8</th>\n",
       "      <td>Cas dutilisation permettant à un internaute  ...</td>\n",
       "    </tr>\n",
       "    <tr>\n",
       "      <th>10</th>\n",
       "      <td>\\tActions :\\nAu clic sur la langue sélectionn...</td>\n",
       "    </tr>\n",
       "    <tr>\n",
       "      <th>12</th>\n",
       "      <td>4.1.3\\tCU001-0021 Afficher la page Langue</td>\n",
       "    </tr>\n",
       "    <tr>\n",
       "      <th>14</th>\n",
       "      <td>Cas dutilisation permettant à un internaute  ...</td>\n",
       "    </tr>\n",
       "    <tr>\n",
       "      <th>16</th>\n",
       "      <td>4.1.4\\tCU001-0022 Contribuer la page langue</td>\n",
       "    </tr>\n",
       "    <tr>\n",
       "      <th>20</th>\n",
       "      <td>4.1.5\\tCU001-003 Afficher le fil dariane</td>\n",
       "    </tr>\n",
       "    <tr>\n",
       "      <th>22</th>\n",
       "      <td>Cas dutilisation permettant à un internaute  ...</td>\n",
       "    </tr>\n",
       "    <tr>\n",
       "      <th>24</th>\n",
       "      <td>Le fil dariane est composé dun lien vers la ...</td>\n",
       "    </tr>\n",
       "    <tr>\n",
       "      <th>25</th>\n",
       "      <td>\\tRègles de gestion\\nLe fil dariane ne saff...</td>\n",
       "    </tr>\n",
       "    <tr>\n",
       "      <th>26</th>\n",
       "      <td>4.1.6\\tCU001-004 Afficher le bouton de partage</td>\n",
       "    </tr>\n",
       "    <tr>\n",
       "      <th>28</th>\n",
       "      <td>Cas dutilisation permettant à un internaute  ...</td>\n",
       "    </tr>\n",
       "    <tr>\n",
       "      <th>30</th>\n",
       "      <td>\\tActions :\\nAu clic sur le bouton de partage...</td>\n",
       "    </tr>\n",
       "    <tr>\n",
       "      <th>31</th>\n",
       "      <td>\\tRègles de gestion\\nDepuis une page éditoria...</td>\n",
       "    </tr>\n",
       "    <tr>\n",
       "      <th>32</th>\n",
       "      <td>4.1.7\\tCU001-005 Afficher le menu de navigation</td>\n",
       "    </tr>\n",
       "    <tr>\n",
       "      <th>34</th>\n",
       "      <td>Cas dutilisation permettant à un internaute  ...</td>\n",
       "    </tr>\n",
       "    <tr>\n",
       "      <th>36</th>\n",
       "      <td>\\tActions :\\nAu clic sur lune des entrées de...</td>\n",
       "    </tr>\n",
       "    <tr>\n",
       "      <th>38</th>\n",
       "      <td>4.1.8\\tCU001-006 Modifier le menu de navigation</td>\n",
       "    </tr>\n",
       "    <tr>\n",
       "      <th>41</th>\n",
       "      <td>4.1.9\\tCU001-007 Afficher du contenu dans une ...</td>\n",
       "    </tr>\n",
       "    <tr>\n",
       "      <th>43</th>\n",
       "      <td>Cas dutilisation permettant à un internaute  ...</td>\n",
       "    </tr>\n",
       "    <tr>\n",
       "      <th>47</th>\n",
       "      <td>Cas dutilisation permettant à un internaute  ...</td>\n",
       "    </tr>\n",
       "    <tr>\n",
       "      <th>48</th>\n",
       "      <td>\\tNotes :\\nLutilisateur peut traduire toutes...</td>\n",
       "    </tr>\n",
       "    <tr>\n",
       "      <th>49</th>\n",
       "      <td>\\tNotes :\\nLutilisateur peut traduire une pa...</td>\n",
       "    </tr>\n",
       "    <tr>\n",
       "      <th>50</th>\n",
       "      <td>4.1.11\\tCU001-009 Afficher la télécommande</td>\n",
       "    </tr>\n",
       "    <tr>\n",
       "      <th>54</th>\n",
       "      <td>\\tActions :\\nAu clic sur chaque élément, une ...</td>\n",
       "    </tr>\n",
       "    <tr>\n",
       "      <th>...</th>\n",
       "      <td>...</td>\n",
       "    </tr>\n",
       "    <tr>\n",
       "      <th>2260</th>\n",
       "      <td>5.8.8.a\\tCU009-502 Afficher le filtre</td>\n",
       "    </tr>\n",
       "    <tr>\n",
       "      <th>2263</th>\n",
       "      <td>\\tActions :\\nA la sélection dune valeur dans...</td>\n",
       "    </tr>\n",
       "    <tr>\n",
       "      <th>2265</th>\n",
       "      <td>5.8.8.b\\tCU009-503 Afficher la liste de docume...</td>\n",
       "    </tr>\n",
       "    <tr>\n",
       "      <th>2269</th>\n",
       "      <td>\\tActions :\\nAu clic sur le titre dun élémen...</td>\n",
       "    </tr>\n",
       "    <tr>\n",
       "      <th>2271</th>\n",
       "      <td>5.8.8.c\\tCU009-504 Afficher le document Access...</td>\n",
       "    </tr>\n",
       "    <tr>\n",
       "      <th>2275</th>\n",
       "      <td>\\tActions :\\nAu clic sur le bouton Retour, le...</td>\n",
       "    </tr>\n",
       "    <tr>\n",
       "      <th>2276</th>\n",
       "      <td>5.8.9\\tAfficher les documents Apprendre\\n5.8.9...</td>\n",
       "    </tr>\n",
       "    <tr>\n",
       "      <th>2279</th>\n",
       "      <td>\\tActions :\\nA la sélection dune valeur dans...</td>\n",
       "    </tr>\n",
       "    <tr>\n",
       "      <th>2281</th>\n",
       "      <td>5.8.9.b\\tCU009-603 Afficher la liste de docume...</td>\n",
       "    </tr>\n",
       "    <tr>\n",
       "      <th>2285</th>\n",
       "      <td>\\tActions :\\nAu clic sur le titre dun élémen...</td>\n",
       "    </tr>\n",
       "    <tr>\n",
       "      <th>2287</th>\n",
       "      <td>5.8.9.c\\tCU009-604 Afficher le document Appren...</td>\n",
       "    </tr>\n",
       "    <tr>\n",
       "      <th>2291</th>\n",
       "      <td>\\tActions :\\nAu clic sur le document à téléch...</td>\n",
       "    </tr>\n",
       "    <tr>\n",
       "      <th>2327</th>\n",
       "      <td>\\tActions :\\nAu clic sur le bouton Retour, le...</td>\n",
       "    </tr>\n",
       "    <tr>\n",
       "      <th>2330</th>\n",
       "      <td>5.9\\tBilletterie [LOT 1]</td>\n",
       "    </tr>\n",
       "    <tr>\n",
       "      <th>2331</th>\n",
       "      <td>5.9.1\\tCU108  001 Afficher les informations d...</td>\n",
       "    </tr>\n",
       "    <tr>\n",
       "      <th>2334</th>\n",
       "      <td>Lutilisateur visualise ce bloc après avoir cl...</td>\n",
       "    </tr>\n",
       "    <tr>\n",
       "      <th>2336</th>\n",
       "      <td>\\tActions :\\nAu clic sur un des billets, lut...</td>\n",
       "    </tr>\n",
       "    <tr>\n",
       "      <th>2337</th>\n",
       "      <td>5.10\\tParcours [LOT 6]</td>\n",
       "    </tr>\n",
       "    <tr>\n",
       "      <th>2338</th>\n",
       "      <td>5.10.1\\tAfficher un parcours\\nLe parcours est ...</td>\n",
       "    </tr>\n",
       "    <tr>\n",
       "      <th>2343</th>\n",
       "      <td>5.10.1.b\\tAfficher la barre doutils</td>\n",
       "    </tr>\n",
       "    <tr>\n",
       "      <th>2347</th>\n",
       "      <td>\\tActions :\\nAu clic sur le bouton Etoile, le...</td>\n",
       "    </tr>\n",
       "    <tr>\n",
       "      <th>2349</th>\n",
       "      <td>5.10.1.c\\tAfficher la page de démarrage</td>\n",
       "    </tr>\n",
       "    <tr>\n",
       "      <th>2353</th>\n",
       "      <td>\\tActions :\\nAu clic sur le bouton Commencer,...</td>\n",
       "    </tr>\n",
       "    <tr>\n",
       "      <th>2358</th>\n",
       "      <td>\\tActions :\\nAu clic sur un élément du parcou...</td>\n",
       "    </tr>\n",
       "    <tr>\n",
       "      <th>2360</th>\n",
       "      <td>5.10.1.e\\tAfficher les éléments dun parcours</td>\n",
       "    </tr>\n",
       "    <tr>\n",
       "      <th>2366</th>\n",
       "      <td>5.10.1.f\\tAfficher la page de fin</td>\n",
       "    </tr>\n",
       "    <tr>\n",
       "      <th>2370</th>\n",
       "      <td>\\tActions :\\nAu clic sur le bouton Recommence...</td>\n",
       "    </tr>\n",
       "    <tr>\n",
       "      <th>2372</th>\n",
       "      <td>5.10.2\\tAfficher tous les parcours\\n5.10.2.a\\t...</td>\n",
       "    </tr>\n",
       "    <tr>\n",
       "      <th>2376</th>\n",
       "      <td>\\tActions :\\nA la sélection dune valeur dans...</td>\n",
       "    </tr>\n",
       "    <tr>\n",
       "      <th>2378</th>\n",
       "      <td>5.10.2.b\\tAfficher la liste des parcours</td>\n",
       "    </tr>\n",
       "  </tbody>\n",
       "</table>\n",
       "<p>757 rows × 1 columns</p>\n",
       "</div>"
      ],
      "text/plain": [
       "                                                  texte\n",
       "0     4.\\tVersion Desktop - liste des cas d'utilisat...\n",
       "1                   4.1.1\\tCU001-001 Afficher le header\n",
       "3     Cas dutilisation permettant à un internaute  ...\n",
       "4     \\tNotes :\\nLe système affiche les éléments su...\n",
       "5     \\tActions :\\nSi lutilisateur clique\\nsur le ...\n",
       "6         4.1.2\\tCU001-002 Afficher le bouton de langue\n",
       "8     Cas dutilisation permettant à un internaute  ...\n",
       "10    \\tActions :\\nAu clic sur la langue sélectionn...\n",
       "12            4.1.3\\tCU001-0021 Afficher la page Langue\n",
       "14    Cas dutilisation permettant à un internaute  ...\n",
       "16          4.1.4\\tCU001-0022 Contribuer la page langue\n",
       "20            4.1.5\\tCU001-003 Afficher le fil dariane\n",
       "22    Cas dutilisation permettant à un internaute  ...\n",
       "24    Le fil dariane est composé dun lien vers la ...\n",
       "25    \\tRègles de gestion\\nLe fil dariane ne saff...\n",
       "26       4.1.6\\tCU001-004 Afficher le bouton de partage\n",
       "28    Cas dutilisation permettant à un internaute  ...\n",
       "30    \\tActions :\\nAu clic sur le bouton de partage...\n",
       "31    \\tRègles de gestion\\nDepuis une page éditoria...\n",
       "32      4.1.7\\tCU001-005 Afficher le menu de navigation\n",
       "34    Cas dutilisation permettant à un internaute  ...\n",
       "36    \\tActions :\\nAu clic sur lune des entrées de...\n",
       "38      4.1.8\\tCU001-006 Modifier le menu de navigation\n",
       "41    4.1.9\\tCU001-007 Afficher du contenu dans une ...\n",
       "43    Cas dutilisation permettant à un internaute  ...\n",
       "47    Cas dutilisation permettant à un internaute  ...\n",
       "48    \\tNotes :\\nLutilisateur peut traduire toutes...\n",
       "49    \\tNotes :\\nLutilisateur peut traduire une pa...\n",
       "50           4.1.11\\tCU001-009 Afficher la télécommande\n",
       "54    \\tActions :\\nAu clic sur chaque élément, une ...\n",
       "...                                                 ...\n",
       "2260              5.8.8.a\\tCU009-502 Afficher le filtre\n",
       "2263  \\tActions :\\nA la sélection dune valeur dans...\n",
       "2265  5.8.8.b\\tCU009-503 Afficher la liste de docume...\n",
       "2269  \\tActions :\\nAu clic sur le titre dun élémen...\n",
       "2271  5.8.8.c\\tCU009-504 Afficher le document Access...\n",
       "2275  \\tActions :\\nAu clic sur le bouton Retour, le...\n",
       "2276  5.8.9\\tAfficher les documents Apprendre\\n5.8.9...\n",
       "2279  \\tActions :\\nA la sélection dune valeur dans...\n",
       "2281  5.8.9.b\\tCU009-603 Afficher la liste de docume...\n",
       "2285  \\tActions :\\nAu clic sur le titre dun élémen...\n",
       "2287  5.8.9.c\\tCU009-604 Afficher le document Appren...\n",
       "2291  \\tActions :\\nAu clic sur le document à téléch...\n",
       "2327  \\tActions :\\nAu clic sur le bouton Retour, le...\n",
       "2330                           5.9\\tBilletterie [LOT 1]\n",
       "2331  5.9.1\\tCU108  001 Afficher les informations d...\n",
       "2334  Lutilisateur visualise ce bloc après avoir cl...\n",
       "2336  \\tActions :\\nAu clic sur un des billets, lut...\n",
       "2337                             5.10\\tParcours [LOT 6]\n",
       "2338  5.10.1\\tAfficher un parcours\\nLe parcours est ...\n",
       "2343               5.10.1.b\\tAfficher la barre doutils\n",
       "2347  \\tActions :\\nAu clic sur le bouton Etoile, le...\n",
       "2349            5.10.1.c\\tAfficher la page de démarrage\n",
       "2353  \\tActions :\\nAu clic sur le bouton Commencer,...\n",
       "2358  \\tActions :\\nAu clic sur un élément du parcou...\n",
       "2360      5.10.1.e\\tAfficher les éléments dun parcours\n",
       "2366                  5.10.1.f\\tAfficher la page de fin\n",
       "2370  \\tActions :\\nAu clic sur le bouton Recommence...\n",
       "2372  5.10.2\\tAfficher tous les parcours\\n5.10.2.a\\t...\n",
       "2376  \\tActions :\\nA la sélection dune valeur dans...\n",
       "2378           5.10.2.b\\tAfficher la liste des parcours\n",
       "\n",
       "[757 rows x 1 columns]"
      ]
     },
     "execution_count": 33,
     "metadata": {},
     "output_type": "execute_result"
    }
   ],
   "source": [
    "data0 = pd.DataFrame(columns=['texte'])\n",
    "data0['texte'] = data.texte[ClusterIndicesNumpy(0, model.labels_) ]\n",
    "data0"
   ]
  },
  {
   "cell_type": "code",
   "execution_count": 34,
   "metadata": {},
   "outputs": [
    {
     "data": {
      "text/html": [
       "<div>\n",
       "<style scoped>\n",
       "    .dataframe tbody tr th:only-of-type {\n",
       "        vertical-align: middle;\n",
       "    }\n",
       "\n",
       "    .dataframe tbody tr th {\n",
       "        vertical-align: top;\n",
       "    }\n",
       "\n",
       "    .dataframe thead th {\n",
       "        text-align: right;\n",
       "    }\n",
       "</style>\n",
       "<table border=\"1\" class=\"dataframe\">\n",
       "  <thead>\n",
       "    <tr style=\"text-align: right;\">\n",
       "      <th></th>\n",
       "      <th>texte</th>\n",
       "    </tr>\n",
       "  </thead>\n",
       "  <tbody>\n",
       "    <tr>\n",
       "      <th>15</th>\n",
       "      <td>\\tNotes :\\nLe système affiche pour chaque lan...</td>\n",
       "    </tr>\n",
       "    <tr>\n",
       "      <th>19</th>\n",
       "      <td>Nom du champ\\t\\tType de champ\\tobligatoire\\tCo...</td>\n",
       "    </tr>\n",
       "    <tr>\n",
       "      <th>23</th>\n",
       "      <td>Un fil dAriane est présent sur toutes les pag...</td>\n",
       "    </tr>\n",
       "    <tr>\n",
       "      <th>29</th>\n",
       "      <td>\\tNotes :\\nLa page en cours de consultation e...</td>\n",
       "    </tr>\n",
       "    <tr>\n",
       "      <th>40</th>\n",
       "      <td>\\tNotes :\\nLutilisateur peut créer un lien d...</td>\n",
       "    </tr>\n",
       "    <tr>\n",
       "      <th>45</th>\n",
       "      <td>4.1.10\\tCU001-008 Contribuer du contenu dans u...</td>\n",
       "    </tr>\n",
       "    <tr>\n",
       "      <th>53</th>\n",
       "      <td>\\tNotes :\\nLe système affiche les 5 accès rap...</td>\n",
       "    </tr>\n",
       "    <tr>\n",
       "      <th>59</th>\n",
       "      <td>Lutilisateur peut modifier lordre daffichag...</td>\n",
       "    </tr>\n",
       "    <tr>\n",
       "      <th>69</th>\n",
       "      <td>\\tNotes :\\nLutilisateur peut créer un lien d...</td>\n",
       "    </tr>\n",
       "    <tr>\n",
       "      <th>73</th>\n",
       "      <td>\\tNotes :\\nCe bloc est visible sur toutes les...</td>\n",
       "    </tr>\n",
       "    <tr>\n",
       "      <th>75</th>\n",
       "      <td>\\tRègles de gestion\\nUn événement saffiche d...</td>\n",
       "    </tr>\n",
       "    <tr>\n",
       "      <th>79</th>\n",
       "      <td>Nom du champ\\t\\tType de champ\\tobligatoire\\tCo...</td>\n",
       "    </tr>\n",
       "    <tr>\n",
       "      <th>80</th>\n",
       "      <td>4.1.17\\tCU001-015 Contribuer un type de public</td>\n",
       "    </tr>\n",
       "    <tr>\n",
       "      <th>83</th>\n",
       "      <td>Nom du champ\\t\\tType de champ\\tobligatoire\\tCo...</td>\n",
       "    </tr>\n",
       "    <tr>\n",
       "      <th>85</th>\n",
       "      <td>4.1.18\\tCU001-016 Contribuer un type de billet...</td>\n",
       "    </tr>\n",
       "    <tr>\n",
       "      <th>87</th>\n",
       "      <td>Cas dutilisation décrivant la contribution po...</td>\n",
       "    </tr>\n",
       "    <tr>\n",
       "      <th>88</th>\n",
       "      <td>Nom du champ\\t\\tType de champ\\tobligatoire\\tCo...</td>\n",
       "    </tr>\n",
       "    <tr>\n",
       "      <th>101</th>\n",
       "      <td>\\tNotes :\\nCette barre est visible seulement ...</td>\n",
       "    </tr>\n",
       "    <tr>\n",
       "      <th>103</th>\n",
       "      <td>\\tRègles de gestion :\\nSil ny a pas dentit...</td>\n",
       "    </tr>\n",
       "    <tr>\n",
       "      <th>107</th>\n",
       "      <td>\\tNotes :\\nLe système affiche dans lordre su...</td>\n",
       "    </tr>\n",
       "    <tr>\n",
       "      <th>114</th>\n",
       "      <td>\\tNotes :\\nLe système affiche les entités Car...</td>\n",
       "    </tr>\n",
       "    <tr>\n",
       "      <th>117</th>\n",
       "      <td>Champ sélectionné en Back-office\\trègles daff...</td>\n",
       "    </tr>\n",
       "    <tr>\n",
       "      <th>118</th>\n",
       "      <td>Date de début\\nDate de fin\\tDu [date début] au...</td>\n",
       "    </tr>\n",
       "    <tr>\n",
       "      <th>127</th>\n",
       "      <td>\\tNotes :\\nLe système affiche les entités par...</td>\n",
       "    </tr>\n",
       "    <tr>\n",
       "      <th>132</th>\n",
       "      <td>\\tNotes :\\nLe système affiche :\\nles onglets ...</td>\n",
       "    </tr>\n",
       "    <tr>\n",
       "      <th>134</th>\n",
       "      <td>\\tRègles de gestion :\\nOnglet\\nSil nexiste ...</td>\n",
       "    </tr>\n",
       "    <tr>\n",
       "      <th>136</th>\n",
       "      <td>4.2.2.a\\tCU002-008 Contribuer la barre dinfor...</td>\n",
       "    </tr>\n",
       "    <tr>\n",
       "      <th>138</th>\n",
       "      <td>Cas dutilisation décrivant lajout dune info...</td>\n",
       "    </tr>\n",
       "    <tr>\n",
       "      <th>139</th>\n",
       "      <td>Nom du champ\\t\\tType de champ\\tobligatoire\\tCo...</td>\n",
       "    </tr>\n",
       "    <tr>\n",
       "      <th>145</th>\n",
       "      <td>Les champs propres à la vidéo :</td>\n",
       "    </tr>\n",
       "    <tr>\n",
       "      <th>...</th>\n",
       "      <td>...</td>\n",
       "    </tr>\n",
       "    <tr>\n",
       "      <th>2310</th>\n",
       "      <td>Cas dutilisation décrivant la consultation du...</td>\n",
       "    </tr>\n",
       "    <tr>\n",
       "      <th>2311</th>\n",
       "      <td>Libellé de regroupement\\tSous libellé\\tNom du ...</td>\n",
       "    </tr>\n",
       "    <tr>\n",
       "      <th>2312</th>\n",
       "      <td>Civilité\\nListe déroulante\\tOUI\\t\\tSélectionne...</td>\n",
       "    </tr>\n",
       "    <tr>\n",
       "      <th>2313</th>\n",
       "      <td>Adresse professionnelle\\nEtablissement\\tChamp ...</td>\n",
       "    </tr>\n",
       "    <tr>\n",
       "      <th>2314</th>\n",
       "      <td>\\tRègles de gestion :\\nLe champ courriel doit...</td>\n",
       "    </tr>\n",
       "    <tr>\n",
       "      <th>2315</th>\n",
       "      <td>5.8.13\\tAfficher le formulaire Vernissage\\nAct...</td>\n",
       "    </tr>\n",
       "    <tr>\n",
       "      <th>2316</th>\n",
       "      <td>Libellé de regroupement\\tSous libellé\\tNom du ...</td>\n",
       "    </tr>\n",
       "    <tr>\n",
       "      <th>2317</th>\n",
       "      <td>Civilité\\nListe déroulante\\tOUI\\t\\tSélectionne...</td>\n",
       "    </tr>\n",
       "    <tr>\n",
       "      <th>2318</th>\n",
       "      <td>\\tRègles de gestion :\\nLe champ courriel doit...</td>\n",
       "    </tr>\n",
       "    <tr>\n",
       "      <th>2319</th>\n",
       "      <td>Texte juridique présent au dessous du formulai...</td>\n",
       "    </tr>\n",
       "    <tr>\n",
       "      <th>2320</th>\n",
       "      <td>5.8.14\\tAfficher le formulaire de demande de P...</td>\n",
       "    </tr>\n",
       "    <tr>\n",
       "      <th>2321</th>\n",
       "      <td>5.\\tAffichage du formulaire</td>\n",
       "    </tr>\n",
       "    <tr>\n",
       "      <th>2322</th>\n",
       "      <td>Libellé de regroupement\\tSous libellé\\tNom du ...</td>\n",
       "    </tr>\n",
       "    <tr>\n",
       "      <th>2323</th>\n",
       "      <td>\\tNotes :\\nLe système affiche le contenu du c...</td>\n",
       "    </tr>\n",
       "    <tr>\n",
       "      <th>2324</th>\n",
       "      <td>Le système affiche le contenu du champ contenu...</td>\n",
       "    </tr>\n",
       "    <tr>\n",
       "      <th>2325</th>\n",
       "      <td>\\tRègles de gestion :\\nLe champ date de naiss...</td>\n",
       "    </tr>\n",
       "    <tr>\n",
       "      <th>2326</th>\n",
       "      <td>\\tNotes :\\nLe système liste affiche\\nun texte...</td>\n",
       "    </tr>\n",
       "    <tr>\n",
       "      <th>2328</th>\n",
       "      <td>5.8.15\\tAfficher le formulaire Contact\\nActeur...</td>\n",
       "    </tr>\n",
       "    <tr>\n",
       "      <th>2329</th>\n",
       "      <td>Nom du champ\\t\\tType de champ\\tobligatoire\\tLi...</td>\n",
       "    </tr>\n",
       "    <tr>\n",
       "      <th>2335</th>\n",
       "      <td>\\tNotes :\\nLe système affiche\\nLe numéro de t...</td>\n",
       "    </tr>\n",
       "    <tr>\n",
       "      <th>2339</th>\n",
       "      <td>5.10.1.a\\tNaviguer dans un parcours</td>\n",
       "    </tr>\n",
       "    <tr>\n",
       "      <th>2342</th>\n",
       "      <td>\\tActions :\\nDéplacement du doigt de gauche à...</td>\n",
       "    </tr>\n",
       "    <tr>\n",
       "      <th>2346</th>\n",
       "      <td>\\tNotes : le système affiche :\\nLa barre de p...</td>\n",
       "    </tr>\n",
       "    <tr>\n",
       "      <th>2352</th>\n",
       "      <td>\\tNotes : le système affiche :\\nLe titre du p...</td>\n",
       "    </tr>\n",
       "    <tr>\n",
       "      <th>2357</th>\n",
       "      <td>\\tNotes :\\nLa barre déléments saffiche si l...</td>\n",
       "    </tr>\n",
       "    <tr>\n",
       "      <th>2363</th>\n",
       "      <td>\\tNotes :\\nle système affiche les information...</td>\n",
       "    </tr>\n",
       "    <tr>\n",
       "      <th>2364</th>\n",
       "      <td>\\tActions :\\nAu touch du doigt (double contac...</td>\n",
       "    </tr>\n",
       "    <tr>\n",
       "      <th>2369</th>\n",
       "      <td>\\tNotes :\\nLe système affiche les éléments su...</td>\n",
       "    </tr>\n",
       "    <tr>\n",
       "      <th>2375</th>\n",
       "      <td>\\tNotes :\\nLe système affiche 2 menus déroula...</td>\n",
       "    </tr>\n",
       "    <tr>\n",
       "      <th>2381</th>\n",
       "      <td>\\tNotes :\\nLe système affiche la liste des pa...</td>\n",
       "    </tr>\n",
       "  </tbody>\n",
       "</table>\n",
       "<p>750 rows × 1 columns</p>\n",
       "</div>"
      ],
      "text/plain": [
       "                                                  texte\n",
       "15    \\tNotes :\\nLe système affiche pour chaque lan...\n",
       "19    Nom du champ\\t\\tType de champ\\tobligatoire\\tCo...\n",
       "23    Un fil dAriane est présent sur toutes les pag...\n",
       "29    \\tNotes :\\nLa page en cours de consultation e...\n",
       "40    \\tNotes :\\nLutilisateur peut créer un lien d...\n",
       "45    4.1.10\\tCU001-008 Contribuer du contenu dans u...\n",
       "53    \\tNotes :\\nLe système affiche les 5 accès rap...\n",
       "59    Lutilisateur peut modifier lordre daffichag...\n",
       "69    \\tNotes :\\nLutilisateur peut créer un lien d...\n",
       "73    \\tNotes :\\nCe bloc est visible sur toutes les...\n",
       "75    \\tRègles de gestion\\nUn événement saffiche d...\n",
       "79    Nom du champ\\t\\tType de champ\\tobligatoire\\tCo...\n",
       "80       4.1.17\\tCU001-015 Contribuer un type de public\n",
       "83    Nom du champ\\t\\tType de champ\\tobligatoire\\tCo...\n",
       "85    4.1.18\\tCU001-016 Contribuer un type de billet...\n",
       "87    Cas dutilisation décrivant la contribution po...\n",
       "88    Nom du champ\\t\\tType de champ\\tobligatoire\\tCo...\n",
       "101   \\tNotes :\\nCette barre est visible seulement ...\n",
       "103   \\tRègles de gestion :\\nSil ny a pas dentit...\n",
       "107   \\tNotes :\\nLe système affiche dans lordre su...\n",
       "114   \\tNotes :\\nLe système affiche les entités Car...\n",
       "117   Champ sélectionné en Back-office\\trègles daff...\n",
       "118   Date de début\\nDate de fin\\tDu [date début] au...\n",
       "127   \\tNotes :\\nLe système affiche les entités par...\n",
       "132   \\tNotes :\\nLe système affiche :\\nles onglets ...\n",
       "134   \\tRègles de gestion :\\nOnglet\\nSil nexiste ...\n",
       "136   4.2.2.a\\tCU002-008 Contribuer la barre dinfor...\n",
       "138   Cas dutilisation décrivant lajout dune info...\n",
       "139   Nom du champ\\t\\tType de champ\\tobligatoire\\tCo...\n",
       "145                     Les champs propres à la vidéo :\n",
       "...                                                 ...\n",
       "2310  Cas dutilisation décrivant la consultation du...\n",
       "2311  Libellé de regroupement\\tSous libellé\\tNom du ...\n",
       "2312  Civilité\\nListe déroulante\\tOUI\\t\\tSélectionne...\n",
       "2313  Adresse professionnelle\\nEtablissement\\tChamp ...\n",
       "2314  \\tRègles de gestion :\\nLe champ courriel doit...\n",
       "2315  5.8.13\\tAfficher le formulaire Vernissage\\nAct...\n",
       "2316  Libellé de regroupement\\tSous libellé\\tNom du ...\n",
       "2317  Civilité\\nListe déroulante\\tOUI\\t\\tSélectionne...\n",
       "2318  \\tRègles de gestion :\\nLe champ courriel doit...\n",
       "2319  Texte juridique présent au dessous du formulai...\n",
       "2320  5.8.14\\tAfficher le formulaire de demande de P...\n",
       "2321                        5.\\tAffichage du formulaire\n",
       "2322  Libellé de regroupement\\tSous libellé\\tNom du ...\n",
       "2323  \\tNotes :\\nLe système affiche le contenu du c...\n",
       "2324  Le système affiche le contenu du champ contenu...\n",
       "2325  \\tRègles de gestion :\\nLe champ date de naiss...\n",
       "2326  \\tNotes :\\nLe système liste affiche\\nun texte...\n",
       "2328  5.8.15\\tAfficher le formulaire Contact\\nActeur...\n",
       "2329  Nom du champ\\t\\tType de champ\\tobligatoire\\tLi...\n",
       "2335  \\tNotes :\\nLe système affiche\\nLe numéro de t...\n",
       "2339                5.10.1.a\\tNaviguer dans un parcours\n",
       "2342  \\tActions :\\nDéplacement du doigt de gauche à...\n",
       "2346  \\tNotes : le système affiche :\\nLa barre de p...\n",
       "2352  \\tNotes : le système affiche :\\nLe titre du p...\n",
       "2357  \\tNotes :\\nLa barre déléments saffiche si l...\n",
       "2363  \\tNotes :\\nle système affiche les information...\n",
       "2364  \\tActions :\\nAu touch du doigt (double contac...\n",
       "2369  \\tNotes :\\nLe système affiche les éléments su...\n",
       "2375  \\tNotes :\\nLe système affiche 2 menus déroula...\n",
       "2381  \\tNotes :\\nLe système affiche la liste des pa...\n",
       "\n",
       "[750 rows x 1 columns]"
      ]
     },
     "execution_count": 34,
     "metadata": {},
     "output_type": "execute_result"
    }
   ],
   "source": [
    "data1 = pd.DataFrame(columns=['texte'])\n",
    "data1['texte'] = data.texte[ClusterIndicesNumpy(1, model.labels_) ]\n",
    "data1"
   ]
  },
  {
   "cell_type": "code",
   "execution_count": 35,
   "metadata": {},
   "outputs": [
    {
     "data": {
      "text/html": [
       "<div>\n",
       "<style scoped>\n",
       "    .dataframe tbody tr th:only-of-type {\n",
       "        vertical-align: middle;\n",
       "    }\n",
       "\n",
       "    .dataframe tbody tr th {\n",
       "        vertical-align: top;\n",
       "    }\n",
       "\n",
       "    .dataframe thead th {\n",
       "        text-align: right;\n",
       "    }\n",
       "</style>\n",
       "<table border=\"1\" class=\"dataframe\">\n",
       "  <thead>\n",
       "    <tr style=\"text-align: right;\">\n",
       "      <th></th>\n",
       "      <th>texte</th>\n",
       "    </tr>\n",
       "  </thead>\n",
       "  <tbody>\n",
       "    <tr>\n",
       "      <th>0</th>\n",
       "      <td>4.\\tVersion Desktop - liste des cas d'utilisat...</td>\n",
       "    </tr>\n",
       "    <tr>\n",
       "      <th>1</th>\n",
       "      <td>4.1.1\\tCU001-001 Afficher le header</td>\n",
       "    </tr>\n",
       "    <tr>\n",
       "      <th>3</th>\n",
       "      <td>Cas dutilisation permettant à un internaute  ...</td>\n",
       "    </tr>\n",
       "    <tr>\n",
       "      <th>4</th>\n",
       "      <td>\\tNotes :\\nLe système affiche les éléments su...</td>\n",
       "    </tr>\n",
       "    <tr>\n",
       "      <th>5</th>\n",
       "      <td>\\tActions :\\nSi lutilisateur clique\\nsur le ...</td>\n",
       "    </tr>\n",
       "    <tr>\n",
       "      <th>6</th>\n",
       "      <td>4.1.2\\tCU001-002 Afficher le bouton de langue</td>\n",
       "    </tr>\n",
       "    <tr>\n",
       "      <th>8</th>\n",
       "      <td>Cas dutilisation permettant à un internaute  ...</td>\n",
       "    </tr>\n",
       "    <tr>\n",
       "      <th>10</th>\n",
       "      <td>\\tActions :\\nAu clic sur la langue sélectionn...</td>\n",
       "    </tr>\n",
       "    <tr>\n",
       "      <th>12</th>\n",
       "      <td>4.1.3\\tCU001-0021 Afficher la page Langue</td>\n",
       "    </tr>\n",
       "    <tr>\n",
       "      <th>14</th>\n",
       "      <td>Cas dutilisation permettant à un internaute  ...</td>\n",
       "    </tr>\n",
       "    <tr>\n",
       "      <th>16</th>\n",
       "      <td>4.1.4\\tCU001-0022 Contribuer la page langue</td>\n",
       "    </tr>\n",
       "    <tr>\n",
       "      <th>20</th>\n",
       "      <td>4.1.5\\tCU001-003 Afficher le fil dariane</td>\n",
       "    </tr>\n",
       "    <tr>\n",
       "      <th>22</th>\n",
       "      <td>Cas dutilisation permettant à un internaute  ...</td>\n",
       "    </tr>\n",
       "    <tr>\n",
       "      <th>24</th>\n",
       "      <td>Le fil dariane est composé dun lien vers la ...</td>\n",
       "    </tr>\n",
       "    <tr>\n",
       "      <th>25</th>\n",
       "      <td>\\tRègles de gestion\\nLe fil dariane ne saff...</td>\n",
       "    </tr>\n",
       "    <tr>\n",
       "      <th>26</th>\n",
       "      <td>4.1.6\\tCU001-004 Afficher le bouton de partage</td>\n",
       "    </tr>\n",
       "    <tr>\n",
       "      <th>28</th>\n",
       "      <td>Cas dutilisation permettant à un internaute  ...</td>\n",
       "    </tr>\n",
       "    <tr>\n",
       "      <th>30</th>\n",
       "      <td>\\tActions :\\nAu clic sur le bouton de partage...</td>\n",
       "    </tr>\n",
       "    <tr>\n",
       "      <th>31</th>\n",
       "      <td>\\tRègles de gestion\\nDepuis une page éditoria...</td>\n",
       "    </tr>\n",
       "    <tr>\n",
       "      <th>32</th>\n",
       "      <td>4.1.7\\tCU001-005 Afficher le menu de navigation</td>\n",
       "    </tr>\n",
       "    <tr>\n",
       "      <th>34</th>\n",
       "      <td>Cas dutilisation permettant à un internaute  ...</td>\n",
       "    </tr>\n",
       "    <tr>\n",
       "      <th>36</th>\n",
       "      <td>\\tActions :\\nAu clic sur lune des entrées de...</td>\n",
       "    </tr>\n",
       "    <tr>\n",
       "      <th>38</th>\n",
       "      <td>4.1.8\\tCU001-006 Modifier le menu de navigation</td>\n",
       "    </tr>\n",
       "    <tr>\n",
       "      <th>41</th>\n",
       "      <td>4.1.9\\tCU001-007 Afficher du contenu dans une ...</td>\n",
       "    </tr>\n",
       "    <tr>\n",
       "      <th>43</th>\n",
       "      <td>Cas dutilisation permettant à un internaute  ...</td>\n",
       "    </tr>\n",
       "    <tr>\n",
       "      <th>47</th>\n",
       "      <td>Cas dutilisation permettant à un internaute  ...</td>\n",
       "    </tr>\n",
       "    <tr>\n",
       "      <th>48</th>\n",
       "      <td>\\tNotes :\\nLutilisateur peut traduire toutes...</td>\n",
       "    </tr>\n",
       "    <tr>\n",
       "      <th>49</th>\n",
       "      <td>\\tNotes :\\nLutilisateur peut traduire une pa...</td>\n",
       "    </tr>\n",
       "    <tr>\n",
       "      <th>50</th>\n",
       "      <td>4.1.11\\tCU001-009 Afficher la télécommande</td>\n",
       "    </tr>\n",
       "    <tr>\n",
       "      <th>54</th>\n",
       "      <td>\\tActions :\\nAu clic sur chaque élément, une ...</td>\n",
       "    </tr>\n",
       "    <tr>\n",
       "      <th>...</th>\n",
       "      <td>...</td>\n",
       "    </tr>\n",
       "    <tr>\n",
       "      <th>2310</th>\n",
       "      <td>Cas dutilisation décrivant la consultation du...</td>\n",
       "    </tr>\n",
       "    <tr>\n",
       "      <th>2311</th>\n",
       "      <td>Libellé de regroupement\\tSous libellé\\tNom du ...</td>\n",
       "    </tr>\n",
       "    <tr>\n",
       "      <th>2312</th>\n",
       "      <td>Civilité\\nListe déroulante\\tOUI\\t\\tSélectionne...</td>\n",
       "    </tr>\n",
       "    <tr>\n",
       "      <th>2313</th>\n",
       "      <td>Adresse professionnelle\\nEtablissement\\tChamp ...</td>\n",
       "    </tr>\n",
       "    <tr>\n",
       "      <th>2314</th>\n",
       "      <td>\\tRègles de gestion :\\nLe champ courriel doit...</td>\n",
       "    </tr>\n",
       "    <tr>\n",
       "      <th>2315</th>\n",
       "      <td>5.8.13\\tAfficher le formulaire Vernissage\\nAct...</td>\n",
       "    </tr>\n",
       "    <tr>\n",
       "      <th>2316</th>\n",
       "      <td>Libellé de regroupement\\tSous libellé\\tNom du ...</td>\n",
       "    </tr>\n",
       "    <tr>\n",
       "      <th>2317</th>\n",
       "      <td>Civilité\\nListe déroulante\\tOUI\\t\\tSélectionne...</td>\n",
       "    </tr>\n",
       "    <tr>\n",
       "      <th>2318</th>\n",
       "      <td>\\tRègles de gestion :\\nLe champ courriel doit...</td>\n",
       "    </tr>\n",
       "    <tr>\n",
       "      <th>2319</th>\n",
       "      <td>Texte juridique présent au dessous du formulai...</td>\n",
       "    </tr>\n",
       "    <tr>\n",
       "      <th>2320</th>\n",
       "      <td>5.8.14\\tAfficher le formulaire de demande de P...</td>\n",
       "    </tr>\n",
       "    <tr>\n",
       "      <th>2321</th>\n",
       "      <td>5.\\tAffichage du formulaire</td>\n",
       "    </tr>\n",
       "    <tr>\n",
       "      <th>2322</th>\n",
       "      <td>Libellé de regroupement\\tSous libellé\\tNom du ...</td>\n",
       "    </tr>\n",
       "    <tr>\n",
       "      <th>2323</th>\n",
       "      <td>\\tNotes :\\nLe système affiche le contenu du c...</td>\n",
       "    </tr>\n",
       "    <tr>\n",
       "      <th>2324</th>\n",
       "      <td>Le système affiche le contenu du champ contenu...</td>\n",
       "    </tr>\n",
       "    <tr>\n",
       "      <th>2325</th>\n",
       "      <td>\\tRègles de gestion :\\nLe champ date de naiss...</td>\n",
       "    </tr>\n",
       "    <tr>\n",
       "      <th>2326</th>\n",
       "      <td>\\tNotes :\\nLe système liste affiche\\nun texte...</td>\n",
       "    </tr>\n",
       "    <tr>\n",
       "      <th>2328</th>\n",
       "      <td>5.8.15\\tAfficher le formulaire Contact\\nActeur...</td>\n",
       "    </tr>\n",
       "    <tr>\n",
       "      <th>2329</th>\n",
       "      <td>Nom du champ\\t\\tType de champ\\tobligatoire\\tLi...</td>\n",
       "    </tr>\n",
       "    <tr>\n",
       "      <th>2335</th>\n",
       "      <td>\\tNotes :\\nLe système affiche\\nLe numéro de t...</td>\n",
       "    </tr>\n",
       "    <tr>\n",
       "      <th>2339</th>\n",
       "      <td>5.10.1.a\\tNaviguer dans un parcours</td>\n",
       "    </tr>\n",
       "    <tr>\n",
       "      <th>2342</th>\n",
       "      <td>\\tActions :\\nDéplacement du doigt de gauche à...</td>\n",
       "    </tr>\n",
       "    <tr>\n",
       "      <th>2346</th>\n",
       "      <td>\\tNotes : le système affiche :\\nLa barre de p...</td>\n",
       "    </tr>\n",
       "    <tr>\n",
       "      <th>2352</th>\n",
       "      <td>\\tNotes : le système affiche :\\nLe titre du p...</td>\n",
       "    </tr>\n",
       "    <tr>\n",
       "      <th>2357</th>\n",
       "      <td>\\tNotes :\\nLa barre déléments saffiche si l...</td>\n",
       "    </tr>\n",
       "    <tr>\n",
       "      <th>2363</th>\n",
       "      <td>\\tNotes :\\nle système affiche les information...</td>\n",
       "    </tr>\n",
       "    <tr>\n",
       "      <th>2364</th>\n",
       "      <td>\\tActions :\\nAu touch du doigt (double contac...</td>\n",
       "    </tr>\n",
       "    <tr>\n",
       "      <th>2369</th>\n",
       "      <td>\\tNotes :\\nLe système affiche les éléments su...</td>\n",
       "    </tr>\n",
       "    <tr>\n",
       "      <th>2375</th>\n",
       "      <td>\\tNotes :\\nLe système affiche 2 menus déroula...</td>\n",
       "    </tr>\n",
       "    <tr>\n",
       "      <th>2381</th>\n",
       "      <td>\\tNotes :\\nLe système affiche la liste des pa...</td>\n",
       "    </tr>\n",
       "  </tbody>\n",
       "</table>\n",
       "<p>1507 rows × 1 columns</p>\n",
       "</div>"
      ],
      "text/plain": [
       "                                                  texte\n",
       "0     4.\\tVersion Desktop - liste des cas d'utilisat...\n",
       "1                   4.1.1\\tCU001-001 Afficher le header\n",
       "3     Cas dutilisation permettant à un internaute  ...\n",
       "4     \\tNotes :\\nLe système affiche les éléments su...\n",
       "5     \\tActions :\\nSi lutilisateur clique\\nsur le ...\n",
       "6         4.1.2\\tCU001-002 Afficher le bouton de langue\n",
       "8     Cas dutilisation permettant à un internaute  ...\n",
       "10    \\tActions :\\nAu clic sur la langue sélectionn...\n",
       "12            4.1.3\\tCU001-0021 Afficher la page Langue\n",
       "14    Cas dutilisation permettant à un internaute  ...\n",
       "16          4.1.4\\tCU001-0022 Contribuer la page langue\n",
       "20            4.1.5\\tCU001-003 Afficher le fil dariane\n",
       "22    Cas dutilisation permettant à un internaute  ...\n",
       "24    Le fil dariane est composé dun lien vers la ...\n",
       "25    \\tRègles de gestion\\nLe fil dariane ne saff...\n",
       "26       4.1.6\\tCU001-004 Afficher le bouton de partage\n",
       "28    Cas dutilisation permettant à un internaute  ...\n",
       "30    \\tActions :\\nAu clic sur le bouton de partage...\n",
       "31    \\tRègles de gestion\\nDepuis une page éditoria...\n",
       "32      4.1.7\\tCU001-005 Afficher le menu de navigation\n",
       "34    Cas dutilisation permettant à un internaute  ...\n",
       "36    \\tActions :\\nAu clic sur lune des entrées de...\n",
       "38      4.1.8\\tCU001-006 Modifier le menu de navigation\n",
       "41    4.1.9\\tCU001-007 Afficher du contenu dans une ...\n",
       "43    Cas dutilisation permettant à un internaute  ...\n",
       "47    Cas dutilisation permettant à un internaute  ...\n",
       "48    \\tNotes :\\nLutilisateur peut traduire toutes...\n",
       "49    \\tNotes :\\nLutilisateur peut traduire une pa...\n",
       "50           4.1.11\\tCU001-009 Afficher la télécommande\n",
       "54    \\tActions :\\nAu clic sur chaque élément, une ...\n",
       "...                                                 ...\n",
       "2310  Cas dutilisation décrivant la consultation du...\n",
       "2311  Libellé de regroupement\\tSous libellé\\tNom du ...\n",
       "2312  Civilité\\nListe déroulante\\tOUI\\t\\tSélectionne...\n",
       "2313  Adresse professionnelle\\nEtablissement\\tChamp ...\n",
       "2314  \\tRègles de gestion :\\nLe champ courriel doit...\n",
       "2315  5.8.13\\tAfficher le formulaire Vernissage\\nAct...\n",
       "2316  Libellé de regroupement\\tSous libellé\\tNom du ...\n",
       "2317  Civilité\\nListe déroulante\\tOUI\\t\\tSélectionne...\n",
       "2318  \\tRègles de gestion :\\nLe champ courriel doit...\n",
       "2319  Texte juridique présent au dessous du formulai...\n",
       "2320  5.8.14\\tAfficher le formulaire de demande de P...\n",
       "2321                        5.\\tAffichage du formulaire\n",
       "2322  Libellé de regroupement\\tSous libellé\\tNom du ...\n",
       "2323  \\tNotes :\\nLe système affiche le contenu du c...\n",
       "2324  Le système affiche le contenu du champ contenu...\n",
       "2325  \\tRègles de gestion :\\nLe champ date de naiss...\n",
       "2326  \\tNotes :\\nLe système liste affiche\\nun texte...\n",
       "2328  5.8.15\\tAfficher le formulaire Contact\\nActeur...\n",
       "2329  Nom du champ\\t\\tType de champ\\tobligatoire\\tLi...\n",
       "2335  \\tNotes :\\nLe système affiche\\nLe numéro de t...\n",
       "2339                5.10.1.a\\tNaviguer dans un parcours\n",
       "2342  \\tActions :\\nDéplacement du doigt de gauche à...\n",
       "2346  \\tNotes : le système affiche :\\nLa barre de p...\n",
       "2352  \\tNotes : le système affiche :\\nLe titre du p...\n",
       "2357  \\tNotes :\\nLa barre déléments saffiche si l...\n",
       "2363  \\tNotes :\\nle système affiche les information...\n",
       "2364  \\tActions :\\nAu touch du doigt (double contac...\n",
       "2369  \\tNotes :\\nLe système affiche les éléments su...\n",
       "2375  \\tNotes :\\nLe système affiche 2 menus déroula...\n",
       "2381  \\tNotes :\\nLe système affiche la liste des pa...\n",
       "\n",
       "[1507 rows x 1 columns]"
      ]
     },
     "execution_count": 35,
     "metadata": {},
     "output_type": "execute_result"
    }
   ],
   "source": [
    "data01 = pd.concat([data0, data1])\n",
    "data01"
   ]
  },
  {
   "cell_type": "code",
   "execution_count": 36,
   "metadata": {},
   "outputs": [
    {
     "data": {
      "text/plain": [
       "<1507x1000 sparse matrix of type '<class 'numpy.float64'>'\n",
       "\twith 27696 stored elements in Compressed Sparse Row format>"
      ]
     },
     "execution_count": 36,
     "metadata": {},
     "output_type": "execute_result"
    }
   ],
   "source": [
    "tfidf = TfidfVectorizer(max_features=1000, lowercase=True, analyzer='word', stop_words= 'english',ngram_range=(1,1))\n",
    "data_vect01 = tfidf.fit_transform(data01['texte'])\n",
    "\n",
    "data_vect01"
   ]
  },
  {
   "cell_type": "code",
   "execution_count": 37,
   "metadata": {},
   "outputs": [
    {
     "data": {
      "text/plain": [
       "array([[0.        , 0.        , 0.        , ..., 0.        , 0.        ,\n",
       "        0.        ],\n",
       "       [0.        , 0.        , 0.51182746, ..., 0.        , 0.        ,\n",
       "        0.        ],\n",
       "       [0.        , 0.        , 0.        , ..., 0.        , 0.        ,\n",
       "        0.        ],\n",
       "       ...,\n",
       "       [0.        , 0.        , 0.        , ..., 0.068707  , 0.        ,\n",
       "        0.        ],\n",
       "       [0.        , 0.        , 0.        , ..., 0.        , 0.        ,\n",
       "        0.        ],\n",
       "       [0.        , 0.        , 0.        , ..., 0.        , 0.        ,\n",
       "        0.        ]])"
      ]
     },
     "execution_count": 37,
     "metadata": {},
     "output_type": "execute_result"
    }
   ],
   "source": [
    "data_vect01.toarray()"
   ]
  },
  {
   "cell_type": "code",
   "execution_count": 52,
   "metadata": {},
   "outputs": [
    {
     "data": {
      "text/plain": [
       "MiniBatchKMeans(batch_size=100, compute_labels=True, init='k-means++',\n",
       "                init_size=None, max_iter=100, max_no_improvement=10,\n",
       "                n_clusters=4, n_init=3, random_state=0, reassignment_ratio=0.01,\n",
       "                tol=0.0, verbose=0)"
      ]
     },
     "execution_count": 52,
     "metadata": {},
     "output_type": "execute_result"
    }
   ],
   "source": [
    "nbc=4\n",
    "model01 = MiniBatchKMeans(n_clusters=nbc, random_state=0)\n",
    "model01.fit(data_vect01)"
   ]
  },
  {
   "cell_type": "code",
   "execution_count": 53,
   "metadata": {},
   "outputs": [
    {
     "name": "stdout",
     "output_type": "stream",
     "text": [
      "Top terms per cluster:\n",
      "Cluster 0:\n",
      " champ\n",
      " type\n",
      " oui\n",
      " texte\n",
      " affichage\n",
      " general\n",
      " non\n",
      " du\n",
      " nom\n",
      " obligatoire\n",
      " commentaires\n",
      " date\n",
      " galerie\n",
      " liste\n",
      " onglet\n",
      " editorial\n",
      " début\n",
      " en\n",
      " image\n",
      " défaut\n",
      "Cluster 1:\n",
      " le\n",
      " la\n",
      " affiche\n",
      " système\n",
      " sur\n",
      " est\n",
      " titre\n",
      " les\n",
      " au\n",
      " bouton\n",
      " clic\n",
      " par\n",
      " notes\n",
      " du\n",
      " notice\n",
      " en\n",
      " actions\n",
      " des\n",
      " dans\n",
      " et\n",
      "Cluster 2:\n",
      " afficher\n",
      " les\n",
      " cu006\n",
      " contribuer\n",
      " lot\n",
      " bloc\n",
      " événements\n",
      " le\n",
      " cu105\n",
      " élément\n",
      " cu009\n",
      " éléments\n",
      " cu003\n",
      " 13\n",
      " 15\n",
      " éditorial\n",
      " entité\n",
      " la\n",
      " documents\n",
      " 003\n",
      "Cluster 3:\n",
      " la\n",
      " page\n",
      " liste\n",
      " des\n",
      " dans\n",
      " une\n",
      " le\n",
      " sur\n",
      " afficher\n",
      " les\n",
      " actions\n",
      " il\n",
      " cas\n",
      " est\n",
      " utilisation\n",
      " recherche\n",
      " sélection\n",
      " en\n",
      " internaute\n",
      " éditoriale\n"
     ]
    }
   ],
   "source": [
    "# Affichons les termes communs à chaque cluster\n",
    "print(\"Top terms per cluster:\")\n",
    "order_centroids = model01.cluster_centers_.argsort()[:, ::-1]\n",
    "terms = tfidf.get_feature_names()\n",
    "for i in range(nbc):\n",
    "    print(\"Cluster %d:\" % i),\n",
    "    for ind in order_centroids[i, :20]:\n",
    "        print(' %s' % terms[ind]),\n",
    "    print"
   ]
  },
  {
   "cell_type": "code",
   "execution_count": 54,
   "metadata": {},
   "outputs": [
    {
     "name": "stdout",
     "output_type": "stream",
     "text": [
      "[2]\n"
     ]
    }
   ],
   "source": [
    "Y = tfidf.transform([\"Contribuer du contenu dans une autre langue\"])\n",
    "prediction = model01.predict(Y)\n",
    "print(prediction)"
   ]
  },
  {
   "cell_type": "code",
   "execution_count": 55,
   "metadata": {},
   "outputs": [
    {
     "name": "stdout",
     "output_type": "stream",
     "text": [
      "[3]\n"
     ]
    }
   ],
   "source": [
    "Y = tfidf.transform([\"Le contributeur se place en mode liste sur le dossier billets / tarifs. Les champs suivants s’affichent : [...]\"])\n",
    "prediction = model01.predict(Y)\n",
    "print(prediction)"
   ]
  },
  {
   "cell_type": "code",
   "execution_count": 56,
   "metadata": {},
   "outputs": [
    {
     "name": "stdout",
     "output_type": "stream",
     "text": [
      "[3]\n"
     ]
    }
   ],
   "source": [
    "Y = tfidf.transform([\"Le contributeur se place dans une page éditoriale et ajoute un plugin bloc 3D. Il peut aussi récupérer un élément depuis la base de données Armadillo accessible via la recherche avancée [...]\"])\n",
    "prediction = model01.predict(Y)\n",
    "print(prediction)"
   ]
  },
  {
   "cell_type": "code",
   "execution_count": 57,
   "metadata": {},
   "outputs": [
    {
     "name": "stdout",
     "output_type": "stream",
     "text": [
      "[3]\n"
     ]
    }
   ],
   "source": [
    "Y = tfidf.transform([\"L’utilisateur peut modifier l’ordre d’affichage des rubriques de la télécommande. L’ordre choisi en back-office est appliqué sur le site desktop et mobile\"])\n",
    "prediction = model01.predict(Y)\n",
    "print(prediction)"
   ]
  },
  {
   "cell_type": "code",
   "execution_count": 58,
   "metadata": {},
   "outputs": [
    {
     "name": "stdout",
     "output_type": "stream",
     "text": [
      "[2]\n"
     ]
    }
   ],
   "source": [
    "Y = tfidf.transform([\"4.1.16CU001-014 Modifier le bloc de contenu En ce moment\"])\n",
    "prediction = model01.predict(Y)\n",
    "print(prediction)"
   ]
  },
  {
   "cell_type": "code",
   "execution_count": 59,
   "metadata": {},
   "outputs": [],
   "source": [
    "reduced_features = pca.fit_transform(data_vect01.toarray())\n",
    "\n",
    "# reduce the cluster centers to 2D\n",
    "reduced_cluster_centers = pca.transform(model01.cluster_centers_)"
   ]
  },
  {
   "cell_type": "code",
   "execution_count": 61,
   "metadata": {},
   "outputs": [
    {
     "data": {
      "image/png": "[encoded data removed]",
      "text/plain": [
       "<Figure size 432x288 with 1 Axes>"
      ]
     },
     "metadata": {
      "needs_background": "light"
     },
     "output_type": "display_data"
    }
   ],
   "source": [
    "#ACP\n",
    "\n",
    "acp = PCA(n_components=2).fit_transform(data_vect01.toarray())\n",
    "\n",
    "plt.scatter(acp[:,0], acp[:,1], c=model01.predict(data_vect01))\n",
    "acp_cluster_centers = pca.transform(model01.cluster_centers_)\n",
    "for couleur,k in zip(['purple','turquoise','yellow','green'],[0,1,2,3]):\n",
    "    plt.scatter(acp[model01.labels_==k,0],acp[model01.labels_==k,1],s=150,c=couleur)\n",
    "    plt.scatter(acp_cluster_centers[:, 0], acp_cluster_centers[:,1], marker='x', s=150, c='red')\n",
    "plt.show()"
   ]
  },
  {
   "cell_type": "code",
   "execution_count": 62,
   "metadata": {},
   "outputs": [
    {
     "name": "stderr",
     "output_type": "stream",
     "text": [
      "C:\\Users\\bigdata\\Anaconda3\\lib\\site-packages\\pandas\\core\\series.py:942: FutureWarning: \n",
      "Passing list-likes to .loc or [] with any missing label will raise\n",
      "KeyError in the future, you can use .reindex() as an alternative.\n",
      "\n",
      "See the documentation here:\n",
      "https://pandas.pydata.org/pandas-docs/stable/indexing.html#deprecate-loc-reindex-listlike\n",
      "  return self.loc[key]\n"
     ]
    },
    {
     "data": {
      "text/plain": [
       "758         4.6.8.c\\tCU006-054 Sélectionner un partenaire\n",
       "768                                                   NaN\n",
       "770                                                   NaN\n",
       "773     Le système affiche :\\n\\tLe titre de lévéneme...\n",
       "778                                                   NaN\n",
       "779     \\tNotes :\\nLe système affiche les événements ...\n",
       "785                                                   NaN\n",
       "787                                                   NaN\n",
       "790     Liste de valeurs\\nAucun (par défaut)\\nEntités ...\n",
       "792                                                   NaN\n",
       "795                                                   NaN\n",
       "799                                                   NaN\n",
       "801     Nom du champ\\t\\tType de champ\\tobligatoire\\tCo...\n",
       "808                                                   NaN\n",
       "829     \\tActions :\\nNavigation dans le calendrier\\nA...\n",
       "830                                                   NaN\n",
       "833                                                   NaN\n",
       "836                                                   NaN\n",
       "837     Au clic sur le bouton Valider du formulaire, l...\n",
       "840                                                   NaN\n",
       "842     \\tNotes :\\nle système affiche les événements ...\n",
       "844     Le titre de lévénement (entité événement)\\nLe...\n",
       "846                                                   NaN\n",
       "851     4.8\\tInformations pratiques [LOT 1]\\n4.8.1\\tAf...\n",
       "856           4.8.1.b\\tCU008-002 Afficher le plan daccès\n",
       "861     4.8.1.c\\tCU008-003 Afficher le bloc dinformat...\n",
       "864     \\tNotes :\\nLe bloc dinformation est affiché ...\n",
       "865     \\tActions :\\nAu clic sur le bouton Horaires, ...\n",
       "869                                                   NaN\n",
       "874                                                   NaN\n",
       "                              ...                        \n",
       "1260                                                  NaN\n",
       "1262                                                  NaN\n",
       "1296    Nom du champ\\tType de champ\\tobligatoire\\tComm...\n",
       "1298      4.13.3.e\\tAjout dun bloc de texte à un élément\n",
       "1300                                                  NaN\n",
       "1301    Pour chaque élément dun parcours, lutilisate...\n",
       "1303                                                  NaN\n",
       "1304               4.14\\tExplorer les collections [LOT 3]\n",
       "1352    Actions\\n\\tUn clic sur licône Plier / Déplie...\n",
       "1375    4.14.8\\tCU014-008 Afficher les critères de rec...\n",
       "1395       Voir le CU « Règles daffichage dune notice »\n",
       "1409    Notes\\n\\tLe système affiche la liste des noti...\n",
       "1411    Règles de gestions\\n\\tLes notices associées p...\n",
       "1412      4.14.10\\tCU014-010 Afficher lécran des favoris\n",
       "1435    Actions\\n\\tUn click sur le titre ou la vignet...\n",
       "1462                                                  NaN\n",
       "1463                                      4.15.1.d\\tAudio\n",
       "1468                               Affichage Type Galerie\n",
       "1472                               Affichage Type Favoris\n",
       "1473    Notes\\n\\tLe système affiche lensemble des no...\n",
       "1474    Actions\\n\\tUn click sur le titre ou la vignet...\n",
       "1478    Notes\\n\\tLe système affiche les XX premières ...\n",
       "1479    Actions\\n\\tUn click sur le titre ou la vignet...\n",
       "1480                                                  NaN\n",
       "1483    Actions\\n\\tUn click sur le titre ou la vignet...\n",
       "1484                                                  NaN\n",
       "1488                                                  NaN\n",
       "1489    4.15.1.f\\tPhotographies du musée et des événem...\n",
       "1492    Actions\\n\\tUn click sur le titre ou la vignet...\n",
       "1495    Notes\\n\\tLe système affiche les 20 premières ...\n",
       "Name: texte, Length: 157, dtype: object"
      ]
     },
     "execution_count": 62,
     "metadata": {},
     "output_type": "execute_result"
    }
   ],
   "source": [
    "data01[\"texte\"][ClusterIndicesNumpy(0, model01.labels_) ]"
   ]
  },
  {
   "cell_type": "code",
   "execution_count": 63,
   "metadata": {},
   "outputs": [
    {
     "data": {
      "text/plain": [
       "3       Cas dutilisation permettant à un internaute  ...\n",
       "4       \\tNotes :\\nLe système affiche les éléments su...\n",
       "7                                                     NaN\n",
       "17                                                    NaN\n",
       "34      Cas dutilisation permettant à un internaute  ...\n",
       "38        4.1.8\\tCU001-006 Modifier le menu de navigation\n",
       "46                                                    NaN\n",
       "49      \\tNotes :\\nLutilisateur peut traduire une pa...\n",
       "52                                                    NaN\n",
       "53      \\tNotes :\\nLe système affiche les 5 accès rap...\n",
       "58                                                    NaN\n",
       "61                                                    NaN\n",
       "69      \\tNotes :\\nLutilisateur peut créer un lien d...\n",
       "73      \\tNotes :\\nCe bloc est visible sur toutes les...\n",
       "78                                                    NaN\n",
       "82                                                    NaN\n",
       "85      4.1.18\\tCU001-016 Contribuer un type de billet...\n",
       "87      Cas dutilisation décrivant la contribution po...\n",
       "89                                                    NaN\n",
       "91              4.2.1\\tAfficher la page daccueil [LOT 1]\n",
       "94                                                    NaN\n",
       "99                                                    NaN\n",
       "154                                                   NaN\n",
       "160     Nom du champ\\t\\tType de champ\\tobligatoire\\tCo...\n",
       "166                                                   NaN\n",
       "168     Nom du champ\\t\\tType de champ\\tobligatoire\\tCo...\n",
       "174                        4.3\\tPage dEditoriale (LOT 2)\n",
       "178     \\tNotes :\\nLe système affiche\\nLe méta-titre ...\n",
       "180                                                   NaN\n",
       "187     \\tActions :\\nAu clic sur le titre ou le visue...\n",
       "                              ...                        \n",
       "1458                                                  NaN\n",
       "1459                               Affichage Type Favoris\n",
       "1460    Notes\\n\\tLe système affiche lensemble des no...\n",
       "1461    Actions\\n\\tUn click sur le titre ou la vignet...\n",
       "1465    Notes\\n\\tLe système affiche les XX premières ...\n",
       "1466    Actions\\n\\tUn click sur le titre ou la vignet...\n",
       "1467                                                  NaN\n",
       "1469    Notes\\n\\tLe système affiche les 20 premières ...\n",
       "1471                                                  NaN\n",
       "1475                                                  NaN\n",
       "1477                                 Affichage Type liste\n",
       "1481                               Affichage Type Galerie\n",
       "1482    Notes\\n\\tLe système affiche les 20 premières ...\n",
       "1485                               Affichage Type Favoris\n",
       "1486    Notes\\n\\tLe système affiche lensemble des no...\n",
       "1487    Actions\\n\\tUn click sur le titre ou la vignet...\n",
       "1490                                 Affichage Type liste\n",
       "1491    Notes\\n\\tLe système affiche les XX premières ...\n",
       "1493                                                  NaN\n",
       "1494                               Affichage Type Galerie\n",
       "1496    Actions\\n\\tUn click sur le titre ou la vignet...\n",
       "1498                               Affichage Type Favoris\n",
       "1499    Notes\\n\\tLe système affiche lensemble des no...\n",
       "1500    Actions\\n\\tUn click sur le titre ou la vignet...\n",
       "1501                                                  NaN\n",
       "1502    4.15.2\\tCU015-0032Règles de filtres des résultats\n",
       "1503    Pour chaque typologie de résultats, les option...\n",
       "1504    \\tObjets exposés : oui / non / tous\\nPar défa...\n",
       "1505    Règles de gestions\\n\\tLa cumulation des filtr...\n",
       "1506    \\tListe des langues :\\nTri par ordre alpha\\nS...\n",
       "Name: texte, Length: 478, dtype: object"
      ]
     },
     "execution_count": 63,
     "metadata": {},
     "output_type": "execute_result"
    }
   ],
   "source": [
    "data01[\"texte\"][ClusterIndicesNumpy(1, model01.labels_) ]"
   ]
  },
  {
   "cell_type": "code",
   "execution_count": 64,
   "metadata": {},
   "outputs": [
    {
     "data": {
      "text/plain": [
       "1                     4.1.1\\tCU001-001 Afficher le header\n",
       "5       \\tActions :\\nSi lutilisateur clique\\nsur le ...\n",
       "11                                                    NaN\n",
       "15      \\tNotes :\\nLe système affiche pour chaque lan...\n",
       "19      Nom du champ\\t\\tType de champ\\tobligatoire\\tCo...\n",
       "22      Cas dutilisation permettant à un internaute  ...\n",
       "23      Un fil dAriane est présent sur toutes les pag...\n",
       "28      Cas dutilisation permettant à un internaute  ...\n",
       "31      \\tRègles de gestion\\nDepuis une page éditoria...\n",
       "32        4.1.7\\tCU001-005 Afficher le menu de navigation\n",
       "36      \\tActions :\\nAu clic sur lune des entrées de...\n",
       "37                                                    NaN\n",
       "39                                                    NaN\n",
       "44                                                    NaN\n",
       "45      4.1.10\\tCU001-008 Contribuer du contenu dans u...\n",
       "47      Cas dutilisation permettant à un internaute  ...\n",
       "48      \\tNotes :\\nLutilisateur peut traduire toutes...\n",
       "50             4.1.11\\tCU001-009 Afficher la télécommande\n",
       "51                                                    NaN\n",
       "54      \\tActions :\\nAu clic sur chaque élément, une ...\n",
       "55      \\tRègles de gestion :\\nSi lutilisateur ouvre...\n",
       "57                                                    NaN\n",
       "59      Lutilisateur peut modifier lordre daffichag...\n",
       "60                   4.1.13\\tCU001-011 Afficher le footer\n",
       "63      \\tNotes : Le footer liste :\\nLes éléments déf...\n",
       "64      \\tActions :\\nUn clic sur un lien permet à lu...\n",
       "65                                                    NaN\n",
       "66                   4.1.14\\tCU001-012 Modifier le footer\n",
       "70      4.1.15\\tCU001-013 Afficher le bloc de contenu ...\n",
       "77                                                    NaN\n",
       "                              ...                        \n",
       "1320    Actions\\n\\tUn clic sur le lien affiche le con...\n",
       "1321                             Lien daccès aux favoris\n",
       "1322    Notes\\n\\tLe système affiche :\\nUn lien sous f...\n",
       "1323                         Boutons de type daffichages\n",
       "1324    Notes\\n\\tLe système affiche :\\nUn lien pour a...\n",
       "1325    Règles de gestion\\n\\tPar défaut le type sélec...\n",
       "1326    4.14.3\\tCU014-003 Afficher le bloc de recherch...\n",
       "1327                                                  NaN\n",
       "1329    Le système affiche :\\n\\tLe moteur de recherch...\n",
       "1330                           Moteur de recherche simple\n",
       "1357                                                  NaN\n",
       "1358    4.14.6\\tCU014-006 Afficher les résultats de la...\n",
       "1359    Ce cas dutilisation reprend les mêmes princip...\n",
       "1362                                                  NaN\n",
       "1363    Cas dutilisation décrivant le résultat dune ...\n",
       "1366    La liste des typologies concernées par les rés...\n",
       "1367    Notes\\n\\tLe système affiche :\\nUn onglet « To...\n",
       "1369    La liste des résultats réduite pour lensemble...\n",
       "1413                                                  NaN\n",
       "1415    Le système affiche :\\n\\tLe nombre déléments ...\n",
       "1416                          Liste des boutons dactions\n",
       "1417    Notes\\n\\tLe système affiche les boutons suiva...\n",
       "1420                          Liste des notices du panier\n",
       "1421    Notes\\n\\tLe système affiche chaque typologie ...\n",
       "1424                                 Affichage Type liste\n",
       "1425    Notes\\n\\tLe système affiche les XX premières ...\n",
       "1464                                 Affichage Type liste\n",
       "1470    Actions\\n\\tUn click sur le titre ou la vignet...\n",
       "1476                           4.15.1.e\\tArchives (lot 2)\n",
       "1497                                                  NaN\n",
       "Name: texte, Length: 558, dtype: object"
      ]
     },
     "execution_count": 64,
     "metadata": {},
     "output_type": "execute_result"
    }
   ],
   "source": [
    "data01[\"texte\"][ClusterIndicesNumpy(2, model01.labels_) ]"
   ]
  },
  {
   "cell_type": "code",
   "execution_count": 65,
   "metadata": {},
   "outputs": [
    {
     "data": {
      "text/plain": [
       "0       4.\\tVersion Desktop - liste des cas d'utilisat...\n",
       "2                                                     NaN\n",
       "6           4.1.2\\tCU001-002 Afficher le bouton de langue\n",
       "8       Cas dutilisation permettant à un internaute  ...\n",
       "9                                                     NaN\n",
       "10      \\tActions :\\nAu clic sur la langue sélectionn...\n",
       "12              4.1.3\\tCU001-0021 Afficher la page Langue\n",
       "13                                                    NaN\n",
       "14      Cas dutilisation permettant à un internaute  ...\n",
       "16            4.1.4\\tCU001-0022 Contribuer la page langue\n",
       "18                                                    NaN\n",
       "20              4.1.5\\tCU001-003 Afficher le fil dariane\n",
       "21                                                    NaN\n",
       "24      Le fil dariane est composé dun lien vers la ...\n",
       "25      \\tRègles de gestion\\nLe fil dariane ne saff...\n",
       "26         4.1.6\\tCU001-004 Afficher le bouton de partage\n",
       "27                                                    NaN\n",
       "29      \\tNotes :\\nLa page en cours de consultation e...\n",
       "30      \\tActions :\\nAu clic sur le bouton de partage...\n",
       "33                                                    NaN\n",
       "35                                                    NaN\n",
       "40      \\tNotes :\\nLutilisateur peut créer un lien d...\n",
       "41      4.1.9\\tCU001-007 Afficher du contenu dans une ...\n",
       "42                                                    NaN\n",
       "43      Cas dutilisation permettant à un internaute  ...\n",
       "56             4.1.12\\tCU001-010 Modifier la télécommande\n",
       "62      Cas dutilisation permettant à un internaute  ...\n",
       "67                                                    NaN\n",
       "68                                                    NaN\n",
       "71                                                    NaN\n",
       "                              ...                        \n",
       "1197    Nom du champ\\t\\tType de champ\\tobligatoire\\tLi...\n",
       "1198            4.11.11\\tContribuer le formulaire Contact\n",
       "1200    Cas dutilisation décrivant la contribution du...\n",
       "1201                            4.12\\tBilletterie [LOT 1]\n",
       "1203                                                  NaN\n",
       "1204                                                  NaN\n",
       "1206    \\tNotes :\\nLe système affiche\\nLe numéro de t...\n",
       "1211    Dans la page dédition, les champs suivants s...\n",
       "1266                                                  NaN\n",
       "1267             4.13.2.b\\tAfficher la liste des parcours\n",
       "1268                                                  NaN\n",
       "1270    \\tNotes :\\nLe système affiche la liste des pa...\n",
       "1271    \\tActions :\\nAu scroll de la page, la liste d...\n",
       "1272                                                  NaN\n",
       "1273    4.13.3\\tContribuer les parcours\\n4.13.3.a\\tCon...\n",
       "1274                                                  NaN\n",
       "1275    Nom du champ\\t\\tType de champ\\tobligatoire\\tCo...\n",
       "1276    Les catégories peuvent être traduites en angla...\n",
       "1341    4.14.4\\tCU014-004 Afficher le bloc de recherch...\n",
       "1347    Notes\\n\\tLe système affiche un champ de reche...\n",
       "1350                                     Facette Cultures\n",
       "1371    Actions\\n\\tUn click sur un résultat renvoie l...\n",
       "1429    Notes\\n\\tLe système affiche les XX premières ...\n",
       "1430    Actions\\n\\tUn click sur le titre ou la vignet...\n",
       "1439    Notes\\n\\tLe système affiche les XX premières ...\n",
       "1442                               Affichage Type Galerie\n",
       "1445                                                  NaN\n",
       "1447    Notes\\n\\tLe système affiche lensemble des no...\n",
       "1448    Actions\\n\\tUn click sur le titre ou la vignet...\n",
       "1451                                 Affichage Type liste\n",
       "Name: texte, Length: 314, dtype: object"
      ]
     },
     "execution_count": 65,
     "metadata": {},
     "output_type": "execute_result"
    }
   ],
   "source": [
    "data01[\"texte\"][ClusterIndicesNumpy(3, model01.labels_) ]"
   ]
  },
  {
   "cell_type": "code",
   "execution_count": null,
   "metadata": {},
   "outputs": [],
   "source": []
  }
 ],
 "metadata": {
  "kernelspec": {
   "display_name": "Python 3",
   "language": "python",
   "name": "python3"
  },
  "language_info": {
   "codemirror_mode": {
    "name": "ipython",
    "version": 3
   },
   "file_extension": ".py",
   "mimetype": "text/x-python",
   "name": "python",
   "nbconvert_exporter": "python",
   "pygments_lexer": "ipython3",
   "version": "3.7.3"
  }
 },
 "nbformat": 4,
 "nbformat_minor": 2
}
