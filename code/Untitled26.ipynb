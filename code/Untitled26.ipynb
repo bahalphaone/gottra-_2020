{
 "cells": [
  {
   "cell_type": "code",
   "execution_count": 1,
   "metadata": {},
   "outputs": [
    {
     "name": "stderr",
     "output_type": "stream",
     "text": [
      "[nltk_data] Downloading package stopwords to\n",
      "[nltk_data]     C:\\Users\\nrhim\\AppData\\Roaming\\nltk_data...\n",
      "[nltk_data]   Package stopwords is already up-to-date!\n"
     ]
    }
   ],
   "source": [
    "import numpy as np\n",
    "import pandas as pd\n",
    "from sklearn.feature_extraction.text import CountVectorizer\n",
    "from sklearn.feature_extraction.text import TfidfTransformer\n",
    "from sklearn.linear_model import SGDClassifier\n",
    "from sklearn.pipeline import Pipeline\n",
    "from sklearn.model_selection import GridSearchCV\n",
    "from sklearn.metrics import precision_score\n",
    "from sklearn.metrics import accuracy_score\n",
    "from sklearn.metrics import recall_score\n",
    "from sklearn.metrics import f1_score\n",
    "from sklearn import svm\n",
    "from sklearn.model_selection import cross_val_score\n",
    "from sklearn import metrics\n",
    "import nltk\n",
    "nltk.download('stopwords')\n",
    "import warnings\n",
    "warnings.filterwarnings('ignore')"
   ]
  },
  {
   "cell_type": "code",
   "execution_count": 2,
   "metadata": {},
   "outputs": [
    {
     "name": "stderr",
     "output_type": "stream",
     "text": [
      "Using TensorFlow backend.\n"
     ]
    }
   ],
   "source": [
    "import pandas as pd\n",
    "import numpy as np\n",
    "import matplotlib.pyplot as plt\n",
    "import seaborn as sns\n",
    "from sklearn.model_selection import train_test_split\n",
    "from sklearn.preprocessing import LabelEncoder\n",
    "from keras.models import Model\n",
    "from keras.layers import LSTM, Activation, Dense, Dropout, Input, Embedding\n",
    "from keras.optimizers import RMSprop\n",
    "from keras.preprocessing.text import Tokenizer\n",
    "from keras.preprocessing import sequence\n",
    "from keras.utils import to_categorical\n",
    "from keras.callbacks import EarlyStopping\n",
    "from sklearn.model_selection import StratifiedKFold\n",
    "%matplotlib inline"
   ]
  },
  {
   "cell_type": "code",
   "execution_count": 3,
   "metadata": {},
   "outputs": [],
   "source": [
    "df = pd.read_csv(\"../Ressources/scenarii.csv\", encoding=\"ISO-8859-1\", sep=\";\", header=0)"
   ]
  },
  {
   "cell_type": "code",
   "execution_count": 4,
   "metadata": {},
   "outputs": [],
   "source": [
    "df_class_1_training = df[df['tag'] == 1]\n",
    "df_class_2_training = df[df['tag'] == 2]\n",
    "df_class_3_training = df[df['tag'] == 3]\n",
    "df_class_4_training = df[df['tag'] == 4]\n",
    "df_class_5_training = df[df['tag'] == 5]"
   ]
  },
  {
   "cell_type": "code",
   "execution_count": 5,
   "metadata": {},
   "outputs": [
    {
     "data": {
      "text/plain": [
       "(array([0, 1, 2, 3, 4]), <a list of 5 Text xticklabel objects>)"
      ]
     },
     "execution_count": 5,
     "metadata": {},
     "output_type": "execute_result"
    },
    {
     "data": {
      "image/png": "[encoded data removed]",
      "text/plain": [
       "<Figure size 1080x504 with 1 Axes>"
      ]
     },
     "metadata": {
      "needs_background": "light"
     },
     "output_type": "display_data"
    }
   ],
   "source": [
    "tags1= df['tag']\n",
    "import seaborn as sns\n",
    "import matplotlib.pyplot as plt\n",
    "plt.figure(figsize=(15,7))\n",
    "sns.countplot(x= tags1, color='red')\n",
    "plt.title('distribution of Tags', fontsize=20)\n",
    "plt.ylabel('Cumul', fontsize=13)\n",
    "plt.xlabel('les catégories', fontsize=13)\n",
    "plt.xticks(rotation='vertical')"
   ]
  },
  {
   "cell_type": "code",
   "execution_count": 30,
   "metadata": {},
   "outputs": [],
   "source": [
    "dfTraining = pd.read_csv(\"../Ressources/scenarii1_training.csv\", encoding=\"ISO-8859-1\", sep=\";\", header=0)\n",
    "dfTesting = pd.read_csv(\"../Ressources/scenarii1_testing.csv\", encoding=\"ISO-8859-1\", sep=\";\", header=0)\n",
    "df_class_1_training = dfTraining[dfTraining['tag'] == 1]\n",
    "df_class_2_training = dfTraining[dfTraining['tag'] == 2]\n",
    "df_class_3_training = dfTraining[dfTraining['tag'] == 3]\n",
    "df_class_4_training = dfTraining[dfTraining['tag'] == 4]\n",
    "df_class_5_training = dfTraining[dfTraining['tag'] == 5]"
   ]
  },
  {
   "cell_type": "code",
   "execution_count": 31,
   "metadata": {},
   "outputs": [
    {
     "data": {
      "text/plain": [
       "(array([0, 1, 2, 3, 4]), <a list of 5 Text xticklabel objects>)"
      ]
     },
     "execution_count": 31,
     "metadata": {},
     "output_type": "execute_result"
    },
    {
     "data": {
      "image/png": "[encoded data removed]",
      "text/plain": [
       "<Figure size 1080x504 with 1 Axes>"
      ]
     },
     "metadata": {
      "needs_background": "light"
     },
     "output_type": "display_data"
    }
   ],
   "source": [
    "tags1= dfTraining['tag']\n",
    "import seaborn as sns\n",
    "import matplotlib.pyplot as plt\n",
    "plt.figure(figsize=(15,7))\n",
    "sns.countplot(x= tags1, color='red')\n",
    "plt.title('distribution of Tags', fontsize=20)\n",
    "plt.ylabel('Cumul', fontsize=13)\n",
    "plt.xlabel('les catégories', fontsize=13)\n",
    "plt.xticks(rotation='vertical')"
   ]
  },
  {
   "cell_type": "code",
   "execution_count": null,
   "metadata": {},
   "outputs": [],
   "source": []
  },
  {
   "cell_type": "code",
   "execution_count": 33,
   "metadata": {},
   "outputs": [],
   "source": [
    "# Downsample majority class\n",
    "df_majority_downsampled_Training = resample(df_class_1, \n",
    "                                 replace=False,    # sample without replacement\n",
    "                                 n_samples=213)     # to match minority class\n",
    "                                 # reproducible results"
   ]
  },
  {
   "cell_type": "code",
   "execution_count": 34,
   "metadata": {},
   "outputs": [],
   "source": [
    "# Combine minority class with downsampled majority class\n",
    "df_downsampled_Training = pd.concat([df_majority_downsampled_Training, df_class_2, df_class_3, df_class_4, df_class_5])"
   ]
  },
  {
   "cell_type": "code",
   "execution_count": 4,
   "metadata": {},
   "outputs": [],
   "source": [
    "X_train, X_test, y_train, y_test = train_test_split(df['texte'], df['tag'])"
   ]
  },
  {
   "cell_type": "code",
   "execution_count": 7,
   "metadata": {},
   "outputs": [],
   "source": [
    "from sklearn.utils import resample\n",
    "df = pd.read_csv(\"../Ressources/scenarii.csv\", encoding=\"ISO-8859-1\", sep=\";\", header=0)\n",
    "tags = df['tag']\n",
    "data = CountVectorizer().fit_transform(df['texte']).toarray()\n",
    "#Commenter cette ligne pour avoir les occurences, et enlever le commentaire pour avoir les scores TF-IDF\n",
    "data = TfidfTransformer().fit_transform(data).toarray()\n",
    "# Separate majority and minority classes\n",
    "df_class_1 = df[df['tag'] == 1]\n",
    "df_class_2 = df[df['tag'] == 2]\n",
    "df_class_3 = df[df['tag'] == 3]\n",
    "df_class_4 = df[df['tag'] == 4]\n",
    "df_class_5 = df[df['tag'] == 5]"
   ]
  },
  {
   "cell_type": "code",
   "execution_count": 6,
   "metadata": {},
   "outputs": [],
   "source": [
    "from sklearn.utils import resample\n",
    "\n",
    "train_text = pd.read_csv('../Ressources/separated_data/scenarii_training_text.csv', encoding=\"ISO-8859-1\")\n",
    "train_tags = pd.read_csv('../Ressources/separated_data/scenarii_training_tags1.csv', encoding=\"ISO-8859-1\")\n",
    "test_text = pd.read_csv('../Ressources/separated_data/scenarii_testing_text.csv', encoding=\"ISO-8859-1\")\n",
    "test_tags = pd.read_csv('../Ressources/separated_data/scenarii_testing_tags1.csv', encoding=\"ISO-8859-1\")\n",
    "\n",
    "\n",
    "df = pd.read_csv(\"../Ressources/scenarii1.csv\", encoding=\"ISO-8859-1\", sep=\";\", header=0)\n",
    "tags = df['tag']\n",
    "data = CountVectorizer().fit_transform(df['texte']).toarray()\n",
    "#Commenter cette ligne pour avoir les occurences, et enlever le commentaire pour avoir les scores TF-IDF\n",
    "data = TfidfTransformer().fit_transform(data).toarray()\n",
    "\n"
   ]
  },
  {
   "cell_type": "code",
   "execution_count": 7,
   "metadata": {},
   "outputs": [
    {
     "name": "stdout",
     "output_type": "stream",
     "text": [
      "                                                  texte  tag\n",
      "0     4.\\tVersion Desktop - liste des cas d'utilisat...    1\n",
      "3     Cas dutilisation permettant à un internaute  ...    1\n",
      "4     \\tNotes :\\nLe système affiche les éléments su...    1\n",
      "8     Cas dutilisation permettant à un internaute  ...    1\n",
      "9     \\tNotes :\\nLe système affiche :\\nla langue sé...    1\n",
      "...                                                 ...  ...\n",
      "2374  Cas dutilisation décrivant la consultation du...    1\n",
      "2375  \\tNotes :\\nLe système affiche 2 menus déroula...    1\n",
      "2378           5.10.2.b\\tAfficher la liste des parcours    1\n",
      "2380  Cas dutilisation décrivant la consultation de...    1\n",
      "2381  \\tNotes :\\nLe système affiche la liste des pa...    1\n",
      "\n",
      "[1427 rows x 2 columns]\n"
     ]
    }
   ],
   "source": [
    "print(df_class_1)"
   ]
  },
  {
   "cell_type": "code",
   "execution_count": 9,
   "metadata": {},
   "outputs": [
    {
     "name": "stdout",
     "output_type": "stream",
     "text": [
      "                                       texte  tag\n",
      "2                        Acteur : Internaute    5\n",
      "7                        Acteur : Internaute    5\n",
      "13                       Acteur : Internaute    5\n",
      "17    Acteur : Administrateur / Contributeur    5\n",
      "21                       Acteur : Internaute    5\n",
      "...                                      ...  ...\n",
      "2355                     Acteur : Internaute    5\n",
      "2361                     Acteur : Internaute    5\n",
      "2367                     Acteur : Internaute    5\n",
      "2373                     Acteur : Internaute    5\n",
      "2379                     Acteur : Internaute    5\n",
      "\n",
      "[299 rows x 2 columns]\n"
     ]
    }
   ],
   "source": [
    "print(df_class_5)"
   ]
  },
  {
   "cell_type": "code",
   "execution_count": 10,
   "metadata": {},
   "outputs": [],
   "source": [
    "from sklearn.utils import resample\n",
    "# Downsample majority class\n",
    "df_majority_downsampled = resample(df_class_1, \n",
    "                                 replace=False,    # sample without replacement\n",
    "                                 n_samples=299)     # to match minority class\n",
    "                                 # reproducible results"
   ]
  },
  {
   "cell_type": "code",
   "execution_count": 11,
   "metadata": {},
   "outputs": [
    {
     "name": "stdout",
     "output_type": "stream",
     "text": [
      "                                                  texte  tag\n",
      "724   A la sélection dun panier existant, le systèm...    1\n",
      "1738  Cas dutilisation décrivant la consultation d...    1\n",
      "2289  Cas dutilisation décrivant la consultation d...    1\n",
      "330   Nom du champ\\t\\tType de champ\\tobligatoire\\tCo...    1\n",
      "1582  Actions\\n\\tLes champs concernés par les rebon...    1\n",
      "...                                                 ...  ...\n",
      "145                     Les champs propres à la vidéo :    1\n",
      "547   Cette page est affichée automatiquement et ne ...    1\n",
      "1895  \\tRègles de gestion\\nUn évènement saffiche d...    1\n",
      "2042  \\tNotes\\nLe système affiche le bloc En savoir...    1\n",
      "1123  Pour contribuer un sous-élément de type docume...    1\n",
      "\n",
      "[299 rows x 2 columns]\n"
     ]
    }
   ],
   "source": [
    "print(df_majority_downsampled)"
   ]
  },
  {
   "cell_type": "code",
   "execution_count": 12,
   "metadata": {},
   "outputs": [],
   "source": [
    "# Combine minority class with downsampled majority class\n",
    "df_downsampled = pd.concat([df_majority_downsampled, df_class_2, df_class_3, df_class_4, df_class_5])"
   ]
  },
  {
   "cell_type": "code",
   "execution_count": 13,
   "metadata": {},
   "outputs": [
    {
     "name": "stdout",
     "output_type": "stream",
     "text": [
      "                                                  texte  tag\n",
      "724   A la sélection dun panier existant, le systèm...    1\n",
      "1738  Cas dutilisation décrivant la consultation d...    1\n",
      "2289  Cas dutilisation décrivant la consultation d...    1\n",
      "330   Nom du champ\\t\\tType de champ\\tobligatoire\\tCo...    1\n",
      "1582  Actions\\n\\tLes champs concernés par les rebon...    1\n",
      "...                                                 ...  ...\n",
      "2355                                Acteur : Internaute    5\n",
      "2361                                Acteur : Internaute    5\n",
      "2367                                Acteur : Internaute    5\n",
      "2373                                Acteur : Internaute    5\n",
      "2379                                Acteur : Internaute    5\n",
      "\n",
      "[1254 rows x 2 columns]\n"
     ]
    }
   ],
   "source": [
    "print(df_downsampled)"
   ]
  },
  {
   "cell_type": "code",
   "execution_count": 14,
   "metadata": {},
   "outputs": [
    {
     "name": "stdout",
     "output_type": "stream",
     "text": [
      "0.9105579858100141\n",
      "0.8987427718480351\n",
      "0.9380797210238289\n"
     ]
    }
   ],
   "source": [
    "data = CountVectorizer().fit_transform(df['texte']).toarray()\n",
    "#Commenter cette ligne pour avoir les occurences, et enlever le commentaire pour avoir les scores TF-IDF\n",
    "data = TfidfTransformer().fit_transform(data).toarray()\n",
    "clf = svm.SVC(kernel='linear', C=1)\n",
    "scoring = {'accuracy': 'accuracy',\n",
    "           'prec': 'average_precision', \n",
    "           'recall': 'recall',\n",
    "           'f1_macro': 'f1_macro'}\n",
    "scores = cross_val_score(clf, data, tags, cv=5, scoring = 'f1_macro')\n",
    "print(np.mean(scores))\n",
    "scores = cross_val_score(clf, data, tags, cv=5, scoring = 'recall_macro')\n",
    "print(np.mean(scores))\n",
    "scores = cross_val_score(clf, data, tags, cv=5, scoring = 'precision_macro')\n",
    "print(np.mean(scores))"
   ]
  },
  {
   "cell_type": "code",
   "execution_count": 15,
   "metadata": {},
   "outputs": [
    {
     "ename": "NameError",
     "evalue": "name 'wv_train_feat' is not defined",
     "output_type": "error",
     "traceback": [
      "\u001b[1;31m---------------------------------------------------------------------------\u001b[0m",
      "\u001b[1;31mNameError\u001b[0m                                 Traceback (most recent call last)",
      "\u001b[1;32m<ipython-input-15-4700f2158204>\u001b[0m in \u001b[0;36m<module>\u001b[1;34m\u001b[0m\n\u001b[0;32m      1\u001b[0m \u001b[1;32mfrom\u001b[0m \u001b[0msklearn\u001b[0m\u001b[1;33m.\u001b[0m\u001b[0mensemble\u001b[0m \u001b[1;32mimport\u001b[0m \u001b[0mRandomForestClassifier\u001b[0m\u001b[1;33m\u001b[0m\u001b[1;33m\u001b[0m\u001b[0m\n\u001b[0;32m      2\u001b[0m \u001b[0mclf\u001b[0m \u001b[1;33m=\u001b[0m \u001b[0mRandomForestClassifier\u001b[0m\u001b[1;33m(\u001b[0m\u001b[0mn_estimators\u001b[0m\u001b[1;33m=\u001b[0m\u001b[1;36m50\u001b[0m\u001b[1;33m)\u001b[0m\u001b[1;33m\u001b[0m\u001b[1;33m\u001b[0m\u001b[0m\n\u001b[1;32m----> 3\u001b[1;33m \u001b[0mclf\u001b[0m\u001b[1;33m.\u001b[0m\u001b[0mfit\u001b[0m\u001b[1;33m(\u001b[0m\u001b[0mwv_train_feat\u001b[0m\u001b[1;33m,\u001b[0m \u001b[0my_train\u001b[0m\u001b[1;33m)\u001b[0m\u001b[1;33m\u001b[0m\u001b[1;33m\u001b[0m\u001b[0m\n\u001b[0m",
      "\u001b[1;31mNameError\u001b[0m: name 'wv_train_feat' is not defined"
     ]
    }
   ],
   "source": [
    "from sklearn.ensemble import RandomForestClassifier\n",
    "clf = RandomForestClassifier(n_estimators=50)\n",
    "clf.fit(wv_train_feat, y_train)"
   ]
  },
  {
   "cell_type": "code",
   "execution_count": 19,
   "metadata": {},
   "outputs": [
    {
     "name": "stdout",
     "output_type": "stream",
     "text": [
      "0.9452993604980184\n",
      "0.946837158084259\n",
      "0.9474280743742703\n"
     ]
    }
   ],
   "source": [
    "data1 = CountVectorizer().fit_transform(df_downsampled['texte']).toarray()\n",
    "tags1= df_downsampled['tag']\n",
    "#Commenter cette ligne pour avoir les occurences, et enlever le commentaire pour avoir les scores TF-IDF\n",
    "data1 = TfidfTransformer().fit_transform(data1).toarray()\n",
    "clf = svm.SVC(kernel='linear', C=1)\n",
    "scoring = {'accuracy': 'accuracy',\n",
    "           'prec': 'average_precision', \n",
    "           'recall': 'recall',\n",
    "           'f1_macro': 'f1_macro'}\n",
    "scores = cross_val_score(clf, data1, tags1, cv=5, scoring = 'f1_macro')\n",
    "print(np.mean(scores))\n",
    "scores = cross_val_score(clf, data1, tags1, cv=5, scoring = 'recall_macro')\n",
    "print(np.mean(scores))\n",
    "scores = cross_val_score(clf, data1, tags1, cv=5, scoring = 'precision_macro')\n",
    "print(np.mean(scores))"
   ]
  },
  {
   "cell_type": "code",
   "execution_count": 20,
   "metadata": {},
   "outputs": [
    {
     "data": {
      "text/plain": [
       "(array([0, 1, 2, 3, 4]), <a list of 5 Text xticklabel objects>)"
      ]
     },
     "execution_count": 20,
     "metadata": {},
     "output_type": "execute_result"
    },
    {
     "data": {
      "image/png": "[encoded data removed]",
      "text/plain": [
       "<Figure size 1080x504 with 1 Axes>"
      ]
     },
     "metadata": {
      "needs_background": "light"
     },
     "output_type": "display_data"
    }
   ],
   "source": [
    "import seaborn as sns\n",
    "import matplotlib.pyplot as plt\n",
    "plt.figure(figsize=(15,7))\n",
    "sns.countplot(x= tags1, color='red')\n",
    "plt.title('distribution of Tags', fontsize=20)\n",
    "plt.ylabel('Cumul', fontsize=13)\n",
    "plt.xlabel('les catégories', fontsize=13)\n",
    "plt.xticks(rotation='vertical')"
   ]
  },
  {
   "cell_type": "code",
   "execution_count": null,
   "metadata": {},
   "outputs": [],
   "source": []
  }
 ],
 "metadata": {
  "kernelspec": {
   "display_name": "Python 3",
   "language": "python",
   "name": "python3"
  },
  "language_info": {
   "codemirror_mode": {
    "name": "ipython",
    "version": 3
   },
   "file_extension": ".py",
   "mimetype": "text/x-python",
   "name": "python",
   "nbconvert_exporter": "python",
   "pygments_lexer": "ipython3",
   "version": "3.7.3"
  }
 },
 "nbformat": 4,
 "nbformat_minor": 2
}
